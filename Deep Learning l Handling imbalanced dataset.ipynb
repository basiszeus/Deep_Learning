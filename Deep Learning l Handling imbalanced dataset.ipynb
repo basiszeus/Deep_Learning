{
 "cells": [
  {
   "cell_type": "markdown",
   "id": "06d41970",
   "metadata": {},
   "source": [
    "Customer churn is a measure that reflects the health of your business, mainly your customer's loyalty over time."
   ]
  },
  {
   "cell_type": "markdown",
   "id": "bef63550",
   "metadata": {},
   "source": [
    "We will use a data available on Kaggle on the following link : https://www.kaggle.com/datasets/blastchar/telco-customer-churn?resource=download"
   ]
  },
  {
   "cell_type": "code",
   "execution_count": 1,
   "id": "33a0078f",
   "metadata": {},
   "outputs": [],
   "source": [
    "import pandas as pd\n",
    "import seaborn as sns\n",
    "import matplotlib.pyplot as plt"
   ]
  },
  {
   "cell_type": "code",
   "execution_count": 2,
   "id": "0932acd3",
   "metadata": {},
   "outputs": [
    {
     "data": {
      "text/html": [
       "<div>\n",
       "<style scoped>\n",
       "    .dataframe tbody tr th:only-of-type {\n",
       "        vertical-align: middle;\n",
       "    }\n",
       "\n",
       "    .dataframe tbody tr th {\n",
       "        vertical-align: top;\n",
       "    }\n",
       "\n",
       "    .dataframe thead th {\n",
       "        text-align: right;\n",
       "    }\n",
       "</style>\n",
       "<table border=\"1\" class=\"dataframe\">\n",
       "  <thead>\n",
       "    <tr style=\"text-align: right;\">\n",
       "      <th></th>\n",
       "      <th>customerID</th>\n",
       "      <th>gender</th>\n",
       "      <th>SeniorCitizen</th>\n",
       "      <th>Partner</th>\n",
       "      <th>Dependents</th>\n",
       "      <th>tenure</th>\n",
       "      <th>PhoneService</th>\n",
       "      <th>MultipleLines</th>\n",
       "      <th>InternetService</th>\n",
       "      <th>OnlineSecurity</th>\n",
       "      <th>...</th>\n",
       "      <th>DeviceProtection</th>\n",
       "      <th>TechSupport</th>\n",
       "      <th>StreamingTV</th>\n",
       "      <th>StreamingMovies</th>\n",
       "      <th>Contract</th>\n",
       "      <th>PaperlessBilling</th>\n",
       "      <th>PaymentMethod</th>\n",
       "      <th>MonthlyCharges</th>\n",
       "      <th>TotalCharges</th>\n",
       "      <th>Churn</th>\n",
       "    </tr>\n",
       "  </thead>\n",
       "  <tbody>\n",
       "    <tr>\n",
       "      <th>0</th>\n",
       "      <td>7590-VHVEG</td>\n",
       "      <td>Female</td>\n",
       "      <td>0</td>\n",
       "      <td>Yes</td>\n",
       "      <td>No</td>\n",
       "      <td>1</td>\n",
       "      <td>No</td>\n",
       "      <td>No phone service</td>\n",
       "      <td>DSL</td>\n",
       "      <td>No</td>\n",
       "      <td>...</td>\n",
       "      <td>No</td>\n",
       "      <td>No</td>\n",
       "      <td>No</td>\n",
       "      <td>No</td>\n",
       "      <td>Month-to-month</td>\n",
       "      <td>Yes</td>\n",
       "      <td>Electronic check</td>\n",
       "      <td>29.85</td>\n",
       "      <td>29.85</td>\n",
       "      <td>No</td>\n",
       "    </tr>\n",
       "    <tr>\n",
       "      <th>1</th>\n",
       "      <td>5575-GNVDE</td>\n",
       "      <td>Male</td>\n",
       "      <td>0</td>\n",
       "      <td>No</td>\n",
       "      <td>No</td>\n",
       "      <td>34</td>\n",
       "      <td>Yes</td>\n",
       "      <td>No</td>\n",
       "      <td>DSL</td>\n",
       "      <td>Yes</td>\n",
       "      <td>...</td>\n",
       "      <td>Yes</td>\n",
       "      <td>No</td>\n",
       "      <td>No</td>\n",
       "      <td>No</td>\n",
       "      <td>One year</td>\n",
       "      <td>No</td>\n",
       "      <td>Mailed check</td>\n",
       "      <td>56.95</td>\n",
       "      <td>1889.5</td>\n",
       "      <td>No</td>\n",
       "    </tr>\n",
       "    <tr>\n",
       "      <th>2</th>\n",
       "      <td>3668-QPYBK</td>\n",
       "      <td>Male</td>\n",
       "      <td>0</td>\n",
       "      <td>No</td>\n",
       "      <td>No</td>\n",
       "      <td>2</td>\n",
       "      <td>Yes</td>\n",
       "      <td>No</td>\n",
       "      <td>DSL</td>\n",
       "      <td>Yes</td>\n",
       "      <td>...</td>\n",
       "      <td>No</td>\n",
       "      <td>No</td>\n",
       "      <td>No</td>\n",
       "      <td>No</td>\n",
       "      <td>Month-to-month</td>\n",
       "      <td>Yes</td>\n",
       "      <td>Mailed check</td>\n",
       "      <td>53.85</td>\n",
       "      <td>108.15</td>\n",
       "      <td>Yes</td>\n",
       "    </tr>\n",
       "    <tr>\n",
       "      <th>3</th>\n",
       "      <td>7795-CFOCW</td>\n",
       "      <td>Male</td>\n",
       "      <td>0</td>\n",
       "      <td>No</td>\n",
       "      <td>No</td>\n",
       "      <td>45</td>\n",
       "      <td>No</td>\n",
       "      <td>No phone service</td>\n",
       "      <td>DSL</td>\n",
       "      <td>Yes</td>\n",
       "      <td>...</td>\n",
       "      <td>Yes</td>\n",
       "      <td>Yes</td>\n",
       "      <td>No</td>\n",
       "      <td>No</td>\n",
       "      <td>One year</td>\n",
       "      <td>No</td>\n",
       "      <td>Bank transfer (automatic)</td>\n",
       "      <td>42.30</td>\n",
       "      <td>1840.75</td>\n",
       "      <td>No</td>\n",
       "    </tr>\n",
       "    <tr>\n",
       "      <th>4</th>\n",
       "      <td>9237-HQITU</td>\n",
       "      <td>Female</td>\n",
       "      <td>0</td>\n",
       "      <td>No</td>\n",
       "      <td>No</td>\n",
       "      <td>2</td>\n",
       "      <td>Yes</td>\n",
       "      <td>No</td>\n",
       "      <td>Fiber optic</td>\n",
       "      <td>No</td>\n",
       "      <td>...</td>\n",
       "      <td>No</td>\n",
       "      <td>No</td>\n",
       "      <td>No</td>\n",
       "      <td>No</td>\n",
       "      <td>Month-to-month</td>\n",
       "      <td>Yes</td>\n",
       "      <td>Electronic check</td>\n",
       "      <td>70.70</td>\n",
       "      <td>151.65</td>\n",
       "      <td>Yes</td>\n",
       "    </tr>\n",
       "    <tr>\n",
       "      <th>...</th>\n",
       "      <td>...</td>\n",
       "      <td>...</td>\n",
       "      <td>...</td>\n",
       "      <td>...</td>\n",
       "      <td>...</td>\n",
       "      <td>...</td>\n",
       "      <td>...</td>\n",
       "      <td>...</td>\n",
       "      <td>...</td>\n",
       "      <td>...</td>\n",
       "      <td>...</td>\n",
       "      <td>...</td>\n",
       "      <td>...</td>\n",
       "      <td>...</td>\n",
       "      <td>...</td>\n",
       "      <td>...</td>\n",
       "      <td>...</td>\n",
       "      <td>...</td>\n",
       "      <td>...</td>\n",
       "      <td>...</td>\n",
       "      <td>...</td>\n",
       "    </tr>\n",
       "    <tr>\n",
       "      <th>7038</th>\n",
       "      <td>6840-RESVB</td>\n",
       "      <td>Male</td>\n",
       "      <td>0</td>\n",
       "      <td>Yes</td>\n",
       "      <td>Yes</td>\n",
       "      <td>24</td>\n",
       "      <td>Yes</td>\n",
       "      <td>Yes</td>\n",
       "      <td>DSL</td>\n",
       "      <td>Yes</td>\n",
       "      <td>...</td>\n",
       "      <td>Yes</td>\n",
       "      <td>Yes</td>\n",
       "      <td>Yes</td>\n",
       "      <td>Yes</td>\n",
       "      <td>One year</td>\n",
       "      <td>Yes</td>\n",
       "      <td>Mailed check</td>\n",
       "      <td>84.80</td>\n",
       "      <td>1990.5</td>\n",
       "      <td>No</td>\n",
       "    </tr>\n",
       "    <tr>\n",
       "      <th>7039</th>\n",
       "      <td>2234-XADUH</td>\n",
       "      <td>Female</td>\n",
       "      <td>0</td>\n",
       "      <td>Yes</td>\n",
       "      <td>Yes</td>\n",
       "      <td>72</td>\n",
       "      <td>Yes</td>\n",
       "      <td>Yes</td>\n",
       "      <td>Fiber optic</td>\n",
       "      <td>No</td>\n",
       "      <td>...</td>\n",
       "      <td>Yes</td>\n",
       "      <td>No</td>\n",
       "      <td>Yes</td>\n",
       "      <td>Yes</td>\n",
       "      <td>One year</td>\n",
       "      <td>Yes</td>\n",
       "      <td>Credit card (automatic)</td>\n",
       "      <td>103.20</td>\n",
       "      <td>7362.9</td>\n",
       "      <td>No</td>\n",
       "    </tr>\n",
       "    <tr>\n",
       "      <th>7040</th>\n",
       "      <td>4801-JZAZL</td>\n",
       "      <td>Female</td>\n",
       "      <td>0</td>\n",
       "      <td>Yes</td>\n",
       "      <td>Yes</td>\n",
       "      <td>11</td>\n",
       "      <td>No</td>\n",
       "      <td>No phone service</td>\n",
       "      <td>DSL</td>\n",
       "      <td>Yes</td>\n",
       "      <td>...</td>\n",
       "      <td>No</td>\n",
       "      <td>No</td>\n",
       "      <td>No</td>\n",
       "      <td>No</td>\n",
       "      <td>Month-to-month</td>\n",
       "      <td>Yes</td>\n",
       "      <td>Electronic check</td>\n",
       "      <td>29.60</td>\n",
       "      <td>346.45</td>\n",
       "      <td>No</td>\n",
       "    </tr>\n",
       "    <tr>\n",
       "      <th>7041</th>\n",
       "      <td>8361-LTMKD</td>\n",
       "      <td>Male</td>\n",
       "      <td>1</td>\n",
       "      <td>Yes</td>\n",
       "      <td>No</td>\n",
       "      <td>4</td>\n",
       "      <td>Yes</td>\n",
       "      <td>Yes</td>\n",
       "      <td>Fiber optic</td>\n",
       "      <td>No</td>\n",
       "      <td>...</td>\n",
       "      <td>No</td>\n",
       "      <td>No</td>\n",
       "      <td>No</td>\n",
       "      <td>No</td>\n",
       "      <td>Month-to-month</td>\n",
       "      <td>Yes</td>\n",
       "      <td>Mailed check</td>\n",
       "      <td>74.40</td>\n",
       "      <td>306.6</td>\n",
       "      <td>Yes</td>\n",
       "    </tr>\n",
       "    <tr>\n",
       "      <th>7042</th>\n",
       "      <td>3186-AJIEK</td>\n",
       "      <td>Male</td>\n",
       "      <td>0</td>\n",
       "      <td>No</td>\n",
       "      <td>No</td>\n",
       "      <td>66</td>\n",
       "      <td>Yes</td>\n",
       "      <td>No</td>\n",
       "      <td>Fiber optic</td>\n",
       "      <td>Yes</td>\n",
       "      <td>...</td>\n",
       "      <td>Yes</td>\n",
       "      <td>Yes</td>\n",
       "      <td>Yes</td>\n",
       "      <td>Yes</td>\n",
       "      <td>Two year</td>\n",
       "      <td>Yes</td>\n",
       "      <td>Bank transfer (automatic)</td>\n",
       "      <td>105.65</td>\n",
       "      <td>6844.5</td>\n",
       "      <td>No</td>\n",
       "    </tr>\n",
       "  </tbody>\n",
       "</table>\n",
       "<p>7043 rows × 21 columns</p>\n",
       "</div>"
      ],
      "text/plain": [
       "      customerID  gender  SeniorCitizen Partner Dependents  tenure  \\\n",
       "0     7590-VHVEG  Female              0     Yes         No       1   \n",
       "1     5575-GNVDE    Male              0      No         No      34   \n",
       "2     3668-QPYBK    Male              0      No         No       2   \n",
       "3     7795-CFOCW    Male              0      No         No      45   \n",
       "4     9237-HQITU  Female              0      No         No       2   \n",
       "...          ...     ...            ...     ...        ...     ...   \n",
       "7038  6840-RESVB    Male              0     Yes        Yes      24   \n",
       "7039  2234-XADUH  Female              0     Yes        Yes      72   \n",
       "7040  4801-JZAZL  Female              0     Yes        Yes      11   \n",
       "7041  8361-LTMKD    Male              1     Yes         No       4   \n",
       "7042  3186-AJIEK    Male              0      No         No      66   \n",
       "\n",
       "     PhoneService     MultipleLines InternetService OnlineSecurity  ...  \\\n",
       "0              No  No phone service             DSL             No  ...   \n",
       "1             Yes                No             DSL            Yes  ...   \n",
       "2             Yes                No             DSL            Yes  ...   \n",
       "3              No  No phone service             DSL            Yes  ...   \n",
       "4             Yes                No     Fiber optic             No  ...   \n",
       "...           ...               ...             ...            ...  ...   \n",
       "7038          Yes               Yes             DSL            Yes  ...   \n",
       "7039          Yes               Yes     Fiber optic             No  ...   \n",
       "7040           No  No phone service             DSL            Yes  ...   \n",
       "7041          Yes               Yes     Fiber optic             No  ...   \n",
       "7042          Yes                No     Fiber optic            Yes  ...   \n",
       "\n",
       "     DeviceProtection TechSupport StreamingTV StreamingMovies        Contract  \\\n",
       "0                  No          No          No              No  Month-to-month   \n",
       "1                 Yes          No          No              No        One year   \n",
       "2                  No          No          No              No  Month-to-month   \n",
       "3                 Yes         Yes          No              No        One year   \n",
       "4                  No          No          No              No  Month-to-month   \n",
       "...               ...         ...         ...             ...             ...   \n",
       "7038              Yes         Yes         Yes             Yes        One year   \n",
       "7039              Yes          No         Yes             Yes        One year   \n",
       "7040               No          No          No              No  Month-to-month   \n",
       "7041               No          No          No              No  Month-to-month   \n",
       "7042              Yes         Yes         Yes             Yes        Two year   \n",
       "\n",
       "     PaperlessBilling              PaymentMethod MonthlyCharges  TotalCharges  \\\n",
       "0                 Yes           Electronic check          29.85         29.85   \n",
       "1                  No               Mailed check          56.95        1889.5   \n",
       "2                 Yes               Mailed check          53.85        108.15   \n",
       "3                  No  Bank transfer (automatic)          42.30       1840.75   \n",
       "4                 Yes           Electronic check          70.70        151.65   \n",
       "...               ...                        ...            ...           ...   \n",
       "7038              Yes               Mailed check          84.80        1990.5   \n",
       "7039              Yes    Credit card (automatic)         103.20        7362.9   \n",
       "7040              Yes           Electronic check          29.60        346.45   \n",
       "7041              Yes               Mailed check          74.40         306.6   \n",
       "7042              Yes  Bank transfer (automatic)         105.65        6844.5   \n",
       "\n",
       "     Churn  \n",
       "0       No  \n",
       "1       No  \n",
       "2      Yes  \n",
       "3       No  \n",
       "4      Yes  \n",
       "...    ...  \n",
       "7038    No  \n",
       "7039    No  \n",
       "7040    No  \n",
       "7041   Yes  \n",
       "7042    No  \n",
       "\n",
       "[7043 rows x 21 columns]"
      ]
     },
     "execution_count": 2,
     "metadata": {},
     "output_type": "execute_result"
    }
   ],
   "source": [
    "df = pd.read_csv('churn.csv')\n",
    "df"
   ]
  },
  {
   "cell_type": "code",
   "execution_count": 3,
   "id": "f5125282",
   "metadata": {},
   "outputs": [
    {
     "data": {
      "text/plain": [
       "(7043, 21)"
      ]
     },
     "execution_count": 3,
     "metadata": {},
     "output_type": "execute_result"
    }
   ],
   "source": [
    "df.shape"
   ]
  },
  {
   "cell_type": "markdown",
   "id": "84937df9",
   "metadata": {},
   "source": [
    "If we look at the document we see that there are various columns, some are useless and others require a change (encoding) to facilitate processing"
   ]
  },
  {
   "cell_type": "markdown",
   "id": "3f0bbd8d",
   "metadata": {},
   "source": [
    "customerID is useless"
   ]
  },
  {
   "cell_type": "code",
   "execution_count": 4,
   "id": "b3e78df6",
   "metadata": {},
   "outputs": [],
   "source": [
    "df.drop('customerID',axis=1,inplace=True) #Delete customer ID"
   ]
  },
  {
   "cell_type": "code",
   "execution_count": 5,
   "id": "b1d70ea1",
   "metadata": {},
   "outputs": [
    {
     "data": {
      "text/plain": [
       "gender               object\n",
       "SeniorCitizen         int64\n",
       "Partner              object\n",
       "Dependents           object\n",
       "tenure                int64\n",
       "PhoneService         object\n",
       "MultipleLines        object\n",
       "InternetService      object\n",
       "OnlineSecurity       object\n",
       "OnlineBackup         object\n",
       "DeviceProtection     object\n",
       "TechSupport          object\n",
       "StreamingTV          object\n",
       "StreamingMovies      object\n",
       "Contract             object\n",
       "PaperlessBilling     object\n",
       "PaymentMethod        object\n",
       "MonthlyCharges      float64\n",
       "TotalCharges         object\n",
       "Churn                object\n",
       "dtype: object"
      ]
     },
     "execution_count": 5,
     "metadata": {},
     "output_type": "execute_result"
    }
   ],
   "source": [
    "df.dtypes #Column data type"
   ]
  },
  {
   "cell_type": "markdown",
   "id": "c88e5704",
   "metadata": {},
   "source": [
    "### MonthlyCharges vs TotalCharges "
   ]
  },
  {
   "cell_type": "markdown",
   "id": "75edfd4a",
   "metadata": {},
   "source": [
    "We have MonthlyCharges  float data type while TotalCharges a list! we need to change the TotalCharges to float too"
   ]
  },
  {
   "cell_type": "code",
   "execution_count": 6,
   "id": "1e18824c",
   "metadata": {},
   "outputs": [
    {
     "data": {
      "text/plain": [
       "array(['29.85', '1889.5', '108.15', ..., '346.45', '306.6', '6844.5'],\n",
       "      dtype=object)"
      ]
     },
     "execution_count": 6,
     "metadata": {},
     "output_type": "execute_result"
    }
   ],
   "source": [
    "df.TotalCharges.values"
   ]
  },
  {
   "cell_type": "code",
   "execution_count": 7,
   "id": "4446ecb3",
   "metadata": {},
   "outputs": [
    {
     "data": {
      "text/plain": [
       "array([ 29.85,  56.95,  53.85, ...,  29.6 ,  74.4 , 105.65])"
      ]
     },
     "execution_count": 7,
     "metadata": {},
     "output_type": "execute_result"
    }
   ],
   "source": [
    "df.MonthlyCharges.values"
   ]
  },
  {
   "cell_type": "markdown",
   "id": "397a1c59",
   "metadata": {},
   "source": [
    "Convert TotalCharges to numeric values"
   ]
  },
  {
   "cell_type": "code",
   "execution_count": 8,
   "id": "5018681d",
   "metadata": {
    "scrolled": true
   },
   "outputs": [
    {
     "ename": "ValueError",
     "evalue": "Unable to parse string \" \" at position 488",
     "output_type": "error",
     "traceback": [
      "\u001b[1;31m---------------------------------------------------------------------------\u001b[0m",
      "\u001b[1;31mValueError\u001b[0m                                Traceback (most recent call last)",
      "File \u001b[1;32m~\\anaconda3\\envs\\dl\\lib\\site-packages\\pandas\\_libs\\lib.pyx:2315\u001b[0m, in \u001b[0;36mpandas._libs.lib.maybe_convert_numeric\u001b[1;34m()\u001b[0m\n",
      "\u001b[1;31mValueError\u001b[0m: Unable to parse string \" \"",
      "\nDuring handling of the above exception, another exception occurred:\n",
      "\u001b[1;31mValueError\u001b[0m                                Traceback (most recent call last)",
      "Input \u001b[1;32mIn [8]\u001b[0m, in \u001b[0;36m<cell line: 1>\u001b[1;34m()\u001b[0m\n\u001b[1;32m----> 1\u001b[0m \u001b[43mpd\u001b[49m\u001b[38;5;241;43m.\u001b[39;49m\u001b[43mto_numeric\u001b[49m\u001b[43m(\u001b[49m\u001b[43mdf\u001b[49m\u001b[38;5;241;43m.\u001b[39;49m\u001b[43mTotalCharges\u001b[49m\u001b[43m)\u001b[49m\n",
      "File \u001b[1;32m~\\anaconda3\\envs\\dl\\lib\\site-packages\\pandas\\core\\tools\\numeric.py:184\u001b[0m, in \u001b[0;36mto_numeric\u001b[1;34m(arg, errors, downcast)\u001b[0m\n\u001b[0;32m    182\u001b[0m coerce_numeric \u001b[38;5;241m=\u001b[39m errors \u001b[38;5;129;01mnot\u001b[39;00m \u001b[38;5;129;01min\u001b[39;00m (\u001b[38;5;124m\"\u001b[39m\u001b[38;5;124mignore\u001b[39m\u001b[38;5;124m\"\u001b[39m, \u001b[38;5;124m\"\u001b[39m\u001b[38;5;124mraise\u001b[39m\u001b[38;5;124m\"\u001b[39m)\n\u001b[0;32m    183\u001b[0m \u001b[38;5;28;01mtry\u001b[39;00m:\n\u001b[1;32m--> 184\u001b[0m     values, _ \u001b[38;5;241m=\u001b[39m \u001b[43mlib\u001b[49m\u001b[38;5;241;43m.\u001b[39;49m\u001b[43mmaybe_convert_numeric\u001b[49m\u001b[43m(\u001b[49m\n\u001b[0;32m    185\u001b[0m \u001b[43m        \u001b[49m\u001b[43mvalues\u001b[49m\u001b[43m,\u001b[49m\u001b[43m \u001b[49m\u001b[38;5;28;43mset\u001b[39;49m\u001b[43m(\u001b[49m\u001b[43m)\u001b[49m\u001b[43m,\u001b[49m\u001b[43m \u001b[49m\u001b[43mcoerce_numeric\u001b[49m\u001b[38;5;241;43m=\u001b[39;49m\u001b[43mcoerce_numeric\u001b[49m\n\u001b[0;32m    186\u001b[0m \u001b[43m    \u001b[49m\u001b[43m)\u001b[49m\n\u001b[0;32m    187\u001b[0m \u001b[38;5;28;01mexcept\u001b[39;00m (\u001b[38;5;167;01mValueError\u001b[39;00m, \u001b[38;5;167;01mTypeError\u001b[39;00m):\n\u001b[0;32m    188\u001b[0m     \u001b[38;5;28;01mif\u001b[39;00m errors \u001b[38;5;241m==\u001b[39m \u001b[38;5;124m\"\u001b[39m\u001b[38;5;124mraise\u001b[39m\u001b[38;5;124m\"\u001b[39m:\n",
      "File \u001b[1;32m~\\anaconda3\\envs\\dl\\lib\\site-packages\\pandas\\_libs\\lib.pyx:2357\u001b[0m, in \u001b[0;36mpandas._libs.lib.maybe_convert_numeric\u001b[1;34m()\u001b[0m\n",
      "\u001b[1;31mValueError\u001b[0m: Unable to parse string \" \" at position 488"
     ]
    }
   ],
   "source": [
    "pd.to_numeric(df.TotalCharges)"
   ]
  },
  {
   "cell_type": "markdown",
   "id": "b63fb8c0",
   "metadata": {},
   "source": [
    "You can't because some values have spaces, so we need to delete them"
   ]
  },
  {
   "cell_type": "markdown",
   "id": "214adeac",
   "metadata": {},
   "source": [
    "First, we will apply the same thing and ignore the error"
   ]
  },
  {
   "cell_type": "code",
   "execution_count": 9,
   "id": "dd2483e5",
   "metadata": {},
   "outputs": [
    {
     "data": {
      "text/plain": [
       "0         29.85\n",
       "1       1889.50\n",
       "2        108.15\n",
       "3       1840.75\n",
       "4        151.65\n",
       "         ...   \n",
       "7038    1990.50\n",
       "7039    7362.90\n",
       "7040     346.45\n",
       "7041     306.60\n",
       "7042    6844.50\n",
       "Name: TotalCharges, Length: 7043, dtype: float64"
      ]
     },
     "execution_count": 9,
     "metadata": {},
     "output_type": "execute_result"
    }
   ],
   "source": [
    "pd.to_numeric(df.TotalCharges,errors='coerce')"
   ]
  },
  {
   "cell_type": "markdown",
   "id": "38753d23",
   "metadata": {},
   "source": [
    "we will look at only the variable who got space"
   ]
  },
  {
   "cell_type": "code",
   "execution_count": 10,
   "id": "e0d4d155",
   "metadata": {},
   "outputs": [
    {
     "data": {
      "text/html": [
       "<div>\n",
       "<style scoped>\n",
       "    .dataframe tbody tr th:only-of-type {\n",
       "        vertical-align: middle;\n",
       "    }\n",
       "\n",
       "    .dataframe tbody tr th {\n",
       "        vertical-align: top;\n",
       "    }\n",
       "\n",
       "    .dataframe thead th {\n",
       "        text-align: right;\n",
       "    }\n",
       "</style>\n",
       "<table border=\"1\" class=\"dataframe\">\n",
       "  <thead>\n",
       "    <tr style=\"text-align: right;\">\n",
       "      <th></th>\n",
       "      <th>gender</th>\n",
       "      <th>SeniorCitizen</th>\n",
       "      <th>Partner</th>\n",
       "      <th>Dependents</th>\n",
       "      <th>tenure</th>\n",
       "      <th>PhoneService</th>\n",
       "      <th>MultipleLines</th>\n",
       "      <th>InternetService</th>\n",
       "      <th>OnlineSecurity</th>\n",
       "      <th>OnlineBackup</th>\n",
       "      <th>DeviceProtection</th>\n",
       "      <th>TechSupport</th>\n",
       "      <th>StreamingTV</th>\n",
       "      <th>StreamingMovies</th>\n",
       "      <th>Contract</th>\n",
       "      <th>PaperlessBilling</th>\n",
       "      <th>PaymentMethod</th>\n",
       "      <th>MonthlyCharges</th>\n",
       "      <th>TotalCharges</th>\n",
       "      <th>Churn</th>\n",
       "    </tr>\n",
       "  </thead>\n",
       "  <tbody>\n",
       "    <tr>\n",
       "      <th>488</th>\n",
       "      <td>Female</td>\n",
       "      <td>0</td>\n",
       "      <td>Yes</td>\n",
       "      <td>Yes</td>\n",
       "      <td>0</td>\n",
       "      <td>No</td>\n",
       "      <td>No phone service</td>\n",
       "      <td>DSL</td>\n",
       "      <td>Yes</td>\n",
       "      <td>No</td>\n",
       "      <td>Yes</td>\n",
       "      <td>Yes</td>\n",
       "      <td>Yes</td>\n",
       "      <td>No</td>\n",
       "      <td>Two year</td>\n",
       "      <td>Yes</td>\n",
       "      <td>Bank transfer (automatic)</td>\n",
       "      <td>52.55</td>\n",
       "      <td></td>\n",
       "      <td>No</td>\n",
       "    </tr>\n",
       "    <tr>\n",
       "      <th>753</th>\n",
       "      <td>Male</td>\n",
       "      <td>0</td>\n",
       "      <td>No</td>\n",
       "      <td>Yes</td>\n",
       "      <td>0</td>\n",
       "      <td>Yes</td>\n",
       "      <td>No</td>\n",
       "      <td>No</td>\n",
       "      <td>No internet service</td>\n",
       "      <td>No internet service</td>\n",
       "      <td>No internet service</td>\n",
       "      <td>No internet service</td>\n",
       "      <td>No internet service</td>\n",
       "      <td>No internet service</td>\n",
       "      <td>Two year</td>\n",
       "      <td>No</td>\n",
       "      <td>Mailed check</td>\n",
       "      <td>20.25</td>\n",
       "      <td></td>\n",
       "      <td>No</td>\n",
       "    </tr>\n",
       "    <tr>\n",
       "      <th>936</th>\n",
       "      <td>Female</td>\n",
       "      <td>0</td>\n",
       "      <td>Yes</td>\n",
       "      <td>Yes</td>\n",
       "      <td>0</td>\n",
       "      <td>Yes</td>\n",
       "      <td>No</td>\n",
       "      <td>DSL</td>\n",
       "      <td>Yes</td>\n",
       "      <td>Yes</td>\n",
       "      <td>Yes</td>\n",
       "      <td>No</td>\n",
       "      <td>Yes</td>\n",
       "      <td>Yes</td>\n",
       "      <td>Two year</td>\n",
       "      <td>No</td>\n",
       "      <td>Mailed check</td>\n",
       "      <td>80.85</td>\n",
       "      <td></td>\n",
       "      <td>No</td>\n",
       "    </tr>\n",
       "    <tr>\n",
       "      <th>1082</th>\n",
       "      <td>Male</td>\n",
       "      <td>0</td>\n",
       "      <td>Yes</td>\n",
       "      <td>Yes</td>\n",
       "      <td>0</td>\n",
       "      <td>Yes</td>\n",
       "      <td>Yes</td>\n",
       "      <td>No</td>\n",
       "      <td>No internet service</td>\n",
       "      <td>No internet service</td>\n",
       "      <td>No internet service</td>\n",
       "      <td>No internet service</td>\n",
       "      <td>No internet service</td>\n",
       "      <td>No internet service</td>\n",
       "      <td>Two year</td>\n",
       "      <td>No</td>\n",
       "      <td>Mailed check</td>\n",
       "      <td>25.75</td>\n",
       "      <td></td>\n",
       "      <td>No</td>\n",
       "    </tr>\n",
       "    <tr>\n",
       "      <th>1340</th>\n",
       "      <td>Female</td>\n",
       "      <td>0</td>\n",
       "      <td>Yes</td>\n",
       "      <td>Yes</td>\n",
       "      <td>0</td>\n",
       "      <td>No</td>\n",
       "      <td>No phone service</td>\n",
       "      <td>DSL</td>\n",
       "      <td>Yes</td>\n",
       "      <td>Yes</td>\n",
       "      <td>Yes</td>\n",
       "      <td>Yes</td>\n",
       "      <td>Yes</td>\n",
       "      <td>No</td>\n",
       "      <td>Two year</td>\n",
       "      <td>No</td>\n",
       "      <td>Credit card (automatic)</td>\n",
       "      <td>56.05</td>\n",
       "      <td></td>\n",
       "      <td>No</td>\n",
       "    </tr>\n",
       "    <tr>\n",
       "      <th>3331</th>\n",
       "      <td>Male</td>\n",
       "      <td>0</td>\n",
       "      <td>Yes</td>\n",
       "      <td>Yes</td>\n",
       "      <td>0</td>\n",
       "      <td>Yes</td>\n",
       "      <td>No</td>\n",
       "      <td>No</td>\n",
       "      <td>No internet service</td>\n",
       "      <td>No internet service</td>\n",
       "      <td>No internet service</td>\n",
       "      <td>No internet service</td>\n",
       "      <td>No internet service</td>\n",
       "      <td>No internet service</td>\n",
       "      <td>Two year</td>\n",
       "      <td>No</td>\n",
       "      <td>Mailed check</td>\n",
       "      <td>19.85</td>\n",
       "      <td></td>\n",
       "      <td>No</td>\n",
       "    </tr>\n",
       "    <tr>\n",
       "      <th>3826</th>\n",
       "      <td>Male</td>\n",
       "      <td>0</td>\n",
       "      <td>Yes</td>\n",
       "      <td>Yes</td>\n",
       "      <td>0</td>\n",
       "      <td>Yes</td>\n",
       "      <td>Yes</td>\n",
       "      <td>No</td>\n",
       "      <td>No internet service</td>\n",
       "      <td>No internet service</td>\n",
       "      <td>No internet service</td>\n",
       "      <td>No internet service</td>\n",
       "      <td>No internet service</td>\n",
       "      <td>No internet service</td>\n",
       "      <td>Two year</td>\n",
       "      <td>No</td>\n",
       "      <td>Mailed check</td>\n",
       "      <td>25.35</td>\n",
       "      <td></td>\n",
       "      <td>No</td>\n",
       "    </tr>\n",
       "    <tr>\n",
       "      <th>4380</th>\n",
       "      <td>Female</td>\n",
       "      <td>0</td>\n",
       "      <td>Yes</td>\n",
       "      <td>Yes</td>\n",
       "      <td>0</td>\n",
       "      <td>Yes</td>\n",
       "      <td>No</td>\n",
       "      <td>No</td>\n",
       "      <td>No internet service</td>\n",
       "      <td>No internet service</td>\n",
       "      <td>No internet service</td>\n",
       "      <td>No internet service</td>\n",
       "      <td>No internet service</td>\n",
       "      <td>No internet service</td>\n",
       "      <td>Two year</td>\n",
       "      <td>No</td>\n",
       "      <td>Mailed check</td>\n",
       "      <td>20.00</td>\n",
       "      <td></td>\n",
       "      <td>No</td>\n",
       "    </tr>\n",
       "    <tr>\n",
       "      <th>5218</th>\n",
       "      <td>Male</td>\n",
       "      <td>0</td>\n",
       "      <td>Yes</td>\n",
       "      <td>Yes</td>\n",
       "      <td>0</td>\n",
       "      <td>Yes</td>\n",
       "      <td>No</td>\n",
       "      <td>No</td>\n",
       "      <td>No internet service</td>\n",
       "      <td>No internet service</td>\n",
       "      <td>No internet service</td>\n",
       "      <td>No internet service</td>\n",
       "      <td>No internet service</td>\n",
       "      <td>No internet service</td>\n",
       "      <td>One year</td>\n",
       "      <td>Yes</td>\n",
       "      <td>Mailed check</td>\n",
       "      <td>19.70</td>\n",
       "      <td></td>\n",
       "      <td>No</td>\n",
       "    </tr>\n",
       "    <tr>\n",
       "      <th>6670</th>\n",
       "      <td>Female</td>\n",
       "      <td>0</td>\n",
       "      <td>Yes</td>\n",
       "      <td>Yes</td>\n",
       "      <td>0</td>\n",
       "      <td>Yes</td>\n",
       "      <td>Yes</td>\n",
       "      <td>DSL</td>\n",
       "      <td>No</td>\n",
       "      <td>Yes</td>\n",
       "      <td>Yes</td>\n",
       "      <td>Yes</td>\n",
       "      <td>Yes</td>\n",
       "      <td>No</td>\n",
       "      <td>Two year</td>\n",
       "      <td>No</td>\n",
       "      <td>Mailed check</td>\n",
       "      <td>73.35</td>\n",
       "      <td></td>\n",
       "      <td>No</td>\n",
       "    </tr>\n",
       "    <tr>\n",
       "      <th>6754</th>\n",
       "      <td>Male</td>\n",
       "      <td>0</td>\n",
       "      <td>No</td>\n",
       "      <td>Yes</td>\n",
       "      <td>0</td>\n",
       "      <td>Yes</td>\n",
       "      <td>Yes</td>\n",
       "      <td>DSL</td>\n",
       "      <td>Yes</td>\n",
       "      <td>Yes</td>\n",
       "      <td>No</td>\n",
       "      <td>Yes</td>\n",
       "      <td>No</td>\n",
       "      <td>No</td>\n",
       "      <td>Two year</td>\n",
       "      <td>Yes</td>\n",
       "      <td>Bank transfer (automatic)</td>\n",
       "      <td>61.90</td>\n",
       "      <td></td>\n",
       "      <td>No</td>\n",
       "    </tr>\n",
       "  </tbody>\n",
       "</table>\n",
       "</div>"
      ],
      "text/plain": [
       "      gender  SeniorCitizen Partner Dependents  tenure PhoneService  \\\n",
       "488   Female              0     Yes        Yes       0           No   \n",
       "753     Male              0      No        Yes       0          Yes   \n",
       "936   Female              0     Yes        Yes       0          Yes   \n",
       "1082    Male              0     Yes        Yes       0          Yes   \n",
       "1340  Female              0     Yes        Yes       0           No   \n",
       "3331    Male              0     Yes        Yes       0          Yes   \n",
       "3826    Male              0     Yes        Yes       0          Yes   \n",
       "4380  Female              0     Yes        Yes       0          Yes   \n",
       "5218    Male              0     Yes        Yes       0          Yes   \n",
       "6670  Female              0     Yes        Yes       0          Yes   \n",
       "6754    Male              0      No        Yes       0          Yes   \n",
       "\n",
       "         MultipleLines InternetService       OnlineSecurity  \\\n",
       "488   No phone service             DSL                  Yes   \n",
       "753                 No              No  No internet service   \n",
       "936                 No             DSL                  Yes   \n",
       "1082               Yes              No  No internet service   \n",
       "1340  No phone service             DSL                  Yes   \n",
       "3331                No              No  No internet service   \n",
       "3826               Yes              No  No internet service   \n",
       "4380                No              No  No internet service   \n",
       "5218                No              No  No internet service   \n",
       "6670               Yes             DSL                   No   \n",
       "6754               Yes             DSL                  Yes   \n",
       "\n",
       "             OnlineBackup     DeviceProtection          TechSupport  \\\n",
       "488                    No                  Yes                  Yes   \n",
       "753   No internet service  No internet service  No internet service   \n",
       "936                   Yes                  Yes                   No   \n",
       "1082  No internet service  No internet service  No internet service   \n",
       "1340                  Yes                  Yes                  Yes   \n",
       "3331  No internet service  No internet service  No internet service   \n",
       "3826  No internet service  No internet service  No internet service   \n",
       "4380  No internet service  No internet service  No internet service   \n",
       "5218  No internet service  No internet service  No internet service   \n",
       "6670                  Yes                  Yes                  Yes   \n",
       "6754                  Yes                   No                  Yes   \n",
       "\n",
       "              StreamingTV      StreamingMovies  Contract PaperlessBilling  \\\n",
       "488                   Yes                   No  Two year              Yes   \n",
       "753   No internet service  No internet service  Two year               No   \n",
       "936                   Yes                  Yes  Two year               No   \n",
       "1082  No internet service  No internet service  Two year               No   \n",
       "1340                  Yes                   No  Two year               No   \n",
       "3331  No internet service  No internet service  Two year               No   \n",
       "3826  No internet service  No internet service  Two year               No   \n",
       "4380  No internet service  No internet service  Two year               No   \n",
       "5218  No internet service  No internet service  One year              Yes   \n",
       "6670                  Yes                   No  Two year               No   \n",
       "6754                   No                   No  Two year              Yes   \n",
       "\n",
       "                  PaymentMethod  MonthlyCharges TotalCharges Churn  \n",
       "488   Bank transfer (automatic)           52.55                 No  \n",
       "753                Mailed check           20.25                 No  \n",
       "936                Mailed check           80.85                 No  \n",
       "1082               Mailed check           25.75                 No  \n",
       "1340    Credit card (automatic)           56.05                 No  \n",
       "3331               Mailed check           19.85                 No  \n",
       "3826               Mailed check           25.35                 No  \n",
       "4380               Mailed check           20.00                 No  \n",
       "5218               Mailed check           19.70                 No  \n",
       "6670               Mailed check           73.35                 No  \n",
       "6754  Bank transfer (automatic)           61.90                 No  "
      ]
     },
     "execution_count": 10,
     "metadata": {},
     "output_type": "execute_result"
    }
   ],
   "source": [
    "df[pd.to_numeric(df.TotalCharges,errors='coerce').isnull()]\n",
    "# We will supply it as index"
   ]
  },
  {
   "cell_type": "code",
   "execution_count": 11,
   "id": "2b209ca5",
   "metadata": {},
   "outputs": [
    {
     "data": {
      "text/plain": [
       "(11, 20)"
      ]
     },
     "execution_count": 11,
     "metadata": {},
     "output_type": "execute_result"
    }
   ],
   "source": [
    "df[pd.to_numeric(df.TotalCharges,errors='coerce').isnull()].shape"
   ]
  },
  {
   "cell_type": "markdown",
   "id": "9834572d",
   "metadata": {},
   "source": [
    "We have only 11 rows here from +7000 rows, we can just drop them :)"
   ]
  },
  {
   "cell_type": "code",
   "execution_count": 12,
   "id": "6bb3bb8b",
   "metadata": {},
   "outputs": [
    {
     "data": {
      "text/plain": [
       "gender                             Male\n",
       "SeniorCitizen                         0\n",
       "Partner                              No\n",
       "Dependents                          Yes\n",
       "tenure                                0\n",
       "PhoneService                        Yes\n",
       "MultipleLines                        No\n",
       "InternetService                      No\n",
       "OnlineSecurity      No internet service\n",
       "OnlineBackup        No internet service\n",
       "DeviceProtection    No internet service\n",
       "TechSupport         No internet service\n",
       "StreamingTV         No internet service\n",
       "StreamingMovies     No internet service\n",
       "Contract                       Two year\n",
       "PaperlessBilling                     No\n",
       "PaymentMethod              Mailed check\n",
       "MonthlyCharges                    20.25\n",
       "TotalCharges                           \n",
       "Churn                                No\n",
       "Name: 753, dtype: object"
      ]
     },
     "execution_count": 12,
     "metadata": {},
     "output_type": "execute_result"
    }
   ],
   "source": [
    "#If you want to see a specific row you can use iloc \n",
    "#i is integer and loc is location\n",
    "\n",
    "df.iloc[753]"
   ]
  },
  {
   "cell_type": "code",
   "execution_count": 13,
   "id": "27198800",
   "metadata": {},
   "outputs": [
    {
     "data": {
      "text/plain": [
       "' '"
      ]
     },
     "execution_count": 13,
     "metadata": {},
     "output_type": "execute_result"
    }
   ],
   "source": [
    "#You see also directly the column Total Charges\n",
    "df.iloc[753]['TotalCharges']"
   ]
  },
  {
   "cell_type": "code",
   "execution_count": 14,
   "id": "8169c50a",
   "metadata": {},
   "outputs": [
    {
     "data": {
      "text/plain": [
       "(7032, 20)"
      ]
     },
     "execution_count": 14,
     "metadata": {},
     "output_type": "execute_result"
    }
   ],
   "source": [
    "df1 = df[df.TotalCharges!=' ']\n",
    "df1.shape\n",
    "#We will drop every row that has TotalCharges = ' '"
   ]
  },
  {
   "cell_type": "code",
   "execution_count": 15,
   "id": "804fa621",
   "metadata": {},
   "outputs": [
    {
     "data": {
      "text/plain": [
       "(7032, 20)"
      ]
     },
     "execution_count": 15,
     "metadata": {},
     "output_type": "execute_result"
    }
   ],
   "source": [
    "df1.shape"
   ]
  },
  {
   "cell_type": "code",
   "execution_count": 16,
   "id": "07fe90ba",
   "metadata": {},
   "outputs": [
    {
     "data": {
      "text/plain": [
       "gender               object\n",
       "SeniorCitizen         int64\n",
       "Partner              object\n",
       "Dependents           object\n",
       "tenure                int64\n",
       "PhoneService         object\n",
       "MultipleLines        object\n",
       "InternetService      object\n",
       "OnlineSecurity       object\n",
       "OnlineBackup         object\n",
       "DeviceProtection     object\n",
       "TechSupport          object\n",
       "StreamingTV          object\n",
       "StreamingMovies      object\n",
       "Contract             object\n",
       "PaperlessBilling     object\n",
       "PaymentMethod        object\n",
       "MonthlyCharges      float64\n",
       "TotalCharges         object\n",
       "Churn                object\n",
       "dtype: object"
      ]
     },
     "execution_count": 16,
     "metadata": {},
     "output_type": "execute_result"
    }
   ],
   "source": [
    "df1.dtypes"
   ]
  },
  {
   "cell_type": "code",
   "execution_count": 17,
   "id": "f3f21c0e",
   "metadata": {},
   "outputs": [
    {
     "data": {
      "text/plain": [
       "0         29.85\n",
       "1       1889.50\n",
       "2        108.15\n",
       "3       1840.75\n",
       "4        151.65\n",
       "         ...   \n",
       "7038    1990.50\n",
       "7039    7362.90\n",
       "7040     346.45\n",
       "7041     306.60\n",
       "7042    6844.50\n",
       "Name: TotalCharges, Length: 7032, dtype: float64"
      ]
     },
     "execution_count": 17,
     "metadata": {},
     "output_type": "execute_result"
    }
   ],
   "source": [
    "pd.to_numeric(df1.TotalCharges)\n",
    "#It doesn't give any error now!"
   ]
  },
  {
   "cell_type": "code",
   "execution_count": 18,
   "id": "680007a0",
   "metadata": {},
   "outputs": [
    {
     "name": "stderr",
     "output_type": "stream",
     "text": [
      "C:\\Users\\JULIA\\AppData\\Local\\Temp\\ipykernel_18428\\710599814.py:2: SettingWithCopyWarning: \n",
      "A value is trying to be set on a copy of a slice from a DataFrame.\n",
      "Try using .loc[row_indexer,col_indexer] = value instead\n",
      "\n",
      "See the caveats in the documentation: https://pandas.pydata.org/pandas-docs/stable/user_guide/indexing.html#returning-a-view-versus-a-copy\n",
      "  df1.TotalCharges =pd.to_numeric(df1.TotalCharges)\n"
     ]
    }
   ],
   "source": [
    "#Now we need to update it\n",
    "df1.TotalCharges =pd.to_numeric(df1.TotalCharges)"
   ]
  },
  {
   "cell_type": "code",
   "execution_count": 19,
   "id": "8b44fbd6",
   "metadata": {},
   "outputs": [
    {
     "data": {
      "text/plain": [
       "gender               object\n",
       "SeniorCitizen         int64\n",
       "Partner              object\n",
       "Dependents           object\n",
       "tenure                int64\n",
       "PhoneService         object\n",
       "MultipleLines        object\n",
       "InternetService      object\n",
       "OnlineSecurity       object\n",
       "OnlineBackup         object\n",
       "DeviceProtection     object\n",
       "TechSupport          object\n",
       "StreamingTV          object\n",
       "StreamingMovies      object\n",
       "Contract             object\n",
       "PaperlessBilling     object\n",
       "PaymentMethod        object\n",
       "MonthlyCharges      float64\n",
       "TotalCharges        float64\n",
       "Churn                object\n",
       "dtype: object"
      ]
     },
     "execution_count": 19,
     "metadata": {},
     "output_type": "execute_result"
    }
   ],
   "source": [
    "df1.dtypes"
   ]
  },
  {
   "cell_type": "markdown",
   "id": "f67ffb68",
   "metadata": {},
   "source": [
    "Now the data type for TotalCharges is float"
   ]
  },
  {
   "cell_type": "markdown",
   "id": "a2c0bd6f",
   "metadata": {},
   "source": [
    "Let's look now at customers whoare not leaving (5163)"
   ]
  },
  {
   "cell_type": "code",
   "execution_count": 20,
   "id": "b401f12c",
   "metadata": {},
   "outputs": [
    {
     "data": {
      "text/html": [
       "<div>\n",
       "<style scoped>\n",
       "    .dataframe tbody tr th:only-of-type {\n",
       "        vertical-align: middle;\n",
       "    }\n",
       "\n",
       "    .dataframe tbody tr th {\n",
       "        vertical-align: top;\n",
       "    }\n",
       "\n",
       "    .dataframe thead th {\n",
       "        text-align: right;\n",
       "    }\n",
       "</style>\n",
       "<table border=\"1\" class=\"dataframe\">\n",
       "  <thead>\n",
       "    <tr style=\"text-align: right;\">\n",
       "      <th></th>\n",
       "      <th>gender</th>\n",
       "      <th>SeniorCitizen</th>\n",
       "      <th>Partner</th>\n",
       "      <th>Dependents</th>\n",
       "      <th>tenure</th>\n",
       "      <th>PhoneService</th>\n",
       "      <th>MultipleLines</th>\n",
       "      <th>InternetService</th>\n",
       "      <th>OnlineSecurity</th>\n",
       "      <th>OnlineBackup</th>\n",
       "      <th>DeviceProtection</th>\n",
       "      <th>TechSupport</th>\n",
       "      <th>StreamingTV</th>\n",
       "      <th>StreamingMovies</th>\n",
       "      <th>Contract</th>\n",
       "      <th>PaperlessBilling</th>\n",
       "      <th>PaymentMethod</th>\n",
       "      <th>MonthlyCharges</th>\n",
       "      <th>TotalCharges</th>\n",
       "      <th>Churn</th>\n",
       "    </tr>\n",
       "  </thead>\n",
       "  <tbody>\n",
       "    <tr>\n",
       "      <th>0</th>\n",
       "      <td>Female</td>\n",
       "      <td>0</td>\n",
       "      <td>Yes</td>\n",
       "      <td>No</td>\n",
       "      <td>1</td>\n",
       "      <td>No</td>\n",
       "      <td>No phone service</td>\n",
       "      <td>DSL</td>\n",
       "      <td>No</td>\n",
       "      <td>Yes</td>\n",
       "      <td>No</td>\n",
       "      <td>No</td>\n",
       "      <td>No</td>\n",
       "      <td>No</td>\n",
       "      <td>Month-to-month</td>\n",
       "      <td>Yes</td>\n",
       "      <td>Electronic check</td>\n",
       "      <td>29.85</td>\n",
       "      <td>29.85</td>\n",
       "      <td>No</td>\n",
       "    </tr>\n",
       "    <tr>\n",
       "      <th>1</th>\n",
       "      <td>Male</td>\n",
       "      <td>0</td>\n",
       "      <td>No</td>\n",
       "      <td>No</td>\n",
       "      <td>34</td>\n",
       "      <td>Yes</td>\n",
       "      <td>No</td>\n",
       "      <td>DSL</td>\n",
       "      <td>Yes</td>\n",
       "      <td>No</td>\n",
       "      <td>Yes</td>\n",
       "      <td>No</td>\n",
       "      <td>No</td>\n",
       "      <td>No</td>\n",
       "      <td>One year</td>\n",
       "      <td>No</td>\n",
       "      <td>Mailed check</td>\n",
       "      <td>56.95</td>\n",
       "      <td>1889.50</td>\n",
       "      <td>No</td>\n",
       "    </tr>\n",
       "    <tr>\n",
       "      <th>3</th>\n",
       "      <td>Male</td>\n",
       "      <td>0</td>\n",
       "      <td>No</td>\n",
       "      <td>No</td>\n",
       "      <td>45</td>\n",
       "      <td>No</td>\n",
       "      <td>No phone service</td>\n",
       "      <td>DSL</td>\n",
       "      <td>Yes</td>\n",
       "      <td>No</td>\n",
       "      <td>Yes</td>\n",
       "      <td>Yes</td>\n",
       "      <td>No</td>\n",
       "      <td>No</td>\n",
       "      <td>One year</td>\n",
       "      <td>No</td>\n",
       "      <td>Bank transfer (automatic)</td>\n",
       "      <td>42.30</td>\n",
       "      <td>1840.75</td>\n",
       "      <td>No</td>\n",
       "    </tr>\n",
       "    <tr>\n",
       "      <th>6</th>\n",
       "      <td>Male</td>\n",
       "      <td>0</td>\n",
       "      <td>No</td>\n",
       "      <td>Yes</td>\n",
       "      <td>22</td>\n",
       "      <td>Yes</td>\n",
       "      <td>Yes</td>\n",
       "      <td>Fiber optic</td>\n",
       "      <td>No</td>\n",
       "      <td>Yes</td>\n",
       "      <td>No</td>\n",
       "      <td>No</td>\n",
       "      <td>Yes</td>\n",
       "      <td>No</td>\n",
       "      <td>Month-to-month</td>\n",
       "      <td>Yes</td>\n",
       "      <td>Credit card (automatic)</td>\n",
       "      <td>89.10</td>\n",
       "      <td>1949.40</td>\n",
       "      <td>No</td>\n",
       "    </tr>\n",
       "    <tr>\n",
       "      <th>7</th>\n",
       "      <td>Female</td>\n",
       "      <td>0</td>\n",
       "      <td>No</td>\n",
       "      <td>No</td>\n",
       "      <td>10</td>\n",
       "      <td>No</td>\n",
       "      <td>No phone service</td>\n",
       "      <td>DSL</td>\n",
       "      <td>Yes</td>\n",
       "      <td>No</td>\n",
       "      <td>No</td>\n",
       "      <td>No</td>\n",
       "      <td>No</td>\n",
       "      <td>No</td>\n",
       "      <td>Month-to-month</td>\n",
       "      <td>No</td>\n",
       "      <td>Mailed check</td>\n",
       "      <td>29.75</td>\n",
       "      <td>301.90</td>\n",
       "      <td>No</td>\n",
       "    </tr>\n",
       "    <tr>\n",
       "      <th>...</th>\n",
       "      <td>...</td>\n",
       "      <td>...</td>\n",
       "      <td>...</td>\n",
       "      <td>...</td>\n",
       "      <td>...</td>\n",
       "      <td>...</td>\n",
       "      <td>...</td>\n",
       "      <td>...</td>\n",
       "      <td>...</td>\n",
       "      <td>...</td>\n",
       "      <td>...</td>\n",
       "      <td>...</td>\n",
       "      <td>...</td>\n",
       "      <td>...</td>\n",
       "      <td>...</td>\n",
       "      <td>...</td>\n",
       "      <td>...</td>\n",
       "      <td>...</td>\n",
       "      <td>...</td>\n",
       "      <td>...</td>\n",
       "    </tr>\n",
       "    <tr>\n",
       "      <th>7037</th>\n",
       "      <td>Female</td>\n",
       "      <td>0</td>\n",
       "      <td>No</td>\n",
       "      <td>No</td>\n",
       "      <td>72</td>\n",
       "      <td>Yes</td>\n",
       "      <td>No</td>\n",
       "      <td>No</td>\n",
       "      <td>No internet service</td>\n",
       "      <td>No internet service</td>\n",
       "      <td>No internet service</td>\n",
       "      <td>No internet service</td>\n",
       "      <td>No internet service</td>\n",
       "      <td>No internet service</td>\n",
       "      <td>Two year</td>\n",
       "      <td>Yes</td>\n",
       "      <td>Bank transfer (automatic)</td>\n",
       "      <td>21.15</td>\n",
       "      <td>1419.40</td>\n",
       "      <td>No</td>\n",
       "    </tr>\n",
       "    <tr>\n",
       "      <th>7038</th>\n",
       "      <td>Male</td>\n",
       "      <td>0</td>\n",
       "      <td>Yes</td>\n",
       "      <td>Yes</td>\n",
       "      <td>24</td>\n",
       "      <td>Yes</td>\n",
       "      <td>Yes</td>\n",
       "      <td>DSL</td>\n",
       "      <td>Yes</td>\n",
       "      <td>No</td>\n",
       "      <td>Yes</td>\n",
       "      <td>Yes</td>\n",
       "      <td>Yes</td>\n",
       "      <td>Yes</td>\n",
       "      <td>One year</td>\n",
       "      <td>Yes</td>\n",
       "      <td>Mailed check</td>\n",
       "      <td>84.80</td>\n",
       "      <td>1990.50</td>\n",
       "      <td>No</td>\n",
       "    </tr>\n",
       "    <tr>\n",
       "      <th>7039</th>\n",
       "      <td>Female</td>\n",
       "      <td>0</td>\n",
       "      <td>Yes</td>\n",
       "      <td>Yes</td>\n",
       "      <td>72</td>\n",
       "      <td>Yes</td>\n",
       "      <td>Yes</td>\n",
       "      <td>Fiber optic</td>\n",
       "      <td>No</td>\n",
       "      <td>Yes</td>\n",
       "      <td>Yes</td>\n",
       "      <td>No</td>\n",
       "      <td>Yes</td>\n",
       "      <td>Yes</td>\n",
       "      <td>One year</td>\n",
       "      <td>Yes</td>\n",
       "      <td>Credit card (automatic)</td>\n",
       "      <td>103.20</td>\n",
       "      <td>7362.90</td>\n",
       "      <td>No</td>\n",
       "    </tr>\n",
       "    <tr>\n",
       "      <th>7040</th>\n",
       "      <td>Female</td>\n",
       "      <td>0</td>\n",
       "      <td>Yes</td>\n",
       "      <td>Yes</td>\n",
       "      <td>11</td>\n",
       "      <td>No</td>\n",
       "      <td>No phone service</td>\n",
       "      <td>DSL</td>\n",
       "      <td>Yes</td>\n",
       "      <td>No</td>\n",
       "      <td>No</td>\n",
       "      <td>No</td>\n",
       "      <td>No</td>\n",
       "      <td>No</td>\n",
       "      <td>Month-to-month</td>\n",
       "      <td>Yes</td>\n",
       "      <td>Electronic check</td>\n",
       "      <td>29.60</td>\n",
       "      <td>346.45</td>\n",
       "      <td>No</td>\n",
       "    </tr>\n",
       "    <tr>\n",
       "      <th>7042</th>\n",
       "      <td>Male</td>\n",
       "      <td>0</td>\n",
       "      <td>No</td>\n",
       "      <td>No</td>\n",
       "      <td>66</td>\n",
       "      <td>Yes</td>\n",
       "      <td>No</td>\n",
       "      <td>Fiber optic</td>\n",
       "      <td>Yes</td>\n",
       "      <td>No</td>\n",
       "      <td>Yes</td>\n",
       "      <td>Yes</td>\n",
       "      <td>Yes</td>\n",
       "      <td>Yes</td>\n",
       "      <td>Two year</td>\n",
       "      <td>Yes</td>\n",
       "      <td>Bank transfer (automatic)</td>\n",
       "      <td>105.65</td>\n",
       "      <td>6844.50</td>\n",
       "      <td>No</td>\n",
       "    </tr>\n",
       "  </tbody>\n",
       "</table>\n",
       "<p>5163 rows × 20 columns</p>\n",
       "</div>"
      ],
      "text/plain": [
       "      gender  SeniorCitizen Partner Dependents  tenure PhoneService  \\\n",
       "0     Female              0     Yes         No       1           No   \n",
       "1       Male              0      No         No      34          Yes   \n",
       "3       Male              0      No         No      45           No   \n",
       "6       Male              0      No        Yes      22          Yes   \n",
       "7     Female              0      No         No      10           No   \n",
       "...      ...            ...     ...        ...     ...          ...   \n",
       "7037  Female              0      No         No      72          Yes   \n",
       "7038    Male              0     Yes        Yes      24          Yes   \n",
       "7039  Female              0     Yes        Yes      72          Yes   \n",
       "7040  Female              0     Yes        Yes      11           No   \n",
       "7042    Male              0      No         No      66          Yes   \n",
       "\n",
       "         MultipleLines InternetService       OnlineSecurity  \\\n",
       "0     No phone service             DSL                   No   \n",
       "1                   No             DSL                  Yes   \n",
       "3     No phone service             DSL                  Yes   \n",
       "6                  Yes     Fiber optic                   No   \n",
       "7     No phone service             DSL                  Yes   \n",
       "...                ...             ...                  ...   \n",
       "7037                No              No  No internet service   \n",
       "7038               Yes             DSL                  Yes   \n",
       "7039               Yes     Fiber optic                   No   \n",
       "7040  No phone service             DSL                  Yes   \n",
       "7042                No     Fiber optic                  Yes   \n",
       "\n",
       "             OnlineBackup     DeviceProtection          TechSupport  \\\n",
       "0                     Yes                   No                   No   \n",
       "1                      No                  Yes                   No   \n",
       "3                      No                  Yes                  Yes   \n",
       "6                     Yes                   No                   No   \n",
       "7                      No                   No                   No   \n",
       "...                   ...                  ...                  ...   \n",
       "7037  No internet service  No internet service  No internet service   \n",
       "7038                   No                  Yes                  Yes   \n",
       "7039                  Yes                  Yes                   No   \n",
       "7040                   No                   No                   No   \n",
       "7042                   No                  Yes                  Yes   \n",
       "\n",
       "              StreamingTV      StreamingMovies        Contract  \\\n",
       "0                      No                   No  Month-to-month   \n",
       "1                      No                   No        One year   \n",
       "3                      No                   No        One year   \n",
       "6                     Yes                   No  Month-to-month   \n",
       "7                      No                   No  Month-to-month   \n",
       "...                   ...                  ...             ...   \n",
       "7037  No internet service  No internet service        Two year   \n",
       "7038                  Yes                  Yes        One year   \n",
       "7039                  Yes                  Yes        One year   \n",
       "7040                   No                   No  Month-to-month   \n",
       "7042                  Yes                  Yes        Two year   \n",
       "\n",
       "     PaperlessBilling              PaymentMethod  MonthlyCharges  \\\n",
       "0                 Yes           Electronic check           29.85   \n",
       "1                  No               Mailed check           56.95   \n",
       "3                  No  Bank transfer (automatic)           42.30   \n",
       "6                 Yes    Credit card (automatic)           89.10   \n",
       "7                  No               Mailed check           29.75   \n",
       "...               ...                        ...             ...   \n",
       "7037              Yes  Bank transfer (automatic)           21.15   \n",
       "7038              Yes               Mailed check           84.80   \n",
       "7039              Yes    Credit card (automatic)          103.20   \n",
       "7040              Yes           Electronic check           29.60   \n",
       "7042              Yes  Bank transfer (automatic)          105.65   \n",
       "\n",
       "      TotalCharges Churn  \n",
       "0            29.85    No  \n",
       "1          1889.50    No  \n",
       "3          1840.75    No  \n",
       "6          1949.40    No  \n",
       "7           301.90    No  \n",
       "...            ...   ...  \n",
       "7037       1419.40    No  \n",
       "7038       1990.50    No  \n",
       "7039       7362.90    No  \n",
       "7040        346.45    No  \n",
       "7042       6844.50    No  \n",
       "\n",
       "[5163 rows x 20 columns]"
      ]
     },
     "execution_count": 20,
     "metadata": {},
     "output_type": "execute_result"
    }
   ],
   "source": [
    "df1[df1.Churn=='No']"
   ]
  },
  {
   "cell_type": "markdown",
   "id": "497def78",
   "metadata": {},
   "source": [
    "Tenure is in month, it's the time the customer is engaged with the brand"
   ]
  },
  {
   "cell_type": "markdown",
   "id": "04c61b28",
   "metadata": {},
   "source": [
    "# Tenure for people living and staying"
   ]
  },
  {
   "cell_type": "code",
   "execution_count": 21,
   "id": "61b3f67f",
   "metadata": {},
   "outputs": [
    {
     "data": {
      "text/plain": [
       "0        1\n",
       "1       34\n",
       "3       45\n",
       "6       22\n",
       "7       10\n",
       "        ..\n",
       "7037    72\n",
       "7038    24\n",
       "7039    72\n",
       "7040    11\n",
       "7042    66\n",
       "Name: tenure, Length: 5163, dtype: int64"
      ]
     },
     "execution_count": 21,
     "metadata": {},
     "output_type": "execute_result"
    }
   ],
   "source": [
    "TCN = df1[df1.Churn=='No'].tenure\n",
    "TCN # We will store it in a variable"
   ]
  },
  {
   "cell_type": "markdown",
   "id": "0d274a60",
   "metadata": {},
   "source": [
    "We will do the same thing for Yes"
   ]
  },
  {
   "cell_type": "code",
   "execution_count": 22,
   "id": "aa058e1f",
   "metadata": {},
   "outputs": [
    {
     "data": {
      "text/plain": [
       "2        2\n",
       "4        2\n",
       "5        8\n",
       "8       28\n",
       "13      49\n",
       "        ..\n",
       "7021    12\n",
       "7026     9\n",
       "7032     1\n",
       "7034    67\n",
       "7041     4\n",
       "Name: tenure, Length: 1869, dtype: int64"
      ]
     },
     "execution_count": 22,
     "metadata": {},
     "output_type": "execute_result"
    }
   ],
   "source": [
    "TCY = df1[df1.Churn=='Yes'].tenure\n",
    "TCY"
   ]
  },
  {
   "cell_type": "code",
   "execution_count": 23,
   "id": "438ffa93",
   "metadata": {},
   "outputs": [
    {
     "data": {
      "text/plain": [
       "<matplotlib.legend.Legend at 0x219f4cd8dc0>"
      ]
     },
     "execution_count": 23,
     "metadata": {},
     "output_type": "execute_result"
    },
    {
     "data": {
      "image/png": "[encoded data removed]",
      "text/plain": [
       "<Figure size 432x288 with 1 Axes>"
      ]
     },
     "metadata": {
      "needs_background": "light"
     },
     "output_type": "display_data"
    }
   ],
   "source": [
    "plt.hist([TCY,TCN], color = ['green','red'],label=['TCN','TCY'])\n",
    "plt.legend()"
   ]
  },
  {
   "cell_type": "code",
   "execution_count": 24,
   "id": "15fb0d5e",
   "metadata": {},
   "outputs": [
    {
     "data": {
      "text/plain": [
       "<matplotlib.legend.Legend at 0x219f4dc4cd0>"
      ]
     },
     "execution_count": 24,
     "metadata": {},
     "output_type": "execute_result"
    },
    {
     "data": {
      "image/png": "[encoded data removed]",
      "text/plain": [
       "<Figure size 432x288 with 1 Axes>"
      ]
     },
     "metadata": {
      "needs_background": "light"
     },
     "output_type": "display_data"
    }
   ],
   "source": [
    "#For Monthly charges\n",
    "\n",
    "mc_churn_no = df1[df1.Churn=='No'].MonthlyCharges      \n",
    "mc_churn_yes = df1[df1.Churn=='Yes'].MonthlyCharges\n",
    "\n",
    "plt.xlabel(\"Monthly Charges\")\n",
    "plt.ylabel(\"Number Of Customers\")\n",
    "plt.title(\"Customer Churn Prediction Visualiztion\")\n",
    "\n",
    "plt.hist([mc_churn_yes, mc_churn_no], rwidth=0.95, color=['green','red'],label=['Churn=Yes','Churn=No'])\n",
    "plt.legend()"
   ]
  },
  {
   "cell_type": "markdown",
   "id": "77d91911",
   "metadata": {},
   "source": [
    "# Value of each column"
   ]
  },
  {
   "cell_type": "code",
   "execution_count": 25,
   "id": "2beae56a",
   "metadata": {},
   "outputs": [
    {
     "name": "stdout",
     "output_type": "stream",
     "text": [
      "gender\n",
      "SeniorCitizen\n",
      "Partner\n",
      "Dependents\n",
      "tenure\n",
      "PhoneService\n",
      "MultipleLines\n",
      "InternetService\n",
      "OnlineSecurity\n",
      "OnlineBackup\n",
      "DeviceProtection\n",
      "TechSupport\n",
      "StreamingTV\n",
      "StreamingMovies\n",
      "Contract\n",
      "PaperlessBilling\n",
      "PaymentMethod\n",
      "MonthlyCharges\n",
      "TotalCharges\n",
      "Churn\n"
     ]
    }
   ],
   "source": [
    "#Print all the columns\n",
    "for column in df:\n",
    "    print(column)"
   ]
  },
  {
   "cell_type": "code",
   "execution_count": 26,
   "id": "a935957a",
   "metadata": {},
   "outputs": [],
   "source": [
    "#Print unique values for each columns\n",
    "\n",
    "def print_unique_col_values(df):\n",
    "       for column in df:\n",
    "            if df[column].dtypes=='object': #print only categorical object\n",
    "                print(f'{column}: {df[column].unique()}') #Print unique value of each column"
   ]
  },
  {
   "cell_type": "markdown",
   "id": "21a5100e",
   "metadata": {},
   "source": [
    "We need to change value of some columns like yes or no one"
   ]
  },
  {
   "cell_type": "code",
   "execution_count": 27,
   "id": "1fe2060d",
   "metadata": {
    "scrolled": true
   },
   "outputs": [
    {
     "name": "stdout",
     "output_type": "stream",
     "text": [
      "gender: ['Female' 'Male']\n",
      "Partner: ['Yes' 'No']\n",
      "Dependents: ['No' 'Yes']\n",
      "PhoneService: ['No' 'Yes']\n",
      "MultipleLines: ['No phone service' 'No' 'Yes']\n",
      "InternetService: ['DSL' 'Fiber optic' 'No']\n",
      "OnlineSecurity: ['No' 'Yes' 'No internet service']\n",
      "OnlineBackup: ['Yes' 'No' 'No internet service']\n",
      "DeviceProtection: ['No' 'Yes' 'No internet service']\n",
      "TechSupport: ['No' 'Yes' 'No internet service']\n",
      "StreamingTV: ['No' 'Yes' 'No internet service']\n",
      "StreamingMovies: ['No' 'Yes' 'No internet service']\n",
      "Contract: ['Month-to-month' 'One year' 'Two year']\n",
      "PaperlessBilling: ['Yes' 'No']\n",
      "PaymentMethod: ['Electronic check' 'Mailed check' 'Bank transfer (automatic)'\n",
      " 'Credit card (automatic)']\n",
      "Churn: ['No' 'Yes']\n"
     ]
    }
   ],
   "source": [
    "print_unique_col_values(df1) #All unique values of df1"
   ]
  },
  {
   "cell_type": "markdown",
   "id": "72298629",
   "metadata": {},
   "source": [
    "We need to remplace No internet service, No phone service with No"
   ]
  },
  {
   "cell_type": "code",
   "execution_count": 28,
   "id": "114867a2",
   "metadata": {},
   "outputs": [
    {
     "name": "stderr",
     "output_type": "stream",
     "text": [
      "C:\\Users\\JULIA\\AppData\\Local\\Temp\\ipykernel_18428\\4245438437.py:1: SettingWithCopyWarning: \n",
      "A value is trying to be set on a copy of a slice from a DataFrame\n",
      "\n",
      "See the caveats in the documentation: https://pandas.pydata.org/pandas-docs/stable/user_guide/indexing.html#returning-a-view-versus-a-copy\n",
      "  df1.replace('No internet service', 'No', inplace=True)\n",
      "C:\\Users\\JULIA\\AppData\\Local\\Temp\\ipykernel_18428\\4245438437.py:2: SettingWithCopyWarning: \n",
      "A value is trying to be set on a copy of a slice from a DataFrame\n",
      "\n",
      "See the caveats in the documentation: https://pandas.pydata.org/pandas-docs/stable/user_guide/indexing.html#returning-a-view-versus-a-copy\n",
      "  df1.replace('No phone service', 'No', inplace=True)\n"
     ]
    }
   ],
   "source": [
    "df1.replace('No internet service', 'No', inplace=True)\n",
    "df1.replace('No phone service', 'No', inplace=True)"
   ]
  },
  {
   "cell_type": "code",
   "execution_count": 29,
   "id": "b5cc71cf",
   "metadata": {},
   "outputs": [
    {
     "name": "stdout",
     "output_type": "stream",
     "text": [
      "gender: ['Female' 'Male']\n",
      "Partner: ['Yes' 'No']\n",
      "Dependents: ['No' 'Yes']\n",
      "PhoneService: ['No' 'Yes']\n",
      "MultipleLines: ['No' 'Yes']\n",
      "InternetService: ['DSL' 'Fiber optic' 'No']\n",
      "OnlineSecurity: ['No' 'Yes']\n",
      "OnlineBackup: ['Yes' 'No']\n",
      "DeviceProtection: ['No' 'Yes']\n",
      "TechSupport: ['No' 'Yes']\n",
      "StreamingTV: ['No' 'Yes']\n",
      "StreamingMovies: ['No' 'Yes']\n",
      "Contract: ['Month-to-month' 'One year' 'Two year']\n",
      "PaperlessBilling: ['Yes' 'No']\n",
      "PaymentMethod: ['Electronic check' 'Mailed check' 'Bank transfer (automatic)'\n",
      " 'Credit card (automatic)']\n",
      "Churn: ['No' 'Yes']\n"
     ]
    }
   ],
   "source": [
    "#Cleaning\n",
    "print_unique_col_values(df1)"
   ]
  },
  {
   "cell_type": "code",
   "execution_count": 30,
   "id": "70cc8cfc",
   "metadata": {},
   "outputs": [],
   "source": [
    "#Remplace yes and no with 1 and 0"
   ]
  },
  {
   "cell_type": "code",
   "execution_count": 31,
   "id": "aa88ad9a",
   "metadata": {},
   "outputs": [],
   "source": [
    "# All the columns that has yes and no\n",
    "yes_no_columns = ['Partner','Dependents','PhoneService','MultipleLines','OnlineSecurity','OnlineBackup',\n",
    "                  'DeviceProtection','TechSupport','StreamingTV','StreamingMovies','PaperlessBilling','Churn']"
   ]
  },
  {
   "cell_type": "code",
   "execution_count": 32,
   "id": "4ae205ca",
   "metadata": {},
   "outputs": [
    {
     "name": "stderr",
     "output_type": "stream",
     "text": [
      "C:\\Users\\JULIA\\AppData\\Local\\Temp\\ipykernel_18428\\1546053672.py:3: SettingWithCopyWarning: \n",
      "A value is trying to be set on a copy of a slice from a DataFrame\n",
      "\n",
      "See the caveats in the documentation: https://pandas.pydata.org/pandas-docs/stable/user_guide/indexing.html#returning-a-view-versus-a-copy\n",
      "  df1[col].replace({'Yes':1,'No':0},inplace=True)\n"
     ]
    }
   ],
   "source": [
    "#Remplace Yes with 1 and No with 0\n",
    "for col in yes_no_columns:\n",
    "    df1[col].replace({'Yes':1,'No':0},inplace=True)"
   ]
  },
  {
   "cell_type": "code",
   "execution_count": 33,
   "id": "df8bd561",
   "metadata": {},
   "outputs": [
    {
     "name": "stderr",
     "output_type": "stream",
     "text": [
      "C:\\Users\\JULIA\\AppData\\Local\\Temp\\ipykernel_18428\\980029117.py:2: SettingWithCopyWarning: \n",
      "A value is trying to be set on a copy of a slice from a DataFrame\n",
      "\n",
      "See the caveats in the documentation: https://pandas.pydata.org/pandas-docs/stable/user_guide/indexing.html#returning-a-view-versus-a-copy\n",
      "  df1['gender'].replace({'Female':1,'Male':0},inplace=True)\n"
     ]
    },
    {
     "data": {
      "text/plain": [
       "array([1, 0], dtype=int64)"
      ]
     },
     "execution_count": 33,
     "metadata": {},
     "output_type": "execute_result"
    }
   ],
   "source": [
    "#For gender\n",
    "df1['gender'].replace({'Female':1,'Male':0},inplace=True)\n",
    "df1.gender.unique()"
   ]
  },
  {
   "cell_type": "raw",
   "id": "77b35f7e",
   "metadata": {},
   "source": []
  },
  {
   "cell_type": "code",
   "execution_count": 34,
   "id": "f8f89e4d",
   "metadata": {
    "scrolled": true
   },
   "outputs": [
    {
     "name": "stdout",
     "output_type": "stream",
     "text": [
      "gender: [1 0]\n",
      "SeniorCitizen: [0 1]\n",
      "Partner: [1 0]\n",
      "Dependents: [0 1]\n",
      "tenure: [ 1 34  2 45  8 22 10 28 62 13 16 58 49 25 69 52 71 21 12 30 47 72 17 27\n",
      "  5 46 11 70 63 43 15 60 18 66  9  3 31 50 64 56  7 42 35 48 29 65 38 68\n",
      " 32 55 37 36 41  6  4 33 67 23 57 61 14 20 53 40 59 24 44 19 54 51 26 39]\n",
      "PhoneService: [0 1]\n",
      "MultipleLines: [0 1]\n",
      "InternetService: ['DSL' 'Fiber optic' 'No']\n",
      "OnlineSecurity: [0 1]\n",
      "OnlineBackup: [1 0]\n",
      "DeviceProtection: [0 1]\n",
      "TechSupport: [0 1]\n",
      "StreamingTV: [0 1]\n",
      "StreamingMovies: [0 1]\n",
      "Contract: ['Month-to-month' 'One year' 'Two year']\n",
      "PaperlessBilling: [1 0]\n",
      "PaymentMethod: ['Electronic check' 'Mailed check' 'Bank transfer (automatic)'\n",
      " 'Credit card (automatic)']\n",
      "MonthlyCharges: [29.85 56.95 53.85 ... 63.1  44.2  78.7 ]\n",
      "TotalCharges: [  29.85 1889.5   108.15 ...  346.45  306.6  6844.5 ]\n",
      "Churn: [0 1]\n"
     ]
    }
   ],
   "source": [
    "#Printing the unique values\n",
    "\n",
    "for col in df1:\n",
    "    print(f'{col}: {df1[col].unique()}') "
   ]
  },
  {
   "cell_type": "markdown",
   "id": "2470fa50",
   "metadata": {},
   "source": [
    "## One hot encoding for categorical columns\n",
    "\n"
   ]
  },
  {
   "cell_type": "code",
   "execution_count": 35,
   "id": "856491c5",
   "metadata": {},
   "outputs": [
    {
     "data": {
      "text/plain": [
       "Index(['gender', 'SeniorCitizen', 'Partner', 'Dependents', 'tenure',\n",
       "       'PhoneService', 'MultipleLines', 'OnlineSecurity', 'OnlineBackup',\n",
       "       'DeviceProtection', 'TechSupport', 'StreamingTV', 'StreamingMovies',\n",
       "       'PaperlessBilling', 'MonthlyCharges', 'TotalCharges', 'Churn',\n",
       "       'InternetService_DSL', 'InternetService_Fiber optic',\n",
       "       'InternetService_No', 'Contract_Month-to-month', 'Contract_One year',\n",
       "       'Contract_Two year', 'PaymentMethod_Bank transfer (automatic)',\n",
       "       'PaymentMethod_Credit card (automatic)',\n",
       "       'PaymentMethod_Electronic check', 'PaymentMethod_Mailed check'],\n",
       "      dtype='object')"
      ]
     },
     "execution_count": 35,
     "metadata": {},
     "output_type": "execute_result"
    }
   ],
   "source": [
    "#Use OHE for categorical variables\n",
    "\n",
    "df2 = pd.get_dummies(data=df1,columns=['InternetService','Contract','PaymentMethod'])\n",
    "df2.columns\n",
    "#For every variable in column, it will create column for the variable with an output for 1 and 0"
   ]
  },
  {
   "cell_type": "code",
   "execution_count": 36,
   "id": "e0138482",
   "metadata": {},
   "outputs": [
    {
     "data": {
      "text/html": [
       "<div>\n",
       "<style scoped>\n",
       "    .dataframe tbody tr th:only-of-type {\n",
       "        vertical-align: middle;\n",
       "    }\n",
       "\n",
       "    .dataframe tbody tr th {\n",
       "        vertical-align: top;\n",
       "    }\n",
       "\n",
       "    .dataframe thead th {\n",
       "        text-align: right;\n",
       "    }\n",
       "</style>\n",
       "<table border=\"1\" class=\"dataframe\">\n",
       "  <thead>\n",
       "    <tr style=\"text-align: right;\">\n",
       "      <th></th>\n",
       "      <th>gender</th>\n",
       "      <th>SeniorCitizen</th>\n",
       "      <th>Partner</th>\n",
       "      <th>Dependents</th>\n",
       "      <th>tenure</th>\n",
       "      <th>PhoneService</th>\n",
       "      <th>MultipleLines</th>\n",
       "      <th>OnlineSecurity</th>\n",
       "      <th>OnlineBackup</th>\n",
       "      <th>DeviceProtection</th>\n",
       "      <th>...</th>\n",
       "      <th>InternetService_DSL</th>\n",
       "      <th>InternetService_Fiber optic</th>\n",
       "      <th>InternetService_No</th>\n",
       "      <th>Contract_Month-to-month</th>\n",
       "      <th>Contract_One year</th>\n",
       "      <th>Contract_Two year</th>\n",
       "      <th>PaymentMethod_Bank transfer (automatic)</th>\n",
       "      <th>PaymentMethod_Credit card (automatic)</th>\n",
       "      <th>PaymentMethod_Electronic check</th>\n",
       "      <th>PaymentMethod_Mailed check</th>\n",
       "    </tr>\n",
       "  </thead>\n",
       "  <tbody>\n",
       "    <tr>\n",
       "      <th>1798</th>\n",
       "      <td>0</td>\n",
       "      <td>0</td>\n",
       "      <td>0</td>\n",
       "      <td>0</td>\n",
       "      <td>35</td>\n",
       "      <td>1</td>\n",
       "      <td>1</td>\n",
       "      <td>0</td>\n",
       "      <td>0</td>\n",
       "      <td>0</td>\n",
       "      <td>...</td>\n",
       "      <td>0</td>\n",
       "      <td>0</td>\n",
       "      <td>1</td>\n",
       "      <td>0</td>\n",
       "      <td>1</td>\n",
       "      <td>0</td>\n",
       "      <td>1</td>\n",
       "      <td>0</td>\n",
       "      <td>0</td>\n",
       "      <td>0</td>\n",
       "    </tr>\n",
       "    <tr>\n",
       "      <th>5963</th>\n",
       "      <td>0</td>\n",
       "      <td>0</td>\n",
       "      <td>1</td>\n",
       "      <td>1</td>\n",
       "      <td>22</td>\n",
       "      <td>1</td>\n",
       "      <td>1</td>\n",
       "      <td>0</td>\n",
       "      <td>0</td>\n",
       "      <td>1</td>\n",
       "      <td>...</td>\n",
       "      <td>1</td>\n",
       "      <td>0</td>\n",
       "      <td>0</td>\n",
       "      <td>0</td>\n",
       "      <td>1</td>\n",
       "      <td>0</td>\n",
       "      <td>0</td>\n",
       "      <td>0</td>\n",
       "      <td>0</td>\n",
       "      <td>1</td>\n",
       "    </tr>\n",
       "    <tr>\n",
       "      <th>1838</th>\n",
       "      <td>0</td>\n",
       "      <td>1</td>\n",
       "      <td>0</td>\n",
       "      <td>0</td>\n",
       "      <td>54</td>\n",
       "      <td>1</td>\n",
       "      <td>1</td>\n",
       "      <td>0</td>\n",
       "      <td>1</td>\n",
       "      <td>0</td>\n",
       "      <td>...</td>\n",
       "      <td>0</td>\n",
       "      <td>1</td>\n",
       "      <td>0</td>\n",
       "      <td>1</td>\n",
       "      <td>0</td>\n",
       "      <td>0</td>\n",
       "      <td>0</td>\n",
       "      <td>0</td>\n",
       "      <td>1</td>\n",
       "      <td>0</td>\n",
       "    </tr>\n",
       "    <tr>\n",
       "      <th>4512</th>\n",
       "      <td>1</td>\n",
       "      <td>1</td>\n",
       "      <td>0</td>\n",
       "      <td>0</td>\n",
       "      <td>70</td>\n",
       "      <td>1</td>\n",
       "      <td>1</td>\n",
       "      <td>0</td>\n",
       "      <td>1</td>\n",
       "      <td>1</td>\n",
       "      <td>...</td>\n",
       "      <td>1</td>\n",
       "      <td>0</td>\n",
       "      <td>0</td>\n",
       "      <td>0</td>\n",
       "      <td>0</td>\n",
       "      <td>1</td>\n",
       "      <td>1</td>\n",
       "      <td>0</td>\n",
       "      <td>0</td>\n",
       "      <td>0</td>\n",
       "    </tr>\n",
       "  </tbody>\n",
       "</table>\n",
       "<p>4 rows × 27 columns</p>\n",
       "</div>"
      ],
      "text/plain": [
       "      gender  SeniorCitizen  Partner  Dependents  tenure  PhoneService  \\\n",
       "1798       0              0        0           0      35             1   \n",
       "5963       0              0        1           1      22             1   \n",
       "1838       0              1        0           0      54             1   \n",
       "4512       1              1        0           0      70             1   \n",
       "\n",
       "      MultipleLines  OnlineSecurity  OnlineBackup  DeviceProtection  ...  \\\n",
       "1798              1               0             0                 0  ...   \n",
       "5963              1               0             0                 1  ...   \n",
       "1838              1               0             1                 0  ...   \n",
       "4512              1               0             1                 1  ...   \n",
       "\n",
       "      InternetService_DSL  InternetService_Fiber optic  InternetService_No  \\\n",
       "1798                    0                            0                   1   \n",
       "5963                    1                            0                   0   \n",
       "1838                    0                            1                   0   \n",
       "4512                    1                            0                   0   \n",
       "\n",
       "      Contract_Month-to-month  Contract_One year  Contract_Two year  \\\n",
       "1798                        0                  1                  0   \n",
       "5963                        0                  1                  0   \n",
       "1838                        1                  0                  0   \n",
       "4512                        0                  0                  1   \n",
       "\n",
       "      PaymentMethod_Bank transfer (automatic)  \\\n",
       "1798                                        1   \n",
       "5963                                        0   \n",
       "1838                                        0   \n",
       "4512                                        1   \n",
       "\n",
       "      PaymentMethod_Credit card (automatic)  PaymentMethod_Electronic check  \\\n",
       "1798                                      0                               0   \n",
       "5963                                      0                               0   \n",
       "1838                                      0                               1   \n",
       "4512                                      0                               0   \n",
       "\n",
       "      PaymentMethod_Mailed check  \n",
       "1798                           0  \n",
       "5963                           1  \n",
       "1838                           0  \n",
       "4512                           0  \n",
       "\n",
       "[4 rows x 27 columns]"
      ]
     },
     "execution_count": 36,
     "metadata": {},
     "output_type": "execute_result"
    }
   ],
   "source": [
    "#Vsialiser 4 row aleatoire\n",
    "#Vous pouvez voire que nous avons els columns\n",
    "\n",
    "df2.sample(4)"
   ]
  },
  {
   "cell_type": "code",
   "execution_count": 37,
   "id": "3266e321",
   "metadata": {},
   "outputs": [
    {
     "data": {
      "text/plain": [
       "gender                                       int64\n",
       "SeniorCitizen                                int64\n",
       "Partner                                      int64\n",
       "Dependents                                   int64\n",
       "tenure                                       int64\n",
       "PhoneService                                 int64\n",
       "MultipleLines                                int64\n",
       "OnlineSecurity                               int64\n",
       "OnlineBackup                                 int64\n",
       "DeviceProtection                             int64\n",
       "TechSupport                                  int64\n",
       "StreamingTV                                  int64\n",
       "StreamingMovies                              int64\n",
       "PaperlessBilling                             int64\n",
       "MonthlyCharges                             float64\n",
       "TotalCharges                               float64\n",
       "Churn                                        int64\n",
       "InternetService_DSL                          uint8\n",
       "InternetService_Fiber optic                  uint8\n",
       "InternetService_No                           uint8\n",
       "Contract_Month-to-month                      uint8\n",
       "Contract_One year                            uint8\n",
       "Contract_Two year                            uint8\n",
       "PaymentMethod_Bank transfer (automatic)      uint8\n",
       "PaymentMethod_Credit card (automatic)        uint8\n",
       "PaymentMethod_Electronic check               uint8\n",
       "PaymentMethod_Mailed check                   uint8\n",
       "dtype: object"
      ]
     },
     "execution_count": 37,
     "metadata": {},
     "output_type": "execute_result"
    }
   ],
   "source": [
    "df2.dtypes\n",
    "#Good, we don't have string"
   ]
  },
  {
   "cell_type": "markdown",
   "id": "b2e30008",
   "metadata": {},
   "source": [
    "### Scaling"
   ]
  },
  {
   "cell_type": "code",
   "execution_count": 38,
   "id": "165bb67d",
   "metadata": {},
   "outputs": [],
   "source": [
    "# Tenure, Monthly Charges and TotalCharges\n",
    "\n",
    "cols_to_scale = ['tenure','MonthlyCharges','TotalCharges']\n",
    "\n",
    "from sklearn.preprocessing import MinMaxScaler\n",
    "scaler = MinMaxScaler() #create a variable for scaler\n",
    "df2[cols_to_scale] = scaler.fit_transform(df2[cols_to_scale]) #Transform those specific columns and store it into the dataframe after transform()"
   ]
  },
  {
   "cell_type": "code",
   "execution_count": 39,
   "id": "1dcf740b",
   "metadata": {},
   "outputs": [
    {
     "data": {
      "text/html": [
       "<div>\n",
       "<style scoped>\n",
       "    .dataframe tbody tr th:only-of-type {\n",
       "        vertical-align: middle;\n",
       "    }\n",
       "\n",
       "    .dataframe tbody tr th {\n",
       "        vertical-align: top;\n",
       "    }\n",
       "\n",
       "    .dataframe thead th {\n",
       "        text-align: right;\n",
       "    }\n",
       "</style>\n",
       "<table border=\"1\" class=\"dataframe\">\n",
       "  <thead>\n",
       "    <tr style=\"text-align: right;\">\n",
       "      <th></th>\n",
       "      <th>gender</th>\n",
       "      <th>SeniorCitizen</th>\n",
       "      <th>Partner</th>\n",
       "      <th>Dependents</th>\n",
       "      <th>tenure</th>\n",
       "      <th>PhoneService</th>\n",
       "      <th>MultipleLines</th>\n",
       "      <th>OnlineSecurity</th>\n",
       "      <th>OnlineBackup</th>\n",
       "      <th>DeviceProtection</th>\n",
       "      <th>...</th>\n",
       "      <th>InternetService_DSL</th>\n",
       "      <th>InternetService_Fiber optic</th>\n",
       "      <th>InternetService_No</th>\n",
       "      <th>Contract_Month-to-month</th>\n",
       "      <th>Contract_One year</th>\n",
       "      <th>Contract_Two year</th>\n",
       "      <th>PaymentMethod_Bank transfer (automatic)</th>\n",
       "      <th>PaymentMethod_Credit card (automatic)</th>\n",
       "      <th>PaymentMethod_Electronic check</th>\n",
       "      <th>PaymentMethod_Mailed check</th>\n",
       "    </tr>\n",
       "  </thead>\n",
       "  <tbody>\n",
       "    <tr>\n",
       "      <th>1892</th>\n",
       "      <td>0</td>\n",
       "      <td>1</td>\n",
       "      <td>0</td>\n",
       "      <td>0</td>\n",
       "      <td>0.042254</td>\n",
       "      <td>0</td>\n",
       "      <td>0</td>\n",
       "      <td>0</td>\n",
       "      <td>1</td>\n",
       "      <td>0</td>\n",
       "      <td>...</td>\n",
       "      <td>1</td>\n",
       "      <td>0</td>\n",
       "      <td>0</td>\n",
       "      <td>1</td>\n",
       "      <td>0</td>\n",
       "      <td>0</td>\n",
       "      <td>0</td>\n",
       "      <td>1</td>\n",
       "      <td>0</td>\n",
       "      <td>0</td>\n",
       "    </tr>\n",
       "  </tbody>\n",
       "</table>\n",
       "<p>1 rows × 27 columns</p>\n",
       "</div>"
      ],
      "text/plain": [
       "      gender  SeniorCitizen  Partner  Dependents    tenure  PhoneService  \\\n",
       "1892       0              1        0           0  0.042254             0   \n",
       "\n",
       "      MultipleLines  OnlineSecurity  OnlineBackup  DeviceProtection  ...  \\\n",
       "1892              0               0             1                 0  ...   \n",
       "\n",
       "      InternetService_DSL  InternetService_Fiber optic  InternetService_No  \\\n",
       "1892                    1                            0                   0   \n",
       "\n",
       "      Contract_Month-to-month  Contract_One year  Contract_Two year  \\\n",
       "1892                        1                  0                  0   \n",
       "\n",
       "      PaymentMethod_Bank transfer (automatic)  \\\n",
       "1892                                        0   \n",
       "\n",
       "      PaymentMethod_Credit card (automatic)  PaymentMethod_Electronic check  \\\n",
       "1892                                      1                               0   \n",
       "\n",
       "      PaymentMethod_Mailed check  \n",
       "1892                           0  \n",
       "\n",
       "[1 rows x 27 columns]"
      ]
     },
     "execution_count": 39,
     "metadata": {},
     "output_type": "execute_result"
    }
   ],
   "source": [
    "df2.sample(1)\n",
    "#You can see now that the values are scaled"
   ]
  },
  {
   "cell_type": "code",
   "execution_count": 40,
   "id": "65b49369",
   "metadata": {},
   "outputs": [
    {
     "name": "stdout",
     "output_type": "stream",
     "text": [
      "gender: [1 0]\n",
      "SeniorCitizen: [0 1]\n",
      "Partner: [1 0]\n",
      "Dependents: [0 1]\n",
      "tenure: [0.         0.46478873 0.01408451 0.61971831 0.09859155 0.29577465\n",
      " 0.12676056 0.38028169 0.85915493 0.16901408 0.21126761 0.8028169\n",
      " 0.67605634 0.33802817 0.95774648 0.71830986 0.98591549 0.28169014\n",
      " 0.15492958 0.4084507  0.64788732 1.         0.22535211 0.36619718\n",
      " 0.05633803 0.63380282 0.14084507 0.97183099 0.87323944 0.5915493\n",
      " 0.1971831  0.83098592 0.23943662 0.91549296 0.11267606 0.02816901\n",
      " 0.42253521 0.69014085 0.88732394 0.77464789 0.08450704 0.57746479\n",
      " 0.47887324 0.66197183 0.3943662  0.90140845 0.52112676 0.94366197\n",
      " 0.43661972 0.76056338 0.50704225 0.49295775 0.56338028 0.07042254\n",
      " 0.04225352 0.45070423 0.92957746 0.30985915 0.78873239 0.84507042\n",
      " 0.18309859 0.26760563 0.73239437 0.54929577 0.81690141 0.32394366\n",
      " 0.6056338  0.25352113 0.74647887 0.70422535 0.35211268 0.53521127]\n",
      "PhoneService: [0 1]\n",
      "MultipleLines: [0 1]\n",
      "OnlineSecurity: [0 1]\n",
      "OnlineBackup: [1 0]\n",
      "DeviceProtection: [0 1]\n",
      "TechSupport: [0 1]\n",
      "StreamingTV: [0 1]\n",
      "StreamingMovies: [0 1]\n",
      "PaperlessBilling: [1 0]\n",
      "MonthlyCharges: [0.11542289 0.38507463 0.35422886 ... 0.44626866 0.25820896 0.60149254]\n",
      "TotalCharges: [0.0012751  0.21586661 0.01031041 ... 0.03780868 0.03321025 0.78764136]\n",
      "Churn: [0 1]\n",
      "InternetService_DSL: [1 0]\n",
      "InternetService_Fiber optic: [0 1]\n",
      "InternetService_No: [0 1]\n",
      "Contract_Month-to-month: [1 0]\n",
      "Contract_One year: [0 1]\n",
      "Contract_Two year: [0 1]\n",
      "PaymentMethod_Bank transfer (automatic): [0 1]\n",
      "PaymentMethod_Credit card (automatic): [0 1]\n",
      "PaymentMethod_Electronic check: [1 0]\n",
      "PaymentMethod_Mailed check: [0 1]\n"
     ]
    }
   ],
   "source": [
    "for col in df2:\n",
    "    print(f'{col}: {df2[col].unique()}')"
   ]
  },
  {
   "cell_type": "markdown",
   "id": "c3e6da0a",
   "metadata": {},
   "source": [
    "# Model"
   ]
  },
  {
   "cell_type": "markdown",
   "id": "ea723b34",
   "metadata": {},
   "source": [
    "## X and Y"
   ]
  },
  {
   "cell_type": "code",
   "execution_count": 41,
   "id": "28075fcb",
   "metadata": {},
   "outputs": [],
   "source": [
    "X = df2.drop('Churn',axis='columns')\n",
    "y = df2['Churn']"
   ]
  },
  {
   "cell_type": "markdown",
   "id": "7a791694",
   "metadata": {},
   "source": [
    "## Split"
   ]
  },
  {
   "cell_type": "code",
   "execution_count": 42,
   "id": "e23b3bd0",
   "metadata": {},
   "outputs": [],
   "source": [
    "from sklearn.model_selection import train_test_split\n",
    "X_train, X_test, y_train, y_test = train_test_split(X,y,test_size=0.3,random_state=5)"
   ]
  },
  {
   "cell_type": "code",
   "execution_count": 43,
   "id": "547cffb1",
   "metadata": {},
   "outputs": [
    {
     "data": {
      "text/plain": [
       "(4922, 26)"
      ]
     },
     "execution_count": 43,
     "metadata": {},
     "output_type": "execute_result"
    }
   ],
   "source": [
    "X_train.shape"
   ]
  },
  {
   "cell_type": "code",
   "execution_count": 44,
   "id": "e1832589",
   "metadata": {},
   "outputs": [
    {
     "data": {
      "text/plain": [
       "(2110, 26)"
      ]
     },
     "execution_count": 44,
     "metadata": {},
     "output_type": "execute_result"
    }
   ],
   "source": [
    "X_test.shape"
   ]
  },
  {
   "cell_type": "markdown",
   "id": "2938343a",
   "metadata": {},
   "source": [
    "## Build a model"
   ]
  },
  {
   "cell_type": "code",
   "execution_count": 45,
   "id": "56db0ed9",
   "metadata": {},
   "outputs": [
    {
     "name": "stdout",
     "output_type": "stream",
     "text": [
      "WARNING:tensorflow:Please fix your imports. Module tensorflow.python.training.tracking.base has been moved to tensorflow.python.trackable.base. The old module will be deleted in version 2.11.\n",
      "WARNING:tensorflow:Please fix your imports. Module tensorflow.python.training.tracking.resource has been moved to tensorflow.python.trackable.resource. The old module will be deleted in version 2.11.\n",
      "WARNING:tensorflow:Please fix your imports. Module tensorflow.python.training.tracking.graph_view has been moved to tensorflow.python.checkpoint.graph_view. The old module will be deleted in version 2.11.\n",
      "WARNING:tensorflow:Please fix your imports. Module tensorflow.python.training.saving.functional_saver has been moved to tensorflow.python.checkpoint.functional_saver. The old module will be deleted in version 2.11.\n",
      "WARNING:tensorflow:Please fix your imports. Module tensorflow.python.training.saving.checkpoint_options has been moved to tensorflow.python.checkpoint.checkpoint_options. The old module will be deleted in version 2.11.\n",
      "Epoch 1/100\n",
      "154/154 [==============================] - 3s 2ms/step - loss: 0.4942 - accuracy: 0.7562\n",
      "Epoch 2/100\n",
      "154/154 [==============================] - 0s 2ms/step - loss: 0.4255 - accuracy: 0.7972\n",
      "Epoch 3/100\n",
      "154/154 [==============================] - 0s 2ms/step - loss: 0.4175 - accuracy: 0.8005\n",
      "Epoch 4/100\n",
      "154/154 [==============================] - 0s 2ms/step - loss: 0.4142 - accuracy: 0.8066\n",
      "Epoch 5/100\n",
      "154/154 [==============================] - 0s 2ms/step - loss: 0.4109 - accuracy: 0.8068\n",
      "Epoch 6/100\n",
      "154/154 [==============================] - 0s 2ms/step - loss: 0.4093 - accuracy: 0.8100\n",
      "Epoch 7/100\n",
      "154/154 [==============================] - 0s 2ms/step - loss: 0.4081 - accuracy: 0.8086\n",
      "Epoch 8/100\n",
      "154/154 [==============================] - 0s 2ms/step - loss: 0.4051 - accuracy: 0.8082\n",
      "Epoch 9/100\n",
      "154/154 [==============================] - 0s 2ms/step - loss: 0.4028 - accuracy: 0.8125\n",
      "Epoch 10/100\n",
      "154/154 [==============================] - 0s 2ms/step - loss: 0.4033 - accuracy: 0.8143\n",
      "Epoch 11/100\n",
      "154/154 [==============================] - 0s 2ms/step - loss: 0.4009 - accuracy: 0.8121\n",
      "Epoch 12/100\n",
      "154/154 [==============================] - 0s 2ms/step - loss: 0.3991 - accuracy: 0.8143\n",
      "Epoch 13/100\n",
      "154/154 [==============================] - 0s 2ms/step - loss: 0.3969 - accuracy: 0.8141\n",
      "Epoch 14/100\n",
      "154/154 [==============================] - 0s 2ms/step - loss: 0.3964 - accuracy: 0.8125\n",
      "Epoch 15/100\n",
      "154/154 [==============================] - 0s 2ms/step - loss: 0.3948 - accuracy: 0.8161\n",
      "Epoch 16/100\n",
      "154/154 [==============================] - 0s 3ms/step - loss: 0.3935 - accuracy: 0.8141\n",
      "Epoch 17/100\n",
      "154/154 [==============================] - 0s 3ms/step - loss: 0.3933 - accuracy: 0.8171\n",
      "Epoch 18/100\n",
      "154/154 [==============================] - 0s 3ms/step - loss: 0.3910 - accuracy: 0.8149\n",
      "Epoch 19/100\n",
      "154/154 [==============================] - 0s 2ms/step - loss: 0.3908 - accuracy: 0.8167\n",
      "Epoch 20/100\n",
      "154/154 [==============================] - 0s 2ms/step - loss: 0.3893 - accuracy: 0.8202\n",
      "Epoch 21/100\n",
      "154/154 [==============================] - 0s 2ms/step - loss: 0.3876 - accuracy: 0.8178\n",
      "Epoch 22/100\n",
      "154/154 [==============================] - 0s 3ms/step - loss: 0.3871 - accuracy: 0.8180\n",
      "Epoch 23/100\n",
      "154/154 [==============================] - 0s 3ms/step - loss: 0.3858 - accuracy: 0.8216\n",
      "Epoch 24/100\n",
      "154/154 [==============================] - 0s 3ms/step - loss: 0.3857 - accuracy: 0.8204\n",
      "Epoch 25/100\n",
      "154/154 [==============================] - 0s 2ms/step - loss: 0.3834 - accuracy: 0.8253\n",
      "Epoch 26/100\n",
      "154/154 [==============================] - 0s 2ms/step - loss: 0.3840 - accuracy: 0.8257\n",
      "Epoch 27/100\n",
      "154/154 [==============================] - 0s 3ms/step - loss: 0.3832 - accuracy: 0.8251\n",
      "Epoch 28/100\n",
      "154/154 [==============================] - 0s 3ms/step - loss: 0.3814 - accuracy: 0.8251\n",
      "Epoch 29/100\n",
      "154/154 [==============================] - 0s 3ms/step - loss: 0.3812 - accuracy: 0.8249\n",
      "Epoch 30/100\n",
      "154/154 [==============================] - 0s 3ms/step - loss: 0.3807 - accuracy: 0.8259\n",
      "Epoch 31/100\n",
      "154/154 [==============================] - 0s 3ms/step - loss: 0.3808 - accuracy: 0.8214\n",
      "Epoch 32/100\n",
      "154/154 [==============================] - 0s 3ms/step - loss: 0.3775 - accuracy: 0.8263\n",
      "Epoch 33/100\n",
      "154/154 [==============================] - 0s 3ms/step - loss: 0.3778 - accuracy: 0.8261\n",
      "Epoch 34/100\n",
      "154/154 [==============================] - 0s 3ms/step - loss: 0.3775 - accuracy: 0.8253\n",
      "Epoch 35/100\n",
      "154/154 [==============================] - 0s 3ms/step - loss: 0.3761 - accuracy: 0.8281\n",
      "Epoch 36/100\n",
      "154/154 [==============================] - 0s 3ms/step - loss: 0.3752 - accuracy: 0.8297\n",
      "Epoch 37/100\n",
      "154/154 [==============================] - 0s 3ms/step - loss: 0.3739 - accuracy: 0.8295\n",
      "Epoch 38/100\n",
      "154/154 [==============================] - 0s 2ms/step - loss: 0.3750 - accuracy: 0.8271\n",
      "Epoch 39/100\n",
      "154/154 [==============================] - 0s 3ms/step - loss: 0.3733 - accuracy: 0.8285\n",
      "Epoch 40/100\n",
      "154/154 [==============================] - 0s 3ms/step - loss: 0.3721 - accuracy: 0.8297\n",
      "Epoch 41/100\n",
      "154/154 [==============================] - 0s 3ms/step - loss: 0.3706 - accuracy: 0.8306\n",
      "Epoch 42/100\n",
      "154/154 [==============================] - 0s 3ms/step - loss: 0.3712 - accuracy: 0.8320\n",
      "Epoch 43/100\n",
      "154/154 [==============================] - 0s 2ms/step - loss: 0.3708 - accuracy: 0.8295\n",
      "Epoch 44/100\n",
      "154/154 [==============================] - 0s 3ms/step - loss: 0.3702 - accuracy: 0.8312\n",
      "Epoch 45/100\n",
      "154/154 [==============================] - 0s 3ms/step - loss: 0.3688 - accuracy: 0.8293\n",
      "Epoch 46/100\n",
      "154/154 [==============================] - 0s 3ms/step - loss: 0.3696 - accuracy: 0.8316\n",
      "Epoch 47/100\n",
      "154/154 [==============================] - 0s 3ms/step - loss: 0.3680 - accuracy: 0.8297\n",
      "Epoch 48/100\n",
      "154/154 [==============================] - 0s 3ms/step - loss: 0.3679 - accuracy: 0.8279\n",
      "Epoch 49/100\n",
      "154/154 [==============================] - 0s 3ms/step - loss: 0.3663 - accuracy: 0.8269\n",
      "Epoch 50/100\n",
      "154/154 [==============================] - 0s 3ms/step - loss: 0.3662 - accuracy: 0.8342\n",
      "Epoch 51/100\n",
      "154/154 [==============================] - 0s 3ms/step - loss: 0.3656 - accuracy: 0.8332\n",
      "Epoch 52/100\n",
      "154/154 [==============================] - 0s 3ms/step - loss: 0.3645 - accuracy: 0.8324\n",
      "Epoch 53/100\n",
      "154/154 [==============================] - 0s 3ms/step - loss: 0.3650 - accuracy: 0.8332\n",
      "Epoch 54/100\n",
      "154/154 [==============================] - 0s 3ms/step - loss: 0.3651 - accuracy: 0.8293\n",
      "Epoch 55/100\n",
      "154/154 [==============================] - 0s 3ms/step - loss: 0.3648 - accuracy: 0.8314\n",
      "Epoch 56/100\n",
      "154/154 [==============================] - 0s 3ms/step - loss: 0.3628 - accuracy: 0.8334\n",
      "Epoch 57/100\n",
      "154/154 [==============================] - 0s 3ms/step - loss: 0.3614 - accuracy: 0.8350\n",
      "Epoch 58/100\n",
      "154/154 [==============================] - 0s 3ms/step - loss: 0.3605 - accuracy: 0.8330\n",
      "Epoch 59/100\n",
      "154/154 [==============================] - 0s 3ms/step - loss: 0.3625 - accuracy: 0.8342\n",
      "Epoch 60/100\n",
      "154/154 [==============================] - 0s 3ms/step - loss: 0.3619 - accuracy: 0.8336\n",
      "Epoch 61/100\n",
      "154/154 [==============================] - 0s 3ms/step - loss: 0.3601 - accuracy: 0.8373\n",
      "Epoch 62/100\n",
      "154/154 [==============================] - 0s 3ms/step - loss: 0.3602 - accuracy: 0.8360\n",
      "Epoch 63/100\n",
      "154/154 [==============================] - 0s 3ms/step - loss: 0.3587 - accuracy: 0.8356\n",
      "Epoch 64/100\n",
      "154/154 [==============================] - 0s 3ms/step - loss: 0.3592 - accuracy: 0.8342\n",
      "Epoch 65/100\n",
      "154/154 [==============================] - 0s 3ms/step - loss: 0.3579 - accuracy: 0.8364\n",
      "Epoch 66/100\n",
      "154/154 [==============================] - 0s 3ms/step - loss: 0.3581 - accuracy: 0.8316\n",
      "Epoch 67/100\n",
      "154/154 [==============================] - 0s 3ms/step - loss: 0.3570 - accuracy: 0.8387\n",
      "Epoch 68/100\n",
      "154/154 [==============================] - 0s 3ms/step - loss: 0.3567 - accuracy: 0.8377\n",
      "Epoch 69/100\n",
      "154/154 [==============================] - 0s 2ms/step - loss: 0.3547 - accuracy: 0.8391\n",
      "Epoch 70/100\n",
      "154/154 [==============================] - 0s 3ms/step - loss: 0.3555 - accuracy: 0.8346\n",
      "Epoch 71/100\n",
      "154/154 [==============================] - 0s 3ms/step - loss: 0.3551 - accuracy: 0.8360\n",
      "Epoch 72/100\n",
      "154/154 [==============================] - 0s 2ms/step - loss: 0.3545 - accuracy: 0.8369\n",
      "Epoch 73/100\n",
      "154/154 [==============================] - 0s 3ms/step - loss: 0.3541 - accuracy: 0.8399\n",
      "Epoch 74/100\n",
      "154/154 [==============================] - 0s 2ms/step - loss: 0.3538 - accuracy: 0.8397\n",
      "Epoch 75/100\n",
      "154/154 [==============================] - 0s 3ms/step - loss: 0.3533 - accuracy: 0.8387\n",
      "Epoch 76/100\n",
      "154/154 [==============================] - 0s 3ms/step - loss: 0.3533 - accuracy: 0.8391\n",
      "Epoch 77/100\n",
      "154/154 [==============================] - 0s 3ms/step - loss: 0.3517 - accuracy: 0.8393\n",
      "Epoch 78/100\n",
      "154/154 [==============================] - 0s 3ms/step - loss: 0.3512 - accuracy: 0.8407\n",
      "Epoch 79/100\n",
      "154/154 [==============================] - 0s 2ms/step - loss: 0.3509 - accuracy: 0.8381\n",
      "Epoch 80/100\n",
      "154/154 [==============================] - 0s 3ms/step - loss: 0.3516 - accuracy: 0.8395\n",
      "Epoch 81/100\n",
      "154/154 [==============================] - 0s 2ms/step - loss: 0.3507 - accuracy: 0.8391\n",
      "Epoch 82/100\n",
      "154/154 [==============================] - 0s 3ms/step - loss: 0.3498 - accuracy: 0.8362\n",
      "Epoch 83/100\n",
      "154/154 [==============================] - 0s 3ms/step - loss: 0.3488 - accuracy: 0.8399\n",
      "Epoch 84/100\n",
      "154/154 [==============================] - 0s 2ms/step - loss: 0.3495 - accuracy: 0.8401\n",
      "Epoch 85/100\n",
      "154/154 [==============================] - 0s 3ms/step - loss: 0.3485 - accuracy: 0.8430\n",
      "Epoch 86/100\n",
      "154/154 [==============================] - 0s 3ms/step - loss: 0.3482 - accuracy: 0.8417\n",
      "Epoch 87/100\n",
      "154/154 [==============================] - 0s 2ms/step - loss: 0.3476 - accuracy: 0.8432\n",
      "Epoch 88/100\n",
      "154/154 [==============================] - 0s 3ms/step - loss: 0.3480 - accuracy: 0.8423\n",
      "Epoch 89/100\n",
      "154/154 [==============================] - 0s 3ms/step - loss: 0.3471 - accuracy: 0.8407\n",
      "Epoch 90/100\n",
      "154/154 [==============================] - 0s 3ms/step - loss: 0.3475 - accuracy: 0.8417\n",
      "Epoch 91/100\n",
      "154/154 [==============================] - 0s 3ms/step - loss: 0.3475 - accuracy: 0.8387\n",
      "Epoch 92/100\n",
      "154/154 [==============================] - 0s 3ms/step - loss: 0.3473 - accuracy: 0.8385\n",
      "Epoch 93/100\n",
      "154/154 [==============================] - 0s 3ms/step - loss: 0.3477 - accuracy: 0.8399\n",
      "Epoch 94/100\n",
      "154/154 [==============================] - 0s 3ms/step - loss: 0.3455 - accuracy: 0.8423\n",
      "Epoch 95/100\n",
      "154/154 [==============================] - 0s 3ms/step - loss: 0.3468 - accuracy: 0.8409\n",
      "Epoch 96/100\n",
      "154/154 [==============================] - 0s 3ms/step - loss: 0.3445 - accuracy: 0.8434\n",
      "Epoch 97/100\n",
      "154/154 [==============================] - 0s 3ms/step - loss: 0.3459 - accuracy: 0.8383\n",
      "Epoch 98/100\n",
      "154/154 [==============================] - 0s 3ms/step - loss: 0.3448 - accuracy: 0.8434\n",
      "Epoch 99/100\n",
      "154/154 [==============================] - 0s 3ms/step - loss: 0.3454 - accuracy: 0.8432\n",
      "Epoch 100/100\n",
      "154/154 [==============================] - 0s 3ms/step - loss: 0.3433 - accuracy: 0.8425\n"
     ]
    },
    {
     "data": {
      "text/plain": [
       "<keras.callbacks.History at 0x2198660bcd0>"
      ]
     },
     "execution_count": 45,
     "metadata": {},
     "output_type": "execute_result"
    }
   ],
   "source": [
    "import tensorflow as tf\n",
    "from tensorflow import keras\n",
    "\n",
    "\n",
    "model = keras.Sequential([\n",
    "    keras.layers.Dense(26, input_shape=(26,), activation='relu'), #Input Layers ; sme number of columns (neurons)\n",
    "    keras.layers.Dense(18 , activation='relu'), #Hidden Layer\n",
    "    keras.layers.Dense(1, activation='sigmoid') #Leave or stay\n",
    "])\n",
    "\n",
    "# opt = keras.optimizers.Adam(learning_rate=0.01)\n",
    "\n",
    "model.compile(optimizer='adam',\n",
    "              loss='binary_crossentropy',\n",
    "              metrics=['accuracy'])\n",
    "\n",
    "model.fit(X_train, y_train, epochs=100)"
   ]
  },
  {
   "cell_type": "code",
   "execution_count": 46,
   "id": "aced4d28",
   "metadata": {},
   "outputs": [
    {
     "name": "stdout",
     "output_type": "stream",
     "text": [
      "66/66 [==============================] - 0s 2ms/step - loss: 0.4817 - accuracy: 0.7716\n"
     ]
    },
    {
     "data": {
      "text/plain": [
       "[0.48167264461517334, 0.7715640068054199]"
      ]
     },
     "execution_count": 46,
     "metadata": {},
     "output_type": "execute_result"
    }
   ],
   "source": [
    "model.evaluate(X_test, y_test)"
   ]
  },
  {
   "cell_type": "code",
   "execution_count": 47,
   "id": "533ad1f7",
   "metadata": {},
   "outputs": [
    {
     "name": "stdout",
     "output_type": "stream",
     "text": [
      "66/66 [==============================] - 0s 1ms/step\n"
     ]
    },
    {
     "data": {
      "text/plain": [
       "array([[0.303179  ],\n",
       "       [0.50316507],\n",
       "       [0.01620088],\n",
       "       [0.8517897 ],\n",
       "       [0.514555  ]], dtype=float32)"
      ]
     },
     "execution_count": 47,
     "metadata": {},
     "output_type": "execute_result"
    }
   ],
   "source": [
    "yp = model.predict(X_test)\n",
    "yp[:5]"
   ]
  },
  {
   "cell_type": "code",
   "execution_count": 48,
   "id": "e46bb39b",
   "metadata": {},
   "outputs": [],
   "source": [
    "#Converting the results between 0 and 1  from 2D to 1D\n",
    "\n",
    "y_pred = []\n",
    "for element in yp:\n",
    "    if element > 0.5:\n",
    "        y_pred.append(1)\n",
    "    else:\n",
    "        y_pred.append(0)"
   ]
  },
  {
   "cell_type": "code",
   "execution_count": 49,
   "id": "1a5fae38",
   "metadata": {},
   "outputs": [
    {
     "data": {
      "text/plain": [
       "[0, 1, 0, 1, 1]"
      ]
     },
     "execution_count": 49,
     "metadata": {},
     "output_type": "execute_result"
    }
   ],
   "source": [
    "y_pred[:5]"
   ]
  },
  {
   "cell_type": "code",
   "execution_count": 50,
   "id": "48824bd6",
   "metadata": {},
   "outputs": [
    {
     "data": {
      "text/plain": [
       "2660    0\n",
       "744     0\n",
       "5579    1\n",
       "64      1\n",
       "3287    1\n",
       "Name: Churn, dtype: int64"
      ]
     },
     "execution_count": 50,
     "metadata": {},
     "output_type": "execute_result"
    }
   ],
   "source": [
    "y_test[:5]\n",
    "#Wrong, True,Wrong, True, Wrong"
   ]
  },
  {
   "cell_type": "code",
   "execution_count": 51,
   "id": "c14511e1",
   "metadata": {},
   "outputs": [
    {
     "data": {
      "text/plain": [
       "Text(69.0, 0.5, 'Truth')"
      ]
     },
     "execution_count": 51,
     "metadata": {},
     "output_type": "execute_result"
    },
    {
     "data": {
      "image/png": "[encoded data removed]",
      "text/plain": [
       "<Figure size 720x504 with 2 Axes>"
      ]
     },
     "metadata": {
      "needs_background": "light"
     },
     "output_type": "display_data"
    }
   ],
   "source": [
    "import seaborn as sn\n",
    "\n",
    "cm = tf.math.confusion_matrix(labels=y_test,predictions=y_pred)\n",
    "\n",
    "plt.figure(figsize = (10,7))\n",
    "sn.heatmap(cm, annot=True, fmt='d')\n",
    "plt.xlabel('Predicted')\n",
    "plt.ylabel('Truth')"
   ]
  },
  {
   "cell_type": "code",
   "execution_count": 52,
   "id": "6aed1e8c",
   "metadata": {},
   "outputs": [
    {
     "name": "stdout",
     "output_type": "stream",
     "text": [
      "              precision    recall  f1-score   support\n",
      "\n",
      "           0       0.82      0.87      0.85      1511\n",
      "           1       0.62      0.51      0.56       599\n",
      "\n",
      "    accuracy                           0.77      2110\n",
      "   macro avg       0.72      0.69      0.70      2110\n",
      "weighted avg       0.76      0.77      0.76      2110\n",
      "\n"
     ]
    }
   ],
   "source": [
    "from sklearn.metrics import confusion_matrix , classification_report\n",
    "\n",
    "print(classification_report(y_test,y_pred))\n",
    "\n",
    "#Plot the performance of the model"
   ]
  },
  {
   "cell_type": "code",
   "execution_count": 53,
   "id": "14439ace",
   "metadata": {},
   "outputs": [
    {
     "data": {
      "text/plain": [
       "(2110,)"
      ]
     },
     "execution_count": 53,
     "metadata": {},
     "output_type": "execute_result"
    }
   ],
   "source": [
    "y_test.shape"
   ]
  },
  {
   "cell_type": "markdown",
   "id": "03932a84",
   "metadata": {},
   "source": [
    "## Score"
   ]
  },
  {
   "cell_type": "code",
   "execution_count": 54,
   "id": "6b90df92",
   "metadata": {},
   "outputs": [
    {
     "data": {
      "text/plain": [
       "77.0"
      ]
     },
     "execution_count": 54,
     "metadata": {},
     "output_type": "execute_result"
    }
   ],
   "source": [
    "# Accuracy f1-score\n",
    "\n",
    "#Correct prediction (diagnoal)/ Total prediction\n",
    "#,2) is two decimal places\n",
    "\n",
    "round((1322+299)/(1322+299+189+300),2)*100"
   ]
  },
  {
   "cell_type": "code",
   "execution_count": 55,
   "id": "895395bc",
   "metadata": {},
   "outputs": [
    {
     "data": {
      "text/plain": [
       "82.0"
      ]
     },
     "execution_count": 55,
     "metadata": {},
     "output_type": "execute_result"
    }
   ],
   "source": [
    "#Precision for 0 class. i.e. Precision for customers who did not churn\n",
    "#The number of correct prediction for 0 / Total prediction of 0 (True and false)\n",
    "\n",
    "round(1322/(1322+300),2)*100"
   ]
  },
  {
   "cell_type": "code",
   "execution_count": 56,
   "id": "dc21f578",
   "metadata": {},
   "outputs": [
    {
     "data": {
      "text/plain": [
       "61.0"
      ]
     },
     "execution_count": 56,
     "metadata": {},
     "output_type": "execute_result"
    }
   ],
   "source": [
    "#Precision for 1 class. i.e. Precision for customers who actually churned\n",
    "#The number of correct prediction for 1 / Total prediction of 1 (True and false)\n",
    "\n",
    "round(299/(299+189),2)*100"
   ]
  },
  {
   "cell_type": "code",
   "execution_count": 57,
   "id": "3f165301",
   "metadata": {},
   "outputs": [
    {
     "data": {
      "text/plain": [
       "86.0"
      ]
     },
     "execution_count": 57,
     "metadata": {},
     "output_type": "execute_result"
    }
   ],
   "source": [
    "#Recall for 0 class\n",
    "#Total of accruat prediction of 0 / (Total of accruat prediction of 0+ False prediction of 1)\n",
    "\n",
    "round(862/(862+137),2)*100"
   ]
  },
  {
   "cell_type": "markdown",
   "id": "1c7c6581",
   "metadata": {},
   "source": [
    "# Handling imbalanced dataset"
   ]
  },
  {
   "cell_type": "markdown",
   "id": "c0039b77",
   "metadata": {},
   "source": [
    "In the last exemple we can see that we have an imbalanced dataset, and you can clearly see the diference in the F1-Score for 0 and 1 \n",
    "\n",
    "We need to impove the F1 score for class 1"
   ]
  },
  {
   "cell_type": "code",
   "execution_count": 95,
   "id": "df15b8c8",
   "metadata": {},
   "outputs": [],
   "source": [
    "import numpy as np"
   ]
  },
  {
   "cell_type": "code",
   "execution_count": 58,
   "id": "7e063554",
   "metadata": {},
   "outputs": [],
   "source": [
    "def ANN(X_train, y_train, X_test, y_test, loss, weights):\n",
    "    model = keras.Sequential([\n",
    "        keras.layers.Dense(26, input_dim=26, activation='relu'),\n",
    "        keras.layers.Dense(15, activation='relu'),\n",
    "        keras.layers.Dense(1, activation='sigmoid')\n",
    "    ])\n",
    "\n",
    "    model.compile(optimizer='adam', loss=loss, metrics=['accuracy'])\n",
    "    \n",
    "    if weights == -1:\n",
    "        model.fit(X_train, y_train, epochs=100)\n",
    "    else:\n",
    "        model.fit(X_train, y_train, epochs=100, class_weight = weights)\n",
    "    \n",
    "    print(model.evaluate(X_test, y_test))\n",
    "    \n",
    "    y_preds = model.predict(X_test)\n",
    "    y_preds = np.round(y_preds)\n",
    "    \n",
    "    print(\"Classification Report: \\n\", classification_report(y_test, y_preds))\n",
    "    \n",
    "    return y_preds"
   ]
  },
  {
   "cell_type": "markdown",
   "id": "db6db66f",
   "metadata": {},
   "source": [
    "# Undersampling majority class"
   ]
  },
  {
   "cell_type": "code",
   "execution_count": 61,
   "id": "a70642fc",
   "metadata": {},
   "outputs": [
    {
     "data": {
      "text/plain": [
       "0    1511\n",
       "1     599\n",
       "Name: Churn, dtype: int64"
      ]
     },
     "execution_count": 61,
     "metadata": {},
     "output_type": "execute_result"
    }
   ],
   "source": [
    "y_test.value_counts()\n",
    "#You can see that we have an imbalanced dataset for classes"
   ]
  },
  {
   "cell_type": "markdown",
   "id": "49e3be60",
   "metadata": {},
   "source": [
    "We will try to take only 599 sample for th 1st class and train our model"
   ]
  },
  {
   "cell_type": "code",
   "execution_count": 64,
   "id": "a72b9b8c",
   "metadata": {},
   "outputs": [],
   "source": [
    "#Count for each class\n",
    "df_class_0 = df2[df2['Churn']==0]\n",
    "df_class_1 = df2[df2['Churn']==1]"
   ]
  },
  {
   "cell_type": "code",
   "execution_count": 69,
   "id": "44a38233",
   "metadata": {},
   "outputs": [
    {
     "data": {
      "text/plain": [
       "(5163, 27)"
      ]
     },
     "execution_count": 69,
     "metadata": {},
     "output_type": "execute_result"
    }
   ],
   "source": [
    "df_class_0.shape"
   ]
  },
  {
   "cell_type": "code",
   "execution_count": 71,
   "id": "7f741d0e",
   "metadata": {},
   "outputs": [
    {
     "data": {
      "text/plain": [
       "(1869, 27)"
      ]
     },
     "execution_count": 71,
     "metadata": {},
     "output_type": "execute_result"
    }
   ],
   "source": [
    "df_class_1.shape"
   ]
  },
  {
   "cell_type": "code",
   "execution_count": 62,
   "id": "f408c91c",
   "metadata": {},
   "outputs": [],
   "source": [
    "#Class count\n",
    "count_class_0, count_class_1 = df1.Churn.value_counts()"
   ]
  },
  {
   "cell_type": "code",
   "execution_count": 79,
   "id": "5b3516c5",
   "metadata": {},
   "outputs": [],
   "source": [
    "#Select random sample for 0 class for the same count for class 1\n",
    "\n",
    "df_class_0_under = df_class_0.sample(count_class_1)"
   ]
  },
  {
   "cell_type": "code",
   "execution_count": 80,
   "id": "ee706d90",
   "metadata": {},
   "outputs": [
    {
     "data": {
      "text/plain": [
       "(1869, 27)"
      ]
     },
     "execution_count": 80,
     "metadata": {},
     "output_type": "execute_result"
    }
   ],
   "source": [
    "df_class_0_under.shape"
   ]
  },
  {
   "cell_type": "code",
   "execution_count": 81,
   "id": "2433e2c8",
   "metadata": {},
   "outputs": [],
   "source": [
    "#Create a df with the merged df_class reduced and the df class 1, we merged the row\n",
    "df_test_under = pd.concat([df_class_0_under, df_class_1], axis=0)"
   ]
  },
  {
   "cell_type": "code",
   "execution_count": 83,
   "id": "48faeca8",
   "metadata": {},
   "outputs": [
    {
     "data": {
      "text/plain": [
       "(3738, 27)"
      ]
     },
     "execution_count": 83,
     "metadata": {},
     "output_type": "execute_result"
    }
   ],
   "source": [
    "#You can see that now we have 3738 row\n",
    "df_test_under.shape"
   ]
  },
  {
   "cell_type": "code",
   "execution_count": 90,
   "id": "0c8ced15",
   "metadata": {
    "collapsed": true
   },
   "outputs": [],
   "source": [
    "# We now create X and y for this new df\n",
    "X = df_test_under.drop('Churn',axis=1)\n",
    "y = df_test_under['Churn']"
   ]
  },
  {
   "cell_type": "code",
   "execution_count": 91,
   "id": "89aea012",
   "metadata": {},
   "outputs": [],
   "source": [
    "#Split test\n",
    "\n",
    "X_train, X_test, y_train, y_test = train_test_split(X,y, test_size=0.25, random_state=15,stratify=y)\n",
    "\n",
    "#stratify make sure you got balanced sample for X_train and X_test (0 and 1) not all the sample are 1 or 0 or majority of the class"
   ]
  },
  {
   "cell_type": "code",
   "execution_count": 93,
   "id": "a16e27b4",
   "metadata": {},
   "outputs": [
    {
     "data": {
      "text/plain": [
       "1    1402\n",
       "0    1401\n",
       "Name: Churn, dtype: int64"
      ]
     },
     "execution_count": 93,
     "metadata": {},
     "output_type": "execute_result"
    }
   ],
   "source": [
    "#Let's take a look at the impact of stratify\n",
    "\n",
    "y_train.value_counts()"
   ]
  },
  {
   "cell_type": "code",
   "execution_count": 96,
   "id": "357a9d56",
   "metadata": {},
   "outputs": [
    {
     "name": "stdout",
     "output_type": "stream",
     "text": [
      "Epoch 1/100\n",
      "88/88 [==============================] - 1s 3ms/step - loss: 0.6321 - accuracy: 0.6522\n",
      "Epoch 2/100\n",
      "88/88 [==============================] - 0s 3ms/step - loss: 0.5287 - accuracy: 0.7603\n",
      "Epoch 3/100\n",
      "88/88 [==============================] - 0s 3ms/step - loss: 0.5018 - accuracy: 0.7620\n",
      "Epoch 4/100\n",
      "88/88 [==============================] - 0s 3ms/step - loss: 0.4923 - accuracy: 0.7656\n",
      "Epoch 5/100\n",
      "88/88 [==============================] - 0s 2ms/step - loss: 0.4866 - accuracy: 0.7695\n",
      "Epoch 6/100\n",
      "88/88 [==============================] - 0s 3ms/step - loss: 0.4829 - accuracy: 0.7724\n",
      "Epoch 7/100\n",
      "88/88 [==============================] - 0s 3ms/step - loss: 0.4803 - accuracy: 0.7681\n",
      "Epoch 8/100\n",
      "88/88 [==============================] - 0s 3ms/step - loss: 0.4778 - accuracy: 0.7710\n",
      "Epoch 9/100\n",
      "88/88 [==============================] - 0s 3ms/step - loss: 0.4750 - accuracy: 0.7713\n",
      "Epoch 10/100\n",
      "88/88 [==============================] - 0s 3ms/step - loss: 0.4726 - accuracy: 0.7727\n",
      "Epoch 11/100\n",
      "88/88 [==============================] - 0s 3ms/step - loss: 0.4690 - accuracy: 0.7785\n",
      "Epoch 12/100\n",
      "88/88 [==============================] - 0s 3ms/step - loss: 0.4680 - accuracy: 0.7785\n",
      "Epoch 13/100\n",
      "88/88 [==============================] - 0s 3ms/step - loss: 0.4666 - accuracy: 0.7781\n",
      "Epoch 14/100\n",
      "88/88 [==============================] - 0s 3ms/step - loss: 0.4639 - accuracy: 0.7809\n",
      "Epoch 15/100\n",
      "88/88 [==============================] - 0s 3ms/step - loss: 0.4627 - accuracy: 0.7838\n",
      "Epoch 16/100\n",
      "88/88 [==============================] - 0s 3ms/step - loss: 0.4605 - accuracy: 0.7845\n",
      "Epoch 17/100\n",
      "88/88 [==============================] - 0s 3ms/step - loss: 0.4603 - accuracy: 0.7859\n",
      "Epoch 18/100\n",
      "88/88 [==============================] - 0s 2ms/step - loss: 0.4562 - accuracy: 0.7856\n",
      "Epoch 19/100\n",
      "88/88 [==============================] - 0s 3ms/step - loss: 0.4559 - accuracy: 0.7834\n",
      "Epoch 20/100\n",
      "88/88 [==============================] - 0s 2ms/step - loss: 0.4567 - accuracy: 0.7831\n",
      "Epoch 21/100\n",
      "88/88 [==============================] - 0s 2ms/step - loss: 0.4530 - accuracy: 0.7867\n",
      "Epoch 22/100\n",
      "88/88 [==============================] - 0s 2ms/step - loss: 0.4534 - accuracy: 0.7920\n",
      "Epoch 23/100\n",
      "88/88 [==============================] - 0s 3ms/step - loss: 0.4503 - accuracy: 0.7870\n",
      "Epoch 24/100\n",
      "88/88 [==============================] - 0s 3ms/step - loss: 0.4511 - accuracy: 0.7884\n",
      "Epoch 25/100\n",
      "88/88 [==============================] - 0s 3ms/step - loss: 0.4482 - accuracy: 0.7895\n",
      "Epoch 26/100\n",
      "88/88 [==============================] - 0s 3ms/step - loss: 0.4465 - accuracy: 0.7931\n",
      "Epoch 27/100\n",
      "88/88 [==============================] - 0s 3ms/step - loss: 0.4473 - accuracy: 0.7881\n",
      "Epoch 28/100\n",
      "88/88 [==============================] - 0s 3ms/step - loss: 0.4441 - accuracy: 0.7974\n",
      "Epoch 29/100\n",
      "88/88 [==============================] - 0s 3ms/step - loss: 0.4451 - accuracy: 0.7949\n",
      "Epoch 30/100\n",
      "88/88 [==============================] - 0s 3ms/step - loss: 0.4428 - accuracy: 0.7970\n",
      "Epoch 31/100\n",
      "88/88 [==============================] - 0s 3ms/step - loss: 0.4413 - accuracy: 0.7945\n",
      "Epoch 32/100\n",
      "88/88 [==============================] - 0s 3ms/step - loss: 0.4405 - accuracy: 0.7959\n",
      "Epoch 33/100\n",
      "88/88 [==============================] - 0s 3ms/step - loss: 0.4399 - accuracy: 0.7977\n",
      "Epoch 34/100\n",
      "88/88 [==============================] - 0s 3ms/step - loss: 0.4401 - accuracy: 0.7959\n",
      "Epoch 35/100\n",
      "88/88 [==============================] - 0s 3ms/step - loss: 0.4379 - accuracy: 0.8016\n",
      "Epoch 36/100\n",
      "88/88 [==============================] - 0s 3ms/step - loss: 0.4366 - accuracy: 0.7988\n",
      "Epoch 37/100\n",
      "88/88 [==============================] - 0s 3ms/step - loss: 0.4358 - accuracy: 0.7966\n",
      "Epoch 38/100\n",
      "88/88 [==============================] - 0s 3ms/step - loss: 0.4354 - accuracy: 0.8013\n",
      "Epoch 39/100\n",
      "88/88 [==============================] - 0s 3ms/step - loss: 0.4349 - accuracy: 0.8013\n",
      "Epoch 40/100\n",
      "88/88 [==============================] - 0s 3ms/step - loss: 0.4335 - accuracy: 0.8009\n",
      "Epoch 41/100\n",
      "88/88 [==============================] - 0s 3ms/step - loss: 0.4316 - accuracy: 0.8034\n",
      "Epoch 42/100\n",
      "88/88 [==============================] - 0s 4ms/step - loss: 0.4303 - accuracy: 0.8020\n",
      "Epoch 43/100\n",
      "88/88 [==============================] - 0s 3ms/step - loss: 0.4307 - accuracy: 0.8059\n",
      "Epoch 44/100\n",
      "88/88 [==============================] - 0s 3ms/step - loss: 0.4303 - accuracy: 0.8034\n",
      "Epoch 45/100\n",
      "88/88 [==============================] - 0s 3ms/step - loss: 0.4295 - accuracy: 0.8027\n",
      "Epoch 46/100\n",
      "88/88 [==============================] - 0s 3ms/step - loss: 0.4291 - accuracy: 0.8031\n",
      "Epoch 47/100\n",
      "88/88 [==============================] - 0s 3ms/step - loss: 0.4274 - accuracy: 0.8034\n",
      "Epoch 48/100\n",
      "88/88 [==============================] - 0s 3ms/step - loss: 0.4258 - accuracy: 0.8073\n",
      "Epoch 49/100\n",
      "88/88 [==============================] - 0s 3ms/step - loss: 0.4247 - accuracy: 0.8031\n",
      "Epoch 50/100\n",
      "88/88 [==============================] - 0s 3ms/step - loss: 0.4231 - accuracy: 0.8091\n",
      "Epoch 51/100\n",
      "88/88 [==============================] - 0s 3ms/step - loss: 0.4241 - accuracy: 0.8073\n",
      "Epoch 52/100\n",
      "88/88 [==============================] - 0s 3ms/step - loss: 0.4212 - accuracy: 0.8077\n",
      "Epoch 53/100\n",
      "88/88 [==============================] - 0s 3ms/step - loss: 0.4221 - accuracy: 0.8077\n",
      "Epoch 54/100\n",
      "88/88 [==============================] - 0s 3ms/step - loss: 0.4174 - accuracy: 0.8156\n",
      "Epoch 55/100\n",
      "88/88 [==============================] - 0s 3ms/step - loss: 0.4201 - accuracy: 0.8095\n",
      "Epoch 56/100\n",
      "88/88 [==============================] - 0s 3ms/step - loss: 0.4173 - accuracy: 0.8120\n",
      "Epoch 57/100\n",
      "88/88 [==============================] - 0s 3ms/step - loss: 0.4163 - accuracy: 0.8156\n",
      "Epoch 58/100\n",
      "88/88 [==============================] - 0s 3ms/step - loss: 0.4149 - accuracy: 0.8066\n",
      "Epoch 59/100\n",
      "88/88 [==============================] - 0s 3ms/step - loss: 0.4167 - accuracy: 0.8127\n",
      "Epoch 60/100\n",
      "88/88 [==============================] - 0s 3ms/step - loss: 0.4154 - accuracy: 0.8138\n",
      "Epoch 61/100\n",
      "88/88 [==============================] - 0s 3ms/step - loss: 0.4126 - accuracy: 0.8156\n",
      "Epoch 62/100\n",
      "88/88 [==============================] - 0s 3ms/step - loss: 0.4133 - accuracy: 0.8106\n",
      "Epoch 63/100\n",
      "88/88 [==============================] - 0s 3ms/step - loss: 0.4100 - accuracy: 0.8091\n",
      "Epoch 64/100\n",
      "88/88 [==============================] - 0s 3ms/step - loss: 0.4126 - accuracy: 0.8148\n",
      "Epoch 65/100\n",
      "88/88 [==============================] - 0s 3ms/step - loss: 0.4105 - accuracy: 0.8152\n",
      "Epoch 66/100\n",
      "88/88 [==============================] - 0s 3ms/step - loss: 0.4092 - accuracy: 0.8116\n",
      "Epoch 67/100\n",
      "88/88 [==============================] - 0s 3ms/step - loss: 0.4094 - accuracy: 0.8106\n",
      "Epoch 68/100\n",
      "88/88 [==============================] - 0s 3ms/step - loss: 0.4074 - accuracy: 0.8141\n",
      "Epoch 69/100\n",
      "88/88 [==============================] - 0s 3ms/step - loss: 0.4090 - accuracy: 0.8191\n",
      "Epoch 70/100\n",
      "88/88 [==============================] - 0s 3ms/step - loss: 0.4068 - accuracy: 0.8148\n",
      "Epoch 71/100\n",
      "88/88 [==============================] - 0s 3ms/step - loss: 0.4064 - accuracy: 0.8134\n",
      "Epoch 72/100\n",
      "88/88 [==============================] - 0s 3ms/step - loss: 0.4032 - accuracy: 0.8159\n",
      "Epoch 73/100\n",
      "88/88 [==============================] - 0s 3ms/step - loss: 0.4037 - accuracy: 0.8166\n",
      "Epoch 74/100\n",
      "88/88 [==============================] - 0s 3ms/step - loss: 0.4035 - accuracy: 0.8159\n",
      "Epoch 75/100\n",
      "88/88 [==============================] - 0s 3ms/step - loss: 0.4015 - accuracy: 0.8163\n",
      "Epoch 76/100\n",
      "88/88 [==============================] - 0s 3ms/step - loss: 0.4002 - accuracy: 0.8202\n",
      "Epoch 77/100\n",
      "88/88 [==============================] - 0s 3ms/step - loss: 0.4007 - accuracy: 0.8170\n",
      "Epoch 78/100\n",
      "88/88 [==============================] - 0s 3ms/step - loss: 0.3994 - accuracy: 0.8152\n",
      "Epoch 79/100\n",
      "88/88 [==============================] - 0s 3ms/step - loss: 0.3980 - accuracy: 0.8202\n",
      "Epoch 80/100\n",
      "88/88 [==============================] - 0s 5ms/step - loss: 0.3972 - accuracy: 0.8166\n",
      "Epoch 81/100\n",
      "88/88 [==============================] - 0s 3ms/step - loss: 0.3982 - accuracy: 0.8163\n",
      "Epoch 82/100\n",
      "88/88 [==============================] - 0s 3ms/step - loss: 0.3943 - accuracy: 0.8223\n",
      "Epoch 83/100\n",
      "88/88 [==============================] - 0s 3ms/step - loss: 0.3975 - accuracy: 0.8209\n",
      "Epoch 84/100\n",
      "88/88 [==============================] - 0s 3ms/step - loss: 0.3951 - accuracy: 0.8213\n",
      "Epoch 85/100\n",
      "88/88 [==============================] - 0s 3ms/step - loss: 0.3937 - accuracy: 0.8230\n",
      "Epoch 86/100\n",
      "88/88 [==============================] - 0s 3ms/step - loss: 0.3929 - accuracy: 0.8213\n",
      "Epoch 87/100\n",
      "88/88 [==============================] - 0s 3ms/step - loss: 0.3927 - accuracy: 0.8238\n",
      "Epoch 88/100\n",
      "88/88 [==============================] - 0s 3ms/step - loss: 0.3907 - accuracy: 0.8263\n",
      "Epoch 89/100\n",
      "88/88 [==============================] - 0s 3ms/step - loss: 0.3902 - accuracy: 0.8209\n",
      "Epoch 90/100\n",
      "88/88 [==============================] - 0s 4ms/step - loss: 0.3873 - accuracy: 0.8270\n",
      "Epoch 91/100\n",
      "88/88 [==============================] - 0s 4ms/step - loss: 0.3898 - accuracy: 0.8202\n",
      "Epoch 92/100\n",
      "88/88 [==============================] - 0s 5ms/step - loss: 0.3869 - accuracy: 0.8277\n",
      "Epoch 93/100\n",
      "88/88 [==============================] - 0s 4ms/step - loss: 0.3894 - accuracy: 0.8227\n",
      "Epoch 94/100\n",
      "88/88 [==============================] - 0s 3ms/step - loss: 0.3868 - accuracy: 0.8270\n",
      "Epoch 95/100\n",
      "88/88 [==============================] - 0s 3ms/step - loss: 0.3858 - accuracy: 0.8273\n",
      "Epoch 96/100\n",
      "88/88 [==============================] - 0s 4ms/step - loss: 0.3855 - accuracy: 0.8195\n",
      "Epoch 97/100\n",
      "88/88 [==============================] - 0s 3ms/step - loss: 0.3828 - accuracy: 0.8320\n",
      "Epoch 98/100\n",
      "88/88 [==============================] - 0s 4ms/step - loss: 0.3833 - accuracy: 0.8291\n",
      "Epoch 99/100\n",
      "88/88 [==============================] - 0s 4ms/step - loss: 0.3814 - accuracy: 0.8295\n",
      "Epoch 100/100\n",
      "88/88 [==============================] - 0s 3ms/step - loss: 0.3799 - accuracy: 0.8277\n",
      "30/30 [==============================] - 0s 3ms/step - loss: 0.6132 - accuracy: 0.7176\n",
      "[0.6131603717803955, 0.7176470756530762]\n",
      "30/30 [==============================] - 0s 2ms/step\n",
      "Classification Report: \n",
      "               precision    recall  f1-score   support\n",
      "\n",
      "           0       0.78      0.61      0.68       468\n",
      "           1       0.68      0.83      0.75       467\n",
      "\n",
      "    accuracy                           0.72       935\n",
      "   macro avg       0.73      0.72      0.71       935\n",
      "weighted avg       0.73      0.72      0.71       935\n",
      "\n"
     ]
    }
   ],
   "source": [
    "#Traning the model with new value\n",
    "y_preds = ANN(X_train, y_train, X_test, y_test, 'binary_crossentropy',-1)"
   ]
  },
  {
   "cell_type": "markdown",
   "id": "ae18e82b",
   "metadata": {},
   "source": [
    "You can see now that we have better f1-score for class 1 from 0.56 last time to 0.75, but we have negatively impacted the class 0 score, from 0.85 to 0.68"
   ]
  },
  {
   "cell_type": "markdown",
   "id": "1966bf3a",
   "metadata": {},
   "source": [
    "# Oversampling"
   ]
  },
  {
   "cell_type": "code",
   "execution_count": 98,
   "id": "9f977698",
   "metadata": {},
   "outputs": [
    {
     "data": {
      "text/plain": [
       "(5163, 1869)"
      ]
     },
     "execution_count": 98,
     "metadata": {},
     "output_type": "execute_result"
    }
   ],
   "source": [
    "count_class_0, count_class_1"
   ]
  },
  {
   "cell_type": "code",
   "execution_count": 99,
   "id": "935e28e1",
   "metadata": {},
   "outputs": [],
   "source": [
    "#We will oversample the count_class_1 , because we don't have a lot of sample!"
   ]
  },
  {
   "cell_type": "code",
   "execution_count": 102,
   "id": "b8bfb70c",
   "metadata": {},
   "outputs": [
    {
     "data": {
      "text/plain": [
       "(2000, 27)"
      ]
     },
     "execution_count": 102,
     "metadata": {},
     "output_type": "execute_result"
    }
   ],
   "source": [
    "#ex\n",
    "\n",
    "df_class_1.sample(2000,replace=True).shape"
   ]
  },
  {
   "cell_type": "code",
   "execution_count": 104,
   "id": "43b9264e",
   "metadata": {},
   "outputs": [
    {
     "data": {
      "text/plain": [
       "(5163, 27)"
      ]
     },
     "execution_count": 104,
     "metadata": {},
     "output_type": "execute_result"
    }
   ],
   "source": [
    "#We want for class 0 5163 sample as well so\n",
    "\n",
    "df_class_1_over = df_class_1.sample(count_class_0,replace=True)\n",
    "df_class_1_over.shape"
   ]
  },
  {
   "cell_type": "code",
   "execution_count": 105,
   "id": "314db051",
   "metadata": {},
   "outputs": [
    {
     "data": {
      "text/plain": [
       "(10326, 27)"
      ]
     },
     "execution_count": 105,
     "metadata": {},
     "output_type": "execute_result"
    }
   ],
   "source": [
    "#Join those df\n",
    "\n",
    "df_test_over = pd.concat([df_class_0, df_class_1_over], axis=0)\n",
    "df_test_over.shape"
   ]
  },
  {
   "cell_type": "code",
   "execution_count": 106,
   "id": "92cf0734",
   "metadata": {},
   "outputs": [],
   "source": [
    "X = df_test_over.drop('Churn',axis=1)\n",
    "y = df_test_over['Churn']"
   ]
  },
  {
   "cell_type": "code",
   "execution_count": 107,
   "id": "f6636ef4",
   "metadata": {},
   "outputs": [],
   "source": [
    "X_train, X_test, y_train, y_test = train_test_split(X,y, test_size=0.25, random_state=15,stratify=y)"
   ]
  },
  {
   "cell_type": "code",
   "execution_count": 108,
   "id": "31bb8cc6",
   "metadata": {
    "scrolled": true
   },
   "outputs": [
    {
     "name": "stdout",
     "output_type": "stream",
     "text": [
      "Epoch 1/100\n",
      "242/242 [==============================] - 1s 3ms/step - loss: 0.5393 - accuracy: 0.7319\n",
      "Epoch 2/100\n",
      "242/242 [==============================] - 1s 3ms/step - loss: 0.4848 - accuracy: 0.7707\n",
      "Epoch 3/100\n",
      "242/242 [==============================] - 1s 2ms/step - loss: 0.4783 - accuracy: 0.7720\n",
      "Epoch 4/100\n",
      "242/242 [==============================] - 1s 2ms/step - loss: 0.4740 - accuracy: 0.7745\n",
      "Epoch 5/100\n",
      "242/242 [==============================] - 1s 2ms/step - loss: 0.4694 - accuracy: 0.7741\n",
      "Epoch 6/100\n",
      "242/242 [==============================] - 1s 2ms/step - loss: 0.4670 - accuracy: 0.7791\n",
      "Epoch 7/100\n",
      "242/242 [==============================] - 1s 2ms/step - loss: 0.4657 - accuracy: 0.7791\n",
      "Epoch 8/100\n",
      "242/242 [==============================] - 1s 2ms/step - loss: 0.4627 - accuracy: 0.7797\n",
      "Epoch 9/100\n",
      "242/242 [==============================] - 1s 2ms/step - loss: 0.4604 - accuracy: 0.7840\n",
      "Epoch 10/100\n",
      "242/242 [==============================] - 1s 2ms/step - loss: 0.4587 - accuracy: 0.7825\n",
      "Epoch 11/100\n",
      "242/242 [==============================] - 1s 2ms/step - loss: 0.4571 - accuracy: 0.7833\n",
      "Epoch 12/100\n",
      "242/242 [==============================] - 1s 2ms/step - loss: 0.4542 - accuracy: 0.7864\n",
      "Epoch 13/100\n",
      "242/242 [==============================] - 1s 2ms/step - loss: 0.4516 - accuracy: 0.7867\n",
      "Epoch 14/100\n",
      "242/242 [==============================] - 1s 2ms/step - loss: 0.4498 - accuracy: 0.7867\n",
      "Epoch 15/100\n",
      "242/242 [==============================] - 1s 2ms/step - loss: 0.4484 - accuracy: 0.7865\n",
      "Epoch 16/100\n",
      "242/242 [==============================] - 1s 2ms/step - loss: 0.4461 - accuracy: 0.7871\n",
      "Epoch 17/100\n",
      "242/242 [==============================] - 1s 2ms/step - loss: 0.4449 - accuracy: 0.7874\n",
      "Epoch 18/100\n",
      "242/242 [==============================] - 1s 3ms/step - loss: 0.4436 - accuracy: 0.7877\n",
      "Epoch 19/100\n",
      "242/242 [==============================] - 1s 3ms/step - loss: 0.4424 - accuracy: 0.7912\n",
      "Epoch 20/100\n",
      "242/242 [==============================] - 1s 2ms/step - loss: 0.4394 - accuracy: 0.7926\n",
      "Epoch 21/100\n",
      "242/242 [==============================] - 1s 2ms/step - loss: 0.4374 - accuracy: 0.7930\n",
      "Epoch 22/100\n",
      "242/242 [==============================] - 1s 2ms/step - loss: 0.4361 - accuracy: 0.7943\n",
      "Epoch 23/100\n",
      "242/242 [==============================] - 1s 2ms/step - loss: 0.4351 - accuracy: 0.7947\n",
      "Epoch 24/100\n",
      "242/242 [==============================] - 1s 2ms/step - loss: 0.4332 - accuracy: 0.7942\n",
      "Epoch 25/100\n",
      "242/242 [==============================] - 1s 2ms/step - loss: 0.4307 - accuracy: 0.7983\n",
      "Epoch 26/100\n",
      "242/242 [==============================] - 1s 2ms/step - loss: 0.4287 - accuracy: 0.7998\n",
      "Epoch 27/100\n",
      "242/242 [==============================] - 1s 2ms/step - loss: 0.4292 - accuracy: 0.7986\n",
      "Epoch 28/100\n",
      "242/242 [==============================] - 1s 2ms/step - loss: 0.4254 - accuracy: 0.8015\n",
      "Epoch 29/100\n",
      "242/242 [==============================] - 1s 2ms/step - loss: 0.4239 - accuracy: 0.8009\n",
      "Epoch 30/100\n",
      "242/242 [==============================] - 1s 2ms/step - loss: 0.4235 - accuracy: 0.8024\n",
      "Epoch 31/100\n",
      "242/242 [==============================] - 1s 2ms/step - loss: 0.4209 - accuracy: 0.8017\n",
      "Epoch 32/100\n",
      "242/242 [==============================] - 1s 2ms/step - loss: 0.4213 - accuracy: 0.8018\n",
      "Epoch 33/100\n",
      "242/242 [==============================] - 1s 2ms/step - loss: 0.4189 - accuracy: 0.8029\n",
      "Epoch 34/100\n",
      "242/242 [==============================] - 1s 2ms/step - loss: 0.4167 - accuracy: 0.8066\n",
      "Epoch 35/100\n",
      "242/242 [==============================] - 1s 2ms/step - loss: 0.4155 - accuracy: 0.8055\n",
      "Epoch 36/100\n",
      "242/242 [==============================] - 1s 2ms/step - loss: 0.4144 - accuracy: 0.8059\n",
      "Epoch 37/100\n",
      "242/242 [==============================] - 1s 2ms/step - loss: 0.4125 - accuracy: 0.8086\n",
      "Epoch 38/100\n",
      "242/242 [==============================] - 1s 2ms/step - loss: 0.4111 - accuracy: 0.8085\n",
      "Epoch 39/100\n",
      "242/242 [==============================] - 1s 2ms/step - loss: 0.4093 - accuracy: 0.8110\n",
      "Epoch 40/100\n",
      "242/242 [==============================] - 1s 2ms/step - loss: 0.4091 - accuracy: 0.8112\n",
      "Epoch 41/100\n",
      "242/242 [==============================] - 1s 2ms/step - loss: 0.4071 - accuracy: 0.8120\n",
      "Epoch 42/100\n",
      "242/242 [==============================] - 1s 2ms/step - loss: 0.4053 - accuracy: 0.8119\n",
      "Epoch 43/100\n",
      "242/242 [==============================] - 1s 2ms/step - loss: 0.4050 - accuracy: 0.8133\n",
      "Epoch 44/100\n",
      "242/242 [==============================] - 1s 2ms/step - loss: 0.4033 - accuracy: 0.8168\n",
      "Epoch 45/100\n",
      "242/242 [==============================] - 1s 3ms/step - loss: 0.4022 - accuracy: 0.8201\n",
      "Epoch 46/100\n",
      "242/242 [==============================] - 1s 3ms/step - loss: 0.3995 - accuracy: 0.8159\n",
      "Epoch 47/100\n",
      "242/242 [==============================] - 1s 2ms/step - loss: 0.3994 - accuracy: 0.8168\n",
      "Epoch 48/100\n",
      "242/242 [==============================] - 1s 2ms/step - loss: 0.3978 - accuracy: 0.8204\n",
      "Epoch 49/100\n",
      "242/242 [==============================] - 1s 2ms/step - loss: 0.3982 - accuracy: 0.8197\n",
      "Epoch 50/100\n",
      "242/242 [==============================] - 1s 2ms/step - loss: 0.3951 - accuracy: 0.8215\n",
      "Epoch 51/100\n",
      "242/242 [==============================] - 1s 2ms/step - loss: 0.3958 - accuracy: 0.8200\n",
      "Epoch 52/100\n",
      "242/242 [==============================] - 1s 2ms/step - loss: 0.3935 - accuracy: 0.8197\n",
      "Epoch 53/100\n",
      "242/242 [==============================] - 1s 2ms/step - loss: 0.3937 - accuracy: 0.8236\n",
      "Epoch 54/100\n",
      "242/242 [==============================] - 1s 2ms/step - loss: 0.3917 - accuracy: 0.8248\n",
      "Epoch 55/100\n",
      "242/242 [==============================] - 1s 2ms/step - loss: 0.3906 - accuracy: 0.8254\n",
      "Epoch 56/100\n",
      "242/242 [==============================] - 1s 2ms/step - loss: 0.3903 - accuracy: 0.8236\n",
      "Epoch 57/100\n",
      "242/242 [==============================] - 1s 2ms/step - loss: 0.3888 - accuracy: 0.8266\n",
      "Epoch 58/100\n",
      "242/242 [==============================] - 1s 2ms/step - loss: 0.3879 - accuracy: 0.8255\n",
      "Epoch 59/100\n",
      "242/242 [==============================] - 1s 2ms/step - loss: 0.3874 - accuracy: 0.8267\n",
      "Epoch 60/100\n",
      "242/242 [==============================] - 1s 2ms/step - loss: 0.3851 - accuracy: 0.8244\n",
      "Epoch 61/100\n",
      "242/242 [==============================] - 1s 2ms/step - loss: 0.3851 - accuracy: 0.8268\n",
      "Epoch 62/100\n",
      "242/242 [==============================] - 1s 2ms/step - loss: 0.3849 - accuracy: 0.8289\n",
      "Epoch 63/100\n",
      "242/242 [==============================] - 1s 3ms/step - loss: 0.3840 - accuracy: 0.8290\n",
      "Epoch 64/100\n",
      "242/242 [==============================] - 1s 2ms/step - loss: 0.3821 - accuracy: 0.8304\n",
      "Epoch 65/100\n",
      "242/242 [==============================] - 1s 3ms/step - loss: 0.3819 - accuracy: 0.8285\n",
      "Epoch 66/100\n",
      "242/242 [==============================] - 1s 3ms/step - loss: 0.3810 - accuracy: 0.8302\n",
      "Epoch 67/100\n",
      "242/242 [==============================] - 1s 3ms/step - loss: 0.3805 - accuracy: 0.8297\n",
      "Epoch 68/100\n",
      "242/242 [==============================] - 1s 2ms/step - loss: 0.3794 - accuracy: 0.8276\n",
      "Epoch 69/100\n",
      "242/242 [==============================] - 1s 3ms/step - loss: 0.3781 - accuracy: 0.8304\n",
      "Epoch 70/100\n",
      "242/242 [==============================] - 1s 3ms/step - loss: 0.3780 - accuracy: 0.8314\n",
      "Epoch 71/100\n",
      "242/242 [==============================] - 1s 2ms/step - loss: 0.3778 - accuracy: 0.8294\n",
      "Epoch 72/100\n",
      "242/242 [==============================] - 1s 2ms/step - loss: 0.3766 - accuracy: 0.8319\n",
      "Epoch 73/100\n",
      "242/242 [==============================] - 1s 3ms/step - loss: 0.3764 - accuracy: 0.8325\n",
      "Epoch 74/100\n",
      "242/242 [==============================] - 1s 2ms/step - loss: 0.3753 - accuracy: 0.8314\n",
      "Epoch 75/100\n",
      "242/242 [==============================] - 1s 2ms/step - loss: 0.3743 - accuracy: 0.8314\n",
      "Epoch 76/100\n",
      "242/242 [==============================] - 1s 2ms/step - loss: 0.3738 - accuracy: 0.8317\n",
      "Epoch 77/100\n",
      "242/242 [==============================] - 1s 2ms/step - loss: 0.3726 - accuracy: 0.8346\n",
      "Epoch 78/100\n",
      "242/242 [==============================] - 1s 2ms/step - loss: 0.3736 - accuracy: 0.8351\n",
      "Epoch 79/100\n",
      "242/242 [==============================] - 1s 2ms/step - loss: 0.3722 - accuracy: 0.8346\n",
      "Epoch 80/100\n",
      "242/242 [==============================] - 1s 2ms/step - loss: 0.3735 - accuracy: 0.8341\n",
      "Epoch 81/100\n",
      "242/242 [==============================] - 1s 2ms/step - loss: 0.3704 - accuracy: 0.8373\n",
      "Epoch 82/100\n",
      "242/242 [==============================] - 1s 2ms/step - loss: 0.3704 - accuracy: 0.8361\n",
      "Epoch 83/100\n",
      "242/242 [==============================] - 1s 2ms/step - loss: 0.3690 - accuracy: 0.8368\n",
      "Epoch 84/100\n",
      "242/242 [==============================] - 1s 2ms/step - loss: 0.3681 - accuracy: 0.8390\n",
      "Epoch 85/100\n",
      "242/242 [==============================] - 1s 2ms/step - loss: 0.3695 - accuracy: 0.8345\n",
      "Epoch 86/100\n",
      "242/242 [==============================] - 1s 2ms/step - loss: 0.3667 - accuracy: 0.8394\n",
      "Epoch 87/100\n",
      "242/242 [==============================] - 1s 2ms/step - loss: 0.3659 - accuracy: 0.8408\n",
      "Epoch 88/100\n",
      "242/242 [==============================] - 1s 2ms/step - loss: 0.3667 - accuracy: 0.8418\n",
      "Epoch 89/100\n",
      "242/242 [==============================] - 1s 2ms/step - loss: 0.3666 - accuracy: 0.8394\n",
      "Epoch 90/100\n",
      "242/242 [==============================] - 1s 2ms/step - loss: 0.3650 - accuracy: 0.8403\n",
      "Epoch 91/100\n",
      "242/242 [==============================] - 1s 2ms/step - loss: 0.3657 - accuracy: 0.8385\n",
      "Epoch 92/100\n",
      "242/242 [==============================] - 1s 2ms/step - loss: 0.3640 - accuracy: 0.8407\n",
      "Epoch 93/100\n",
      "242/242 [==============================] - 1s 2ms/step - loss: 0.3642 - accuracy: 0.8387\n",
      "Epoch 94/100\n",
      "242/242 [==============================] - 1s 2ms/step - loss: 0.3624 - accuracy: 0.8414\n",
      "Epoch 95/100\n",
      "242/242 [==============================] - 1s 2ms/step - loss: 0.3625 - accuracy: 0.8407\n",
      "Epoch 96/100\n",
      "242/242 [==============================] - 1s 2ms/step - loss: 0.3610 - accuracy: 0.8421\n",
      "Epoch 97/100\n",
      "242/242 [==============================] - 1s 2ms/step - loss: 0.3599 - accuracy: 0.8394\n",
      "Epoch 98/100\n",
      "242/242 [==============================] - 1s 2ms/step - loss: 0.3608 - accuracy: 0.8432\n",
      "Epoch 99/100\n",
      "242/242 [==============================] - 1s 2ms/step - loss: 0.3608 - accuracy: 0.8395\n",
      "Epoch 100/100\n",
      "242/242 [==============================] - 1s 2ms/step - loss: 0.3585 - accuracy: 0.8423\n",
      "81/81 [==============================] - 0s 2ms/step - loss: 0.4717 - accuracy: 0.7905\n",
      "[0.4717443287372589, 0.7904725074768066]\n",
      "81/81 [==============================] - 0s 1ms/step\n",
      "Classification Report: \n",
      "               precision    recall  f1-score   support\n",
      "\n",
      "           0       0.83      0.73      0.78      1291\n",
      "           1       0.76      0.86      0.80      1291\n",
      "\n",
      "    accuracy                           0.79      2582\n",
      "   macro avg       0.80      0.79      0.79      2582\n",
      "weighted avg       0.80      0.79      0.79      2582\n",
      "\n"
     ]
    }
   ],
   "source": [
    "y_preds = ANN(X_train, y_train, X_test, y_test, 'binary_crossentropy',-1)"
   ]
  },
  {
   "cell_type": "markdown",
   "id": "5302c2fa",
   "metadata": {},
   "source": [
    "We have here 80% for class 1 and 78% for class 2 "
   ]
  },
  {
   "cell_type": "markdown",
   "id": "91cede7b",
   "metadata": {},
   "source": [
    "# SMOTE"
   ]
  },
  {
   "cell_type": "markdown",
   "id": "92b25209",
   "metadata": {},
   "source": [
    "It's like a better version of oversampling, because it's use KNN to create new sample and not only duplicate them"
   ]
  },
  {
   "cell_type": "code",
   "execution_count": 110,
   "id": "cd973a26",
   "metadata": {},
   "outputs": [],
   "source": [
    "X = df2.drop('Churn',axis=1)\n",
    "y = df2['Churn']"
   ]
  },
  {
   "cell_type": "code",
   "execution_count": 112,
   "id": "8f94b91a",
   "metadata": {
    "collapsed": true
   },
   "outputs": [
    {
     "name": "stdout",
     "output_type": "stream",
     "text": [
      "Collecting imbalanced-learn\n",
      "  Downloading imbalanced_learn-0.9.1-py3-none-any.whl (199 kB)\n",
      "Requirement already satisfied: scikit-learn>=1.1.0 in c:\\users\\julia\\anaconda3\\envs\\dl\\lib\\site-packages (from imbalanced-learn) (1.1.1)\n",
      "Requirement already satisfied: threadpoolctl>=2.0.0 in c:\\users\\julia\\anaconda3\\envs\\dl\\lib\\site-packages (from imbalanced-learn) (3.1.0)\n",
      "Requirement already satisfied: scipy>=1.3.2 in c:\\users\\julia\\anaconda3\\envs\\dl\\lib\\site-packages (from imbalanced-learn) (1.8.1)\n",
      "Requirement already satisfied: joblib>=1.0.0 in c:\\users\\julia\\anaconda3\\envs\\dl\\lib\\site-packages (from imbalanced-learn) (1.1.0)\n",
      "Requirement already satisfied: numpy>=1.17.3 in c:\\users\\julia\\anaconda3\\envs\\dl\\lib\\site-packages (from imbalanced-learn) (1.22.4)\n",
      "Installing collected packages: imbalanced-learn\n",
      "Successfully installed imbalanced-learn-0.9.1\n",
      "Note: you may need to restart the kernel to use updated packages.\n"
     ]
    }
   ],
   "source": [
    "pip install imbalanced-learn"
   ]
  },
  {
   "cell_type": "code",
   "execution_count": 117,
   "id": "4ca59662",
   "metadata": {},
   "outputs": [
    {
     "data": {
      "text/plain": [
       "0    5163\n",
       "1    1869\n",
       "Name: Churn, dtype: int64"
      ]
     },
     "execution_count": 117,
     "metadata": {},
     "output_type": "execute_result"
    }
   ],
   "source": [
    "y.value_counts()\n",
    "\n",
    "#Imbalanced value"
   ]
  },
  {
   "cell_type": "code",
   "execution_count": 118,
   "id": "dcf7f14b",
   "metadata": {},
   "outputs": [],
   "source": [
    "from imblearn.over_sampling import SMOTE as sm"
   ]
  },
  {
   "cell_type": "code",
   "execution_count": 119,
   "id": "b162209f",
   "metadata": {},
   "outputs": [],
   "source": [
    "smote = sm(sampling_strategy='minority')"
   ]
  },
  {
   "cell_type": "code",
   "execution_count": 122,
   "id": "b8e80c4d",
   "metadata": {},
   "outputs": [],
   "source": [
    "X_sm,y_sm = smote.fit_resample(X,y)"
   ]
  },
  {
   "cell_type": "code",
   "execution_count": 123,
   "id": "0c4ec3c2",
   "metadata": {},
   "outputs": [
    {
     "data": {
      "text/plain": [
       "0    5163\n",
       "1    5163\n",
       "Name: Churn, dtype: int64"
      ]
     },
     "execution_count": 123,
     "metadata": {},
     "output_type": "execute_result"
    }
   ],
   "source": [
    "y_sm.value_counts()"
   ]
  },
  {
   "cell_type": "code",
   "execution_count": 125,
   "id": "23ba0cb9",
   "metadata": {},
   "outputs": [],
   "source": [
    "X_train, X_test, y_train, y_test = train_test_split(X_sm,y_sm, test_size=0.25, random_state=15,stratify=y_sm)"
   ]
  },
  {
   "cell_type": "code",
   "execution_count": 126,
   "id": "a1bb81ef",
   "metadata": {},
   "outputs": [
    {
     "name": "stdout",
     "output_type": "stream",
     "text": [
      "Epoch 1/100\n",
      "242/242 [==============================] - 1s 3ms/step - loss: 0.5283 - accuracy: 0.7408\n",
      "Epoch 2/100\n",
      "242/242 [==============================] - 1s 3ms/step - loss: 0.4671 - accuracy: 0.7778\n",
      "Epoch 3/100\n",
      "242/242 [==============================] - 1s 2ms/step - loss: 0.4589 - accuracy: 0.7845\n",
      "Epoch 4/100\n",
      "242/242 [==============================] - 1s 2ms/step - loss: 0.4517 - accuracy: 0.7853\n",
      "Epoch 5/100\n",
      "242/242 [==============================] - 1s 2ms/step - loss: 0.4461 - accuracy: 0.7908\n",
      "Epoch 6/100\n",
      "242/242 [==============================] - 1s 3ms/step - loss: 0.4409 - accuracy: 0.7944\n",
      "Epoch 7/100\n",
      "242/242 [==============================] - 1s 3ms/step - loss: 0.4382 - accuracy: 0.7955\n",
      "Epoch 8/100\n",
      "242/242 [==============================] - 1s 2ms/step - loss: 0.4332 - accuracy: 0.8001\n",
      "Epoch 9/100\n",
      "242/242 [==============================] - 1s 3ms/step - loss: 0.4292 - accuracy: 0.7993\n",
      "Epoch 10/100\n",
      "242/242 [==============================] - 1s 3ms/step - loss: 0.4252 - accuracy: 0.8018\n",
      "Epoch 11/100\n",
      "242/242 [==============================] - 1s 3ms/step - loss: 0.4218 - accuracy: 0.8058\n",
      "Epoch 12/100\n",
      "242/242 [==============================] - 1s 2ms/step - loss: 0.4182 - accuracy: 0.8060\n",
      "Epoch 13/100\n",
      "242/242 [==============================] - 1s 3ms/step - loss: 0.4137 - accuracy: 0.8093\n",
      "Epoch 14/100\n",
      "242/242 [==============================] - 1s 3ms/step - loss: 0.4118 - accuracy: 0.8121\n",
      "Epoch 15/100\n",
      "242/242 [==============================] - 1s 3ms/step - loss: 0.4084 - accuracy: 0.8133\n",
      "Epoch 16/100\n",
      "242/242 [==============================] - 1s 3ms/step - loss: 0.4065 - accuracy: 0.8108\n",
      "Epoch 17/100\n",
      "242/242 [==============================] - 1s 3ms/step - loss: 0.4044 - accuracy: 0.8133\n",
      "Epoch 18/100\n",
      "242/242 [==============================] - 1s 3ms/step - loss: 0.4011 - accuracy: 0.8191\n",
      "Epoch 19/100\n",
      "242/242 [==============================] - 1s 3ms/step - loss: 0.3984 - accuracy: 0.8186\n",
      "Epoch 20/100\n",
      "242/242 [==============================] - 1s 3ms/step - loss: 0.3958 - accuracy: 0.8217\n",
      "Epoch 21/100\n",
      "242/242 [==============================] - 1s 3ms/step - loss: 0.3939 - accuracy: 0.8205\n",
      "Epoch 22/100\n",
      "242/242 [==============================] - 1s 4ms/step - loss: 0.3904 - accuracy: 0.8239\n",
      "Epoch 23/100\n",
      "242/242 [==============================] - 1s 4ms/step - loss: 0.3898 - accuracy: 0.8228\n",
      "Epoch 24/100\n",
      "242/242 [==============================] - 1s 3ms/step - loss: 0.3876 - accuracy: 0.8257\n",
      "Epoch 25/100\n",
      "242/242 [==============================] - 1s 4ms/step - loss: 0.3852 - accuracy: 0.8261\n",
      "Epoch 26/100\n",
      "242/242 [==============================] - 1s 4ms/step - loss: 0.3841 - accuracy: 0.8257\n",
      "Epoch 27/100\n",
      "242/242 [==============================] - 1s 4ms/step - loss: 0.3808 - accuracy: 0.8294\n",
      "Epoch 28/100\n",
      "242/242 [==============================] - 1s 3ms/step - loss: 0.3800 - accuracy: 0.8285\n",
      "Epoch 29/100\n",
      "242/242 [==============================] - 1s 3ms/step - loss: 0.3780 - accuracy: 0.8295\n",
      "Epoch 30/100\n",
      "242/242 [==============================] - 1s 3ms/step - loss: 0.3779 - accuracy: 0.8301\n",
      "Epoch 31/100\n",
      "242/242 [==============================] - 1s 3ms/step - loss: 0.3741 - accuracy: 0.8337\n",
      "Epoch 32/100\n",
      "242/242 [==============================] - 1s 3ms/step - loss: 0.3750 - accuracy: 0.8339\n",
      "Epoch 33/100\n",
      "242/242 [==============================] - 1s 3ms/step - loss: 0.3733 - accuracy: 0.8330\n",
      "Epoch 34/100\n",
      "242/242 [==============================] - 1s 3ms/step - loss: 0.3709 - accuracy: 0.8321\n",
      "Epoch 35/100\n",
      "242/242 [==============================] - 1s 3ms/step - loss: 0.3678 - accuracy: 0.8387\n",
      "Epoch 36/100\n",
      "242/242 [==============================] - 1s 3ms/step - loss: 0.3674 - accuracy: 0.8324\n",
      "Epoch 37/100\n",
      "242/242 [==============================] - 1s 3ms/step - loss: 0.3664 - accuracy: 0.8388\n",
      "Epoch 38/100\n",
      "242/242 [==============================] - 1s 3ms/step - loss: 0.3653 - accuracy: 0.8401\n",
      "Epoch 39/100\n",
      "242/242 [==============================] - 1s 3ms/step - loss: 0.3645 - accuracy: 0.8396\n",
      "Epoch 40/100\n",
      "242/242 [==============================] - 1s 3ms/step - loss: 0.3620 - accuracy: 0.8418\n",
      "Epoch 41/100\n",
      "242/242 [==============================] - 1s 3ms/step - loss: 0.3618 - accuracy: 0.8408\n",
      "Epoch 42/100\n",
      "242/242 [==============================] - 1s 3ms/step - loss: 0.3603 - accuracy: 0.8425\n",
      "Epoch 43/100\n",
      "242/242 [==============================] - 1s 3ms/step - loss: 0.3598 - accuracy: 0.8396\n",
      "Epoch 44/100\n",
      "242/242 [==============================] - 1s 3ms/step - loss: 0.3583 - accuracy: 0.8405\n",
      "Epoch 45/100\n",
      "242/242 [==============================] - 1s 3ms/step - loss: 0.3570 - accuracy: 0.8423\n",
      "Epoch 46/100\n",
      "242/242 [==============================] - 1s 3ms/step - loss: 0.3556 - accuracy: 0.8435\n",
      "Epoch 47/100\n",
      "242/242 [==============================] - 1s 3ms/step - loss: 0.3544 - accuracy: 0.8431\n",
      "Epoch 48/100\n",
      "242/242 [==============================] - 1s 3ms/step - loss: 0.3547 - accuracy: 0.8435\n",
      "Epoch 49/100\n",
      "242/242 [==============================] - 1s 3ms/step - loss: 0.3555 - accuracy: 0.8418\n",
      "Epoch 50/100\n",
      "242/242 [==============================] - 1s 3ms/step - loss: 0.3512 - accuracy: 0.8457\n",
      "Epoch 51/100\n",
      "242/242 [==============================] - 1s 3ms/step - loss: 0.3508 - accuracy: 0.8474\n",
      "Epoch 52/100\n",
      "242/242 [==============================] - 1s 3ms/step - loss: 0.3508 - accuracy: 0.8431\n",
      "Epoch 53/100\n",
      "242/242 [==============================] - 1s 3ms/step - loss: 0.3503 - accuracy: 0.8457\n",
      "Epoch 54/100\n",
      "242/242 [==============================] - 1s 2ms/step - loss: 0.3475 - accuracy: 0.8462\n",
      "Epoch 55/100\n",
      "242/242 [==============================] - 1s 3ms/step - loss: 0.3481 - accuracy: 0.8480\n",
      "Epoch 56/100\n",
      "242/242 [==============================] - 1s 3ms/step - loss: 0.3474 - accuracy: 0.8461\n",
      "Epoch 57/100\n",
      "242/242 [==============================] - 1s 2ms/step - loss: 0.3454 - accuracy: 0.8515\n",
      "Epoch 58/100\n",
      "242/242 [==============================] - 1s 2ms/step - loss: 0.3438 - accuracy: 0.8505\n",
      "Epoch 59/100\n",
      "242/242 [==============================] - 1s 3ms/step - loss: 0.3446 - accuracy: 0.8496\n",
      "Epoch 60/100\n",
      "242/242 [==============================] - 1s 3ms/step - loss: 0.3459 - accuracy: 0.8514\n",
      "Epoch 61/100\n",
      "242/242 [==============================] - 1s 3ms/step - loss: 0.3430 - accuracy: 0.8510\n",
      "Epoch 62/100\n",
      "242/242 [==============================] - 1s 4ms/step - loss: 0.3407 - accuracy: 0.8501\n",
      "Epoch 63/100\n",
      "242/242 [==============================] - 1s 3ms/step - loss: 0.3425 - accuracy: 0.8503\n",
      "Epoch 64/100\n",
      "242/242 [==============================] - 1s 3ms/step - loss: 0.3440 - accuracy: 0.8511\n",
      "Epoch 65/100\n",
      "242/242 [==============================] - 1s 3ms/step - loss: 0.3393 - accuracy: 0.8527\n",
      "Epoch 66/100\n",
      "242/242 [==============================] - 1s 3ms/step - loss: 0.3421 - accuracy: 0.8497\n",
      "Epoch 67/100\n",
      "242/242 [==============================] - 1s 3ms/step - loss: 0.3431 - accuracy: 0.8497\n",
      "Epoch 68/100\n",
      "242/242 [==============================] - 1s 3ms/step - loss: 0.3397 - accuracy: 0.8506\n",
      "Epoch 69/100\n",
      "242/242 [==============================] - 1s 4ms/step - loss: 0.3373 - accuracy: 0.8538\n",
      "Epoch 70/100\n",
      "242/242 [==============================] - 1s 4ms/step - loss: 0.3391 - accuracy: 0.8499\n",
      "Epoch 71/100\n",
      "242/242 [==============================] - 1s 4ms/step - loss: 0.3373 - accuracy: 0.8521\n",
      "Epoch 72/100\n",
      "242/242 [==============================] - 1s 3ms/step - loss: 0.3347 - accuracy: 0.8547\n",
      "Epoch 73/100\n",
      "242/242 [==============================] - 1s 4ms/step - loss: 0.3352 - accuracy: 0.8543\n",
      "Epoch 74/100\n",
      "242/242 [==============================] - 1s 4ms/step - loss: 0.3336 - accuracy: 0.8538\n",
      "Epoch 75/100\n",
      "242/242 [==============================] - 1s 3ms/step - loss: 0.3340 - accuracy: 0.8534\n",
      "Epoch 76/100\n",
      "242/242 [==============================] - 1s 3ms/step - loss: 0.3324 - accuracy: 0.8551\n",
      "Epoch 77/100\n",
      "242/242 [==============================] - 1s 3ms/step - loss: 0.3331 - accuracy: 0.8552\n",
      "Epoch 78/100\n",
      "242/242 [==============================] - 1s 4ms/step - loss: 0.3325 - accuracy: 0.8530\n",
      "Epoch 79/100\n",
      "242/242 [==============================] - 1s 4ms/step - loss: 0.3341 - accuracy: 0.8565\n",
      "Epoch 80/100\n",
      "242/242 [==============================] - 1s 4ms/step - loss: 0.3323 - accuracy: 0.8591\n",
      "Epoch 81/100\n",
      "242/242 [==============================] - 1s 3ms/step - loss: 0.3288 - accuracy: 0.8585\n",
      "Epoch 82/100\n",
      "242/242 [==============================] - 1s 3ms/step - loss: 0.3317 - accuracy: 0.8552\n",
      "Epoch 83/100\n",
      "242/242 [==============================] - 1s 3ms/step - loss: 0.3289 - accuracy: 0.8574\n",
      "Epoch 84/100\n",
      "242/242 [==============================] - 1s 3ms/step - loss: 0.3305 - accuracy: 0.8574\n",
      "Epoch 85/100\n",
      "242/242 [==============================] - 1s 3ms/step - loss: 0.3291 - accuracy: 0.8563\n",
      "Epoch 86/100\n",
      "242/242 [==============================] - 1s 3ms/step - loss: 0.3295 - accuracy: 0.8568\n",
      "Epoch 87/100\n",
      "242/242 [==============================] - 1s 2ms/step - loss: 0.3284 - accuracy: 0.8569\n",
      "Epoch 88/100\n",
      "242/242 [==============================] - 1s 3ms/step - loss: 0.3276 - accuracy: 0.8564\n",
      "Epoch 89/100\n",
      "242/242 [==============================] - 1s 2ms/step - loss: 0.3278 - accuracy: 0.8568\n",
      "Epoch 90/100\n",
      "242/242 [==============================] - 1s 2ms/step - loss: 0.3261 - accuracy: 0.8595\n",
      "Epoch 91/100\n",
      "242/242 [==============================] - 1s 2ms/step - loss: 0.3275 - accuracy: 0.8589\n",
      "Epoch 92/100\n",
      "242/242 [==============================] - 1s 2ms/step - loss: 0.3251 - accuracy: 0.8573\n",
      "Epoch 93/100\n",
      "242/242 [==============================] - 1s 2ms/step - loss: 0.3263 - accuracy: 0.8608\n",
      "Epoch 94/100\n",
      "242/242 [==============================] - 1s 3ms/step - loss: 0.3262 - accuracy: 0.8590\n",
      "Epoch 95/100\n",
      "242/242 [==============================] - 1s 3ms/step - loss: 0.3238 - accuracy: 0.8580\n",
      "Epoch 96/100\n",
      "242/242 [==============================] - 1s 3ms/step - loss: 0.3248 - accuracy: 0.8609\n",
      "Epoch 97/100\n",
      "242/242 [==============================] - 1s 3ms/step - loss: 0.3229 - accuracy: 0.8609\n",
      "Epoch 98/100\n",
      "242/242 [==============================] - 1s 3ms/step - loss: 0.3238 - accuracy: 0.8555\n",
      "Epoch 99/100\n",
      "242/242 [==============================] - 1s 2ms/step - loss: 0.3226 - accuracy: 0.8642\n",
      "Epoch 100/100\n",
      "242/242 [==============================] - 1s 2ms/step - loss: 0.3201 - accuracy: 0.8614\n",
      "81/81 [==============================] - 0s 2ms/step - loss: 0.4488 - accuracy: 0.8168\n",
      "[0.448788583278656, 0.8168087005615234]\n",
      "81/81 [==============================] - 0s 1ms/step\n",
      "Classification Report: \n",
      "               precision    recall  f1-score   support\n",
      "\n",
      "           0       0.81      0.83      0.82      1291\n",
      "           1       0.83      0.80      0.81      1291\n",
      "\n",
      "    accuracy                           0.82      2582\n",
      "   macro avg       0.82      0.82      0.82      2582\n",
      "weighted avg       0.82      0.82      0.82      2582\n",
      "\n"
     ]
    }
   ],
   "source": [
    "y_preds = ANN(X_train, y_train, X_test, y_test, 'binary_crossentropy',-1)"
   ]
  },
  {
   "cell_type": "markdown",
   "id": "c4bef955",
   "metadata": {},
   "source": [
    "Better results right ? 81 for class 1 and 82 for class 0"
   ]
  },
  {
   "cell_type": "markdown",
   "id": "634783a9",
   "metadata": {},
   "source": [
    "# Ensemle with undersampling"
   ]
  },
  {
   "cell_type": "code",
   "execution_count": 127,
   "id": "e3e576e3",
   "metadata": {},
   "outputs": [
    {
     "data": {
      "text/plain": [
       "0    5163\n",
       "1    1869\n",
       "Name: Churn, dtype: int64"
      ]
     },
     "execution_count": 127,
     "metadata": {},
     "output_type": "execute_result"
    }
   ],
   "source": [
    "df2.Churn.value_counts()"
   ]
  },
  {
   "cell_type": "code",
   "execution_count": 128,
   "id": "44cea80a",
   "metadata": {},
   "outputs": [],
   "source": [
    "X = df2.drop('Churn',axis=1)\n",
    "y = df2['Churn']"
   ]
  },
  {
   "cell_type": "code",
   "execution_count": 129,
   "id": "b3c9eb8f",
   "metadata": {},
   "outputs": [],
   "source": [
    "X_train, X_test, y_train, y_test = train_test_split(X,y, test_size=0.25, random_state=15,stratify=y)"
   ]
  },
  {
   "cell_type": "code",
   "execution_count": 130,
   "id": "beff6b90",
   "metadata": {},
   "outputs": [
    {
     "data": {
      "text/plain": [
       "0    3872\n",
       "1    1402\n",
       "Name: Churn, dtype: int64"
      ]
     },
     "execution_count": 130,
     "metadata": {},
     "output_type": "execute_result"
    }
   ],
   "source": [
    "y_train.value_counts()"
   ]
  },
  {
   "cell_type": "code",
   "execution_count": 131,
   "id": "d12abe94",
   "metadata": {},
   "outputs": [
    {
     "data": {
      "text/plain": [
       "2.761768901569187"
      ]
     },
     "execution_count": 131,
     "metadata": {},
     "output_type": "execute_result"
    }
   ],
   "source": [
    "3872/1402"
   ]
  },
  {
   "cell_type": "code",
   "execution_count": 135,
   "id": "37dc94b1",
   "metadata": {},
   "outputs": [
    {
     "data": {
      "text/plain": [
       "1290.6666666666667"
      ]
     },
     "execution_count": 135,
     "metadata": {},
     "output_type": "execute_result"
    }
   ],
   "source": [
    "#We need approximately 3 bags\n",
    "3872/3"
   ]
  },
  {
   "cell_type": "code",
   "execution_count": 138,
   "id": "ffdb1d9f",
   "metadata": {},
   "outputs": [],
   "source": [
    "df3 = X_train.copy()\n",
    "df3['Churn'] = y_train"
   ]
  },
  {
   "cell_type": "code",
   "execution_count": 141,
   "id": "e8ab37cb",
   "metadata": {},
   "outputs": [],
   "source": [
    "df3_class0 = df3[df3.Churn==0]\n",
    "df3_class1 = df3[df3.Churn==1]"
   ]
  },
  {
   "cell_type": "code",
   "execution_count": 142,
   "id": "63175919",
   "metadata": {},
   "outputs": [
    {
     "data": {
      "text/plain": [
       "((3872, 27), (1402, 27))"
      ]
     },
     "execution_count": 142,
     "metadata": {},
     "output_type": "execute_result"
    }
   ],
   "source": [
    "#What is the major class\n",
    "df3_class0.shape, df3_class1.shape"
   ]
  },
  {
   "cell_type": "code",
   "execution_count": 147,
   "id": "89a136b0",
   "metadata": {},
   "outputs": [],
   "source": [
    "#df3_class0 is the major class, se we will create 3 bags"
   ]
  },
  {
   "cell_type": "code",
   "execution_count": 148,
   "id": "49e62e0a",
   "metadata": {},
   "outputs": [],
   "source": [
    "# We will create a function for that"
   ]
  },
  {
   "cell_type": "code",
   "execution_count": 161,
   "id": "67d649a8",
   "metadata": {},
   "outputs": [],
   "source": [
    "def get_train_batch(df_majority, df_minority,start,end):\n",
    "    df_train = pd.concat([df_majority[start:end],df_minority],axis=0)\n",
    "    \n",
    "    X_train =df_train.drop('Churn',axis='columns')\n",
    "    y_train = df_train.Churn\n",
    "    \n",
    "    return X_train, y_train"
   ]
  },
  {
   "cell_type": "code",
   "execution_count": 162,
   "id": "2f45063f",
   "metadata": {},
   "outputs": [],
   "source": [
    "X_train, y_train = get_train_batch(df3_class0, df3_class1,0,1402)"
   ]
  },
  {
   "cell_type": "code",
   "execution_count": 163,
   "id": "6e64a609",
   "metadata": {},
   "outputs": [],
   "source": [
    "#We need 3 models , so 3 training"
   ]
  },
  {
   "cell_type": "code",
   "execution_count": 164,
   "id": "86b1e404",
   "metadata": {},
   "outputs": [
    {
     "name": "stdout",
     "output_type": "stream",
     "text": [
      "Epoch 1/100\n",
      "88/88 [==============================] - 1s 3ms/step - loss: 0.5881 - accuracy: 0.7065\n",
      "Epoch 2/100\n",
      "88/88 [==============================] - 0s 3ms/step - loss: 0.5159 - accuracy: 0.7568\n",
      "Epoch 3/100\n",
      "88/88 [==============================] - 0s 3ms/step - loss: 0.5006 - accuracy: 0.7614\n",
      "Epoch 4/100\n",
      "88/88 [==============================] - 0s 3ms/step - loss: 0.4914 - accuracy: 0.7696\n",
      "Epoch 5/100\n",
      "88/88 [==============================] - 0s 3ms/step - loss: 0.4840 - accuracy: 0.7710\n",
      "Epoch 6/100\n",
      "88/88 [==============================] - 0s 3ms/step - loss: 0.4786 - accuracy: 0.7743\n",
      "Epoch 7/100\n",
      "88/88 [==============================] - 0s 3ms/step - loss: 0.4760 - accuracy: 0.7771\n",
      "Epoch 8/100\n",
      "88/88 [==============================] - 0s 3ms/step - loss: 0.4736 - accuracy: 0.7796\n",
      "Epoch 9/100\n",
      "88/88 [==============================] - 0s 3ms/step - loss: 0.4695 - accuracy: 0.7800\n",
      "Epoch 10/100\n",
      "88/88 [==============================] - 0s 3ms/step - loss: 0.4676 - accuracy: 0.7810\n",
      "Epoch 11/100\n",
      "88/88 [==============================] - 0s 3ms/step - loss: 0.4658 - accuracy: 0.7803\n",
      "Epoch 12/100\n",
      "88/88 [==============================] - 0s 3ms/step - loss: 0.4612 - accuracy: 0.7842\n",
      "Epoch 13/100\n",
      "88/88 [==============================] - 0s 3ms/step - loss: 0.4611 - accuracy: 0.7832\n",
      "Epoch 14/100\n",
      "88/88 [==============================] - 0s 3ms/step - loss: 0.4586 - accuracy: 0.7846\n",
      "Epoch 15/100\n",
      "88/88 [==============================] - 0s 3ms/step - loss: 0.4574 - accuracy: 0.7871\n",
      "Epoch 16/100\n",
      "88/88 [==============================] - 0s 3ms/step - loss: 0.4549 - accuracy: 0.7899\n",
      "Epoch 17/100\n",
      "88/88 [==============================] - 0s 3ms/step - loss: 0.4549 - accuracy: 0.7857\n",
      "Epoch 18/100\n",
      "88/88 [==============================] - 0s 3ms/step - loss: 0.4520 - accuracy: 0.7910\n",
      "Epoch 19/100\n",
      "88/88 [==============================] - 0s 3ms/step - loss: 0.4512 - accuracy: 0.7899\n",
      "Epoch 20/100\n",
      "88/88 [==============================] - 0s 3ms/step - loss: 0.4478 - accuracy: 0.7921\n",
      "Epoch 21/100\n",
      "88/88 [==============================] - 0s 3ms/step - loss: 0.4476 - accuracy: 0.7942\n",
      "Epoch 22/100\n",
      "88/88 [==============================] - 0s 3ms/step - loss: 0.4466 - accuracy: 0.7935\n",
      "Epoch 23/100\n",
      "88/88 [==============================] - 0s 3ms/step - loss: 0.4448 - accuracy: 0.7960\n",
      "Epoch 24/100\n",
      "88/88 [==============================] - 0s 3ms/step - loss: 0.4432 - accuracy: 0.7964\n",
      "Epoch 25/100\n",
      "88/88 [==============================] - 0s 3ms/step - loss: 0.4417 - accuracy: 0.7960\n",
      "Epoch 26/100\n",
      "88/88 [==============================] - 0s 3ms/step - loss: 0.4411 - accuracy: 0.7964\n",
      "Epoch 27/100\n",
      "88/88 [==============================] - 0s 3ms/step - loss: 0.4398 - accuracy: 0.7967\n",
      "Epoch 28/100\n",
      "88/88 [==============================] - 0s 3ms/step - loss: 0.4398 - accuracy: 0.8021\n",
      "Epoch 29/100\n",
      "88/88 [==============================] - 0s 3ms/step - loss: 0.4369 - accuracy: 0.8010\n",
      "Epoch 30/100\n",
      "88/88 [==============================] - 0s 3ms/step - loss: 0.4359 - accuracy: 0.8014\n",
      "Epoch 31/100\n",
      "88/88 [==============================] - 0s 3ms/step - loss: 0.4333 - accuracy: 0.8056\n",
      "Epoch 32/100\n",
      "88/88 [==============================] - 0s 3ms/step - loss: 0.4350 - accuracy: 0.8017\n",
      "Epoch 33/100\n",
      "88/88 [==============================] - 0s 3ms/step - loss: 0.4312 - accuracy: 0.7999\n",
      "Epoch 34/100\n",
      "88/88 [==============================] - 0s 3ms/step - loss: 0.4320 - accuracy: 0.8046\n",
      "Epoch 35/100\n",
      "88/88 [==============================] - 0s 3ms/step - loss: 0.4313 - accuracy: 0.8053\n",
      "Epoch 36/100\n",
      "88/88 [==============================] - 0s 3ms/step - loss: 0.4287 - accuracy: 0.8021\n",
      "Epoch 37/100\n",
      "88/88 [==============================] - 0s 3ms/step - loss: 0.4289 - accuracy: 0.8042\n",
      "Epoch 38/100\n",
      "88/88 [==============================] - 0s 3ms/step - loss: 0.4272 - accuracy: 0.8028\n",
      "Epoch 39/100\n",
      "88/88 [==============================] - 0s 3ms/step - loss: 0.4270 - accuracy: 0.8056\n",
      "Epoch 40/100\n",
      "88/88 [==============================] - 0s 3ms/step - loss: 0.4261 - accuracy: 0.8021\n",
      "Epoch 41/100\n",
      "88/88 [==============================] - 0s 3ms/step - loss: 0.4231 - accuracy: 0.8060\n",
      "Epoch 42/100\n",
      "88/88 [==============================] - 0s 3ms/step - loss: 0.4235 - accuracy: 0.8088\n",
      "Epoch 43/100\n",
      "88/88 [==============================] - 0s 3ms/step - loss: 0.4237 - accuracy: 0.8039\n",
      "Epoch 44/100\n",
      "88/88 [==============================] - 0s 3ms/step - loss: 0.4218 - accuracy: 0.8053\n",
      "Epoch 45/100\n",
      "88/88 [==============================] - 0s 3ms/step - loss: 0.4211 - accuracy: 0.8131\n",
      "Epoch 46/100\n",
      "88/88 [==============================] - 0s 3ms/step - loss: 0.4204 - accuracy: 0.8096\n",
      "Epoch 47/100\n",
      "88/88 [==============================] - 0s 3ms/step - loss: 0.4197 - accuracy: 0.8074\n",
      "Epoch 48/100\n",
      "88/88 [==============================] - 0s 3ms/step - loss: 0.4196 - accuracy: 0.8106\n",
      "Epoch 49/100\n",
      "88/88 [==============================] - 0s 3ms/step - loss: 0.4171 - accuracy: 0.8106\n",
      "Epoch 50/100\n",
      "88/88 [==============================] - 0s 3ms/step - loss: 0.4162 - accuracy: 0.8142\n",
      "Epoch 51/100\n",
      "88/88 [==============================] - 0s 3ms/step - loss: 0.4154 - accuracy: 0.8117\n",
      "Epoch 52/100\n",
      "88/88 [==============================] - 0s 3ms/step - loss: 0.4158 - accuracy: 0.8071\n",
      "Epoch 53/100\n",
      "88/88 [==============================] - 0s 3ms/step - loss: 0.4137 - accuracy: 0.8096\n",
      "Epoch 54/100\n",
      "88/88 [==============================] - 0s 3ms/step - loss: 0.4156 - accuracy: 0.8153\n",
      "Epoch 55/100\n",
      "88/88 [==============================] - 0s 3ms/step - loss: 0.4119 - accuracy: 0.8117\n",
      "Epoch 56/100\n",
      "88/88 [==============================] - 0s 3ms/step - loss: 0.4111 - accuracy: 0.8106\n",
      "Epoch 57/100\n",
      "88/88 [==============================] - 0s 3ms/step - loss: 0.4101 - accuracy: 0.8142\n",
      "Epoch 58/100\n",
      "88/88 [==============================] - 0s 3ms/step - loss: 0.4086 - accuracy: 0.8106\n",
      "Epoch 59/100\n",
      "88/88 [==============================] - 0s 3ms/step - loss: 0.4108 - accuracy: 0.8146\n",
      "Epoch 60/100\n",
      "88/88 [==============================] - 0s 3ms/step - loss: 0.4097 - accuracy: 0.8131\n",
      "Epoch 61/100\n",
      "88/88 [==============================] - 0s 3ms/step - loss: 0.4073 - accuracy: 0.8149\n",
      "Epoch 62/100\n",
      "88/88 [==============================] - 0s 3ms/step - loss: 0.4050 - accuracy: 0.8153\n",
      "Epoch 63/100\n",
      "88/88 [==============================] - 0s 3ms/step - loss: 0.4068 - accuracy: 0.8131\n",
      "Epoch 64/100\n",
      "88/88 [==============================] - 0s 3ms/step - loss: 0.4037 - accuracy: 0.8181\n",
      "Epoch 65/100\n",
      "88/88 [==============================] - 0s 3ms/step - loss: 0.4041 - accuracy: 0.8185\n",
      "Epoch 66/100\n",
      "88/88 [==============================] - 0s 3ms/step - loss: 0.4036 - accuracy: 0.8167\n",
      "Epoch 67/100\n",
      "88/88 [==============================] - 0s 3ms/step - loss: 0.4029 - accuracy: 0.8163\n",
      "Epoch 68/100\n",
      "88/88 [==============================] - 0s 3ms/step - loss: 0.3997 - accuracy: 0.8170\n",
      "Epoch 69/100\n",
      "88/88 [==============================] - 0s 3ms/step - loss: 0.4008 - accuracy: 0.8167\n",
      "Epoch 70/100\n",
      "88/88 [==============================] - 0s 3ms/step - loss: 0.4013 - accuracy: 0.8228\n",
      "Epoch 71/100\n",
      "88/88 [==============================] - 0s 3ms/step - loss: 0.3984 - accuracy: 0.8185\n",
      "Epoch 72/100\n",
      "88/88 [==============================] - 0s 3ms/step - loss: 0.3964 - accuracy: 0.8192\n",
      "Epoch 73/100\n",
      "88/88 [==============================] - 0s 3ms/step - loss: 0.3978 - accuracy: 0.8188\n",
      "Epoch 74/100\n",
      "88/88 [==============================] - 0s 3ms/step - loss: 0.3961 - accuracy: 0.8188\n",
      "Epoch 75/100\n",
      "88/88 [==============================] - 0s 3ms/step - loss: 0.3948 - accuracy: 0.8195\n",
      "Epoch 76/100\n",
      "88/88 [==============================] - 0s 3ms/step - loss: 0.3955 - accuracy: 0.8210\n",
      "Epoch 77/100\n",
      "88/88 [==============================] - 0s 3ms/step - loss: 0.3951 - accuracy: 0.8146\n",
      "Epoch 78/100\n",
      "88/88 [==============================] - 0s 3ms/step - loss: 0.3930 - accuracy: 0.8188\n",
      "Epoch 79/100\n",
      "88/88 [==============================] - 0s 3ms/step - loss: 0.3927 - accuracy: 0.8238\n",
      "Epoch 80/100\n",
      "88/88 [==============================] - 0s 3ms/step - loss: 0.3931 - accuracy: 0.8181\n",
      "Epoch 81/100\n",
      "88/88 [==============================] - 0s 3ms/step - loss: 0.3927 - accuracy: 0.8256\n",
      "Epoch 82/100\n",
      "88/88 [==============================] - 0s 3ms/step - loss: 0.3912 - accuracy: 0.8231\n",
      "Epoch 83/100\n",
      "88/88 [==============================] - 0s 3ms/step - loss: 0.3889 - accuracy: 0.8263\n",
      "Epoch 84/100\n",
      "88/88 [==============================] - 0s 3ms/step - loss: 0.3884 - accuracy: 0.8238\n",
      "Epoch 85/100\n",
      "88/88 [==============================] - 0s 3ms/step - loss: 0.3905 - accuracy: 0.8252\n",
      "Epoch 86/100\n",
      "88/88 [==============================] - 0s 3ms/step - loss: 0.3886 - accuracy: 0.8235\n",
      "Epoch 87/100\n",
      "88/88 [==============================] - 0s 3ms/step - loss: 0.3885 - accuracy: 0.8217\n",
      "Epoch 88/100\n",
      "88/88 [==============================] - 0s 3ms/step - loss: 0.3866 - accuracy: 0.8245\n",
      "Epoch 89/100\n",
      "88/88 [==============================] - 0s 3ms/step - loss: 0.3873 - accuracy: 0.8220\n",
      "Epoch 90/100\n",
      "88/88 [==============================] - 0s 3ms/step - loss: 0.3850 - accuracy: 0.8213\n",
      "Epoch 91/100\n",
      "88/88 [==============================] - 0s 3ms/step - loss: 0.3876 - accuracy: 0.8228\n",
      "Epoch 92/100\n",
      "88/88 [==============================] - 0s 3ms/step - loss: 0.3849 - accuracy: 0.8260\n",
      "Epoch 93/100\n",
      "88/88 [==============================] - 0s 3ms/step - loss: 0.3847 - accuracy: 0.8252\n",
      "Epoch 94/100\n",
      "88/88 [==============================] - 0s 3ms/step - loss: 0.3846 - accuracy: 0.8274\n",
      "Epoch 95/100\n",
      "88/88 [==============================] - 0s 3ms/step - loss: 0.3828 - accuracy: 0.8231\n",
      "Epoch 96/100\n",
      "88/88 [==============================] - 0s 3ms/step - loss: 0.3832 - accuracy: 0.8220\n",
      "Epoch 97/100\n",
      "88/88 [==============================] - 0s 3ms/step - loss: 0.3813 - accuracy: 0.8220\n",
      "Epoch 98/100\n",
      "88/88 [==============================] - 0s 3ms/step - loss: 0.3797 - accuracy: 0.8277\n",
      "Epoch 99/100\n",
      "88/88 [==============================] - 0s 3ms/step - loss: 0.3807 - accuracy: 0.8277\n",
      "Epoch 100/100\n",
      "88/88 [==============================] - 0s 3ms/step - loss: 0.3819 - accuracy: 0.8242\n",
      "55/55 [==============================] - 0s 2ms/step - loss: 0.5914 - accuracy: 0.7156\n",
      "[0.5914331078529358, 0.7155858874320984]\n",
      "55/55 [==============================] - 0s 1ms/step\n",
      "Classification Report: \n",
      "               precision    recall  f1-score   support\n",
      "\n",
      "           0       0.89      0.70      0.78      1291\n",
      "           1       0.48      0.76      0.59       467\n",
      "\n",
      "    accuracy                           0.72      1758\n",
      "   macro avg       0.68      0.73      0.69      1758\n",
      "weighted avg       0.78      0.72      0.73      1758\n",
      "\n"
     ]
    }
   ],
   "source": [
    "y_pred1 = ANN(X_train, y_train, X_test, y_test, 'binary_crossentropy',-1)"
   ]
  },
  {
   "cell_type": "code",
   "execution_count": 165,
   "id": "ff7a4459",
   "metadata": {},
   "outputs": [],
   "source": [
    "X_train, y_train = get_train_batch(df3_class0, df3_class1,1402,2804)"
   ]
  },
  {
   "cell_type": "code",
   "execution_count": 166,
   "id": "5fb4e096",
   "metadata": {},
   "outputs": [
    {
     "name": "stdout",
     "output_type": "stream",
     "text": [
      "Epoch 1/100\n",
      "88/88 [==============================] - 1s 3ms/step - loss: 0.6110 - accuracy: 0.6876\n",
      "Epoch 2/100\n",
      "88/88 [==============================] - 0s 3ms/step - loss: 0.5225 - accuracy: 0.7414\n",
      "Epoch 3/100\n",
      "88/88 [==============================] - 0s 3ms/step - loss: 0.5032 - accuracy: 0.7500\n",
      "Epoch 4/100\n",
      "88/88 [==============================] - 0s 3ms/step - loss: 0.4979 - accuracy: 0.7521\n",
      "Epoch 5/100\n",
      "88/88 [==============================] - 0s 3ms/step - loss: 0.4929 - accuracy: 0.7553\n",
      "Epoch 6/100\n",
      "88/88 [==============================] - 0s 3ms/step - loss: 0.4899 - accuracy: 0.7557\n",
      "Epoch 7/100\n",
      "88/88 [==============================] - 0s 3ms/step - loss: 0.4883 - accuracy: 0.7550\n",
      "Epoch 8/100\n",
      "88/88 [==============================] - 0s 3ms/step - loss: 0.4858 - accuracy: 0.7621\n",
      "Epoch 9/100\n",
      "88/88 [==============================] - 0s 3ms/step - loss: 0.4832 - accuracy: 0.7611\n",
      "Epoch 10/100\n",
      "88/88 [==============================] - 0s 3ms/step - loss: 0.4812 - accuracy: 0.7589\n",
      "Epoch 11/100\n",
      "88/88 [==============================] - 0s 3ms/step - loss: 0.4786 - accuracy: 0.7650\n",
      "Epoch 12/100\n",
      "88/88 [==============================] - 0s 3ms/step - loss: 0.4766 - accuracy: 0.7593\n",
      "Epoch 13/100\n",
      "88/88 [==============================] - 0s 3ms/step - loss: 0.4749 - accuracy: 0.7621\n",
      "Epoch 14/100\n",
      "88/88 [==============================] - 0s 3ms/step - loss: 0.4725 - accuracy: 0.7636\n",
      "Epoch 15/100\n",
      "88/88 [==============================] - 0s 3ms/step - loss: 0.4719 - accuracy: 0.7650\n",
      "Epoch 16/100\n",
      "88/88 [==============================] - 0s 3ms/step - loss: 0.4696 - accuracy: 0.7671\n",
      "Epoch 17/100\n",
      "88/88 [==============================] - 0s 3ms/step - loss: 0.4681 - accuracy: 0.7707\n",
      "Epoch 18/100\n",
      "88/88 [==============================] - 0s 3ms/step - loss: 0.4672 - accuracy: 0.7714\n",
      "Epoch 19/100\n",
      "88/88 [==============================] - 0s 3ms/step - loss: 0.4648 - accuracy: 0.7707\n",
      "Epoch 20/100\n",
      "88/88 [==============================] - 0s 3ms/step - loss: 0.4640 - accuracy: 0.7732\n",
      "Epoch 21/100\n",
      "88/88 [==============================] - 0s 3ms/step - loss: 0.4624 - accuracy: 0.7728\n",
      "Epoch 22/100\n",
      "88/88 [==============================] - 0s 3ms/step - loss: 0.4607 - accuracy: 0.7760\n",
      "Epoch 23/100\n",
      "88/88 [==============================] - 0s 3ms/step - loss: 0.4591 - accuracy: 0.7796\n",
      "Epoch 24/100\n",
      "88/88 [==============================] - 0s 3ms/step - loss: 0.4583 - accuracy: 0.7764\n",
      "Epoch 25/100\n",
      "88/88 [==============================] - 0s 3ms/step - loss: 0.4571 - accuracy: 0.7778\n",
      "Epoch 26/100\n",
      "88/88 [==============================] - 0s 3ms/step - loss: 0.4556 - accuracy: 0.7785\n",
      "Epoch 27/100\n",
      "88/88 [==============================] - 0s 3ms/step - loss: 0.4540 - accuracy: 0.7792\n",
      "Epoch 28/100\n",
      "88/88 [==============================] - 0s 3ms/step - loss: 0.4536 - accuracy: 0.7803\n",
      "Epoch 29/100\n",
      "88/88 [==============================] - 0s 3ms/step - loss: 0.4502 - accuracy: 0.7892\n",
      "Epoch 30/100\n",
      "88/88 [==============================] - 0s 3ms/step - loss: 0.4507 - accuracy: 0.7835\n",
      "Epoch 31/100\n",
      "88/88 [==============================] - 0s 3ms/step - loss: 0.4506 - accuracy: 0.7857\n",
      "Epoch 32/100\n",
      "88/88 [==============================] - 0s 3ms/step - loss: 0.4481 - accuracy: 0.7800\n",
      "Epoch 33/100\n",
      "88/88 [==============================] - 0s 3ms/step - loss: 0.4451 - accuracy: 0.7857\n",
      "Epoch 34/100\n",
      "88/88 [==============================] - 0s 3ms/step - loss: 0.4454 - accuracy: 0.7885\n",
      "Epoch 35/100\n",
      "88/88 [==============================] - 0s 3ms/step - loss: 0.4436 - accuracy: 0.7882\n",
      "Epoch 36/100\n",
      "88/88 [==============================] - 0s 3ms/step - loss: 0.4421 - accuracy: 0.7878\n",
      "Epoch 37/100\n",
      "88/88 [==============================] - 0s 3ms/step - loss: 0.4421 - accuracy: 0.7907\n",
      "Epoch 38/100\n",
      "88/88 [==============================] - 0s 3ms/step - loss: 0.4416 - accuracy: 0.7917\n",
      "Epoch 39/100\n",
      "88/88 [==============================] - 0s 3ms/step - loss: 0.4393 - accuracy: 0.7907\n",
      "Epoch 40/100\n",
      "88/88 [==============================] - 0s 3ms/step - loss: 0.4364 - accuracy: 0.7892\n",
      "Epoch 41/100\n",
      "88/88 [==============================] - 0s 3ms/step - loss: 0.4373 - accuracy: 0.7874\n",
      "Epoch 42/100\n",
      "88/88 [==============================] - 0s 3ms/step - loss: 0.4336 - accuracy: 0.7935\n",
      "Epoch 43/100\n",
      "88/88 [==============================] - 0s 3ms/step - loss: 0.4327 - accuracy: 0.7907\n",
      "Epoch 44/100\n",
      "88/88 [==============================] - 0s 3ms/step - loss: 0.4311 - accuracy: 0.7946\n",
      "Epoch 45/100\n",
      "88/88 [==============================] - 0s 3ms/step - loss: 0.4298 - accuracy: 0.7978\n",
      "Epoch 46/100\n",
      "88/88 [==============================] - 0s 3ms/step - loss: 0.4279 - accuracy: 0.7953\n",
      "Epoch 47/100\n",
      "88/88 [==============================] - 0s 3ms/step - loss: 0.4278 - accuracy: 0.7960\n",
      "Epoch 48/100\n",
      "88/88 [==============================] - 0s 3ms/step - loss: 0.4259 - accuracy: 0.7981\n",
      "Epoch 49/100\n",
      "88/88 [==============================] - 0s 3ms/step - loss: 0.4242 - accuracy: 0.8017\n",
      "Epoch 50/100\n",
      "88/88 [==============================] - 0s 3ms/step - loss: 0.4229 - accuracy: 0.8017\n",
      "Epoch 51/100\n",
      "88/88 [==============================] - 0s 3ms/step - loss: 0.4217 - accuracy: 0.8028\n",
      "Epoch 52/100\n",
      "88/88 [==============================] - 0s 3ms/step - loss: 0.4212 - accuracy: 0.8039\n",
      "Epoch 53/100\n",
      "88/88 [==============================] - 0s 3ms/step - loss: 0.4211 - accuracy: 0.8010\n",
      "Epoch 54/100\n",
      "88/88 [==============================] - 0s 3ms/step - loss: 0.4179 - accuracy: 0.8039\n",
      "Epoch 55/100\n",
      "88/88 [==============================] - 0s 3ms/step - loss: 0.4180 - accuracy: 0.7981\n",
      "Epoch 56/100\n",
      "88/88 [==============================] - 0s 3ms/step - loss: 0.4169 - accuracy: 0.8081\n",
      "Epoch 57/100\n",
      "88/88 [==============================] - 0s 3ms/step - loss: 0.4153 - accuracy: 0.8063\n",
      "Epoch 58/100\n",
      "88/88 [==============================] - 0s 3ms/step - loss: 0.4132 - accuracy: 0.8078\n",
      "Epoch 59/100\n",
      "88/88 [==============================] - 0s 3ms/step - loss: 0.4122 - accuracy: 0.8074\n",
      "Epoch 60/100\n",
      "88/88 [==============================] - 0s 3ms/step - loss: 0.4122 - accuracy: 0.8017\n",
      "Epoch 61/100\n",
      "88/88 [==============================] - 0s 3ms/step - loss: 0.4108 - accuracy: 0.8092\n",
      "Epoch 62/100\n",
      "88/88 [==============================] - 0s 3ms/step - loss: 0.4093 - accuracy: 0.8071\n",
      "Epoch 63/100\n",
      "88/88 [==============================] - 0s 3ms/step - loss: 0.4075 - accuracy: 0.8092\n",
      "Epoch 64/100\n",
      "88/88 [==============================] - 0s 3ms/step - loss: 0.4070 - accuracy: 0.8096\n",
      "Epoch 65/100\n",
      "88/88 [==============================] - 0s 3ms/step - loss: 0.4060 - accuracy: 0.8099\n",
      "Epoch 66/100\n",
      "88/88 [==============================] - 0s 3ms/step - loss: 0.4046 - accuracy: 0.8106\n",
      "Epoch 67/100\n",
      "88/88 [==============================] - 0s 3ms/step - loss: 0.4060 - accuracy: 0.8185\n",
      "Epoch 68/100\n",
      "88/88 [==============================] - 0s 3ms/step - loss: 0.4021 - accuracy: 0.8146\n",
      "Epoch 69/100\n",
      "88/88 [==============================] - 0s 3ms/step - loss: 0.4016 - accuracy: 0.8096\n",
      "Epoch 70/100\n",
      "88/88 [==============================] - 0s 3ms/step - loss: 0.4023 - accuracy: 0.8142\n",
      "Epoch 71/100\n",
      "88/88 [==============================] - 0s 3ms/step - loss: 0.3988 - accuracy: 0.8174\n",
      "Epoch 72/100\n",
      "88/88 [==============================] - 0s 3ms/step - loss: 0.3998 - accuracy: 0.8138\n",
      "Epoch 73/100\n",
      "88/88 [==============================] - 0s 3ms/step - loss: 0.3990 - accuracy: 0.8121\n",
      "Epoch 74/100\n",
      "88/88 [==============================] - 0s 3ms/step - loss: 0.3988 - accuracy: 0.8142\n",
      "Epoch 75/100\n",
      "88/88 [==============================] - 0s 3ms/step - loss: 0.3987 - accuracy: 0.8170\n",
      "Epoch 76/100\n",
      "88/88 [==============================] - 0s 3ms/step - loss: 0.3972 - accuracy: 0.8167\n",
      "Epoch 77/100\n",
      "88/88 [==============================] - 0s 3ms/step - loss: 0.3941 - accuracy: 0.8192\n",
      "Epoch 78/100\n",
      "88/88 [==============================] - 0s 3ms/step - loss: 0.3935 - accuracy: 0.8195\n",
      "Epoch 79/100\n",
      "88/88 [==============================] - 0s 3ms/step - loss: 0.3933 - accuracy: 0.8170\n",
      "Epoch 80/100\n",
      "88/88 [==============================] - 0s 3ms/step - loss: 0.3922 - accuracy: 0.8178\n",
      "Epoch 81/100\n",
      "88/88 [==============================] - 0s 3ms/step - loss: 0.3906 - accuracy: 0.8238\n",
      "Epoch 82/100\n",
      "88/88 [==============================] - 0s 3ms/step - loss: 0.3909 - accuracy: 0.8178\n",
      "Epoch 83/100\n",
      "88/88 [==============================] - 0s 3ms/step - loss: 0.3916 - accuracy: 0.8192\n",
      "Epoch 84/100\n",
      "88/88 [==============================] - 0s 3ms/step - loss: 0.3881 - accuracy: 0.8242\n",
      "Epoch 85/100\n",
      "88/88 [==============================] - 0s 3ms/step - loss: 0.3895 - accuracy: 0.8249\n",
      "Epoch 86/100\n",
      "88/88 [==============================] - 0s 3ms/step - loss: 0.3869 - accuracy: 0.8217\n",
      "Epoch 87/100\n",
      "88/88 [==============================] - 0s 3ms/step - loss: 0.3880 - accuracy: 0.8213\n",
      "Epoch 88/100\n",
      "88/88 [==============================] - 0s 3ms/step - loss: 0.3854 - accuracy: 0.8274\n",
      "Epoch 89/100\n",
      "88/88 [==============================] - 0s 3ms/step - loss: 0.3847 - accuracy: 0.8252\n",
      "Epoch 90/100\n",
      "88/88 [==============================] - 0s 3ms/step - loss: 0.3854 - accuracy: 0.8213\n",
      "Epoch 91/100\n",
      "88/88 [==============================] - 0s 3ms/step - loss: 0.3844 - accuracy: 0.8238\n",
      "Epoch 92/100\n",
      "88/88 [==============================] - 0s 3ms/step - loss: 0.3815 - accuracy: 0.8242\n",
      "Epoch 93/100\n",
      "88/88 [==============================] - 0s 3ms/step - loss: 0.3842 - accuracy: 0.8242\n",
      "Epoch 94/100\n",
      "88/88 [==============================] - 0s 3ms/step - loss: 0.3805 - accuracy: 0.8295\n",
      "Epoch 95/100\n",
      "88/88 [==============================] - 0s 3ms/step - loss: 0.3809 - accuracy: 0.8281\n",
      "Epoch 96/100\n",
      "88/88 [==============================] - 0s 3ms/step - loss: 0.3797 - accuracy: 0.8277\n",
      "Epoch 97/100\n",
      "88/88 [==============================] - 0s 3ms/step - loss: 0.3800 - accuracy: 0.8267\n",
      "Epoch 98/100\n",
      "88/88 [==============================] - 0s 3ms/step - loss: 0.3773 - accuracy: 0.8267\n",
      "Epoch 99/100\n",
      "88/88 [==============================] - 0s 3ms/step - loss: 0.3791 - accuracy: 0.8256\n",
      "Epoch 100/100\n",
      "88/88 [==============================] - 0s 3ms/step - loss: 0.3759 - accuracy: 0.8299\n",
      "55/55 [==============================] - 0s 2ms/step - loss: 0.5835 - accuracy: 0.7309\n",
      "[0.5835368037223816, 0.7309442758560181]\n",
      "55/55 [==============================] - 0s 1ms/step\n",
      "Classification Report: \n",
      "               precision    recall  f1-score   support\n",
      "\n",
      "           0       0.90      0.71      0.80      1291\n",
      "           1       0.50      0.78      0.60       467\n",
      "\n",
      "    accuracy                           0.73      1758\n",
      "   macro avg       0.70      0.75      0.70      1758\n",
      "weighted avg       0.79      0.73      0.75      1758\n",
      "\n"
     ]
    }
   ],
   "source": [
    "y_pred2 = ANN(X_train, y_train, X_test, y_test, 'binary_crossentropy',-1)"
   ]
  },
  {
   "cell_type": "code",
   "execution_count": 167,
   "id": "1ae2d88e",
   "metadata": {},
   "outputs": [],
   "source": [
    "X_train, y_train = get_train_batch(df3_class0, df3_class1,2084,3872)"
   ]
  },
  {
   "cell_type": "code",
   "execution_count": 168,
   "id": "10928806",
   "metadata": {},
   "outputs": [
    {
     "name": "stdout",
     "output_type": "stream",
     "text": [
      "Epoch 1/100\n",
      "100/100 [==============================] - 1s 3ms/step - loss: 0.6269 - accuracy: 0.6235\n",
      "Epoch 2/100\n",
      "100/100 [==============================] - 0s 3ms/step - loss: 0.5244 - accuracy: 0.7517\n",
      "Epoch 3/100\n",
      "100/100 [==============================] - 0s 3ms/step - loss: 0.4981 - accuracy: 0.7574\n",
      "Epoch 4/100\n",
      "100/100 [==============================] - 0s 3ms/step - loss: 0.4909 - accuracy: 0.7580\n",
      "Epoch 5/100\n",
      "100/100 [==============================] - 0s 3ms/step - loss: 0.4884 - accuracy: 0.7574\n",
      "Epoch 6/100\n",
      "100/100 [==============================] - 0s 3ms/step - loss: 0.4848 - accuracy: 0.7602\n",
      "Epoch 7/100\n",
      "100/100 [==============================] - 0s 3ms/step - loss: 0.4817 - accuracy: 0.7605\n",
      "Epoch 8/100\n",
      "100/100 [==============================] - 0s 3ms/step - loss: 0.4788 - accuracy: 0.7646\n",
      "Epoch 9/100\n",
      "100/100 [==============================] - 0s 3ms/step - loss: 0.4767 - accuracy: 0.7661\n",
      "Epoch 10/100\n",
      "100/100 [==============================] - 0s 3ms/step - loss: 0.4752 - accuracy: 0.7658\n",
      "Epoch 11/100\n",
      "100/100 [==============================] - 0s 3ms/step - loss: 0.4703 - accuracy: 0.7693\n",
      "Epoch 12/100\n",
      "100/100 [==============================] - 0s 3ms/step - loss: 0.4686 - accuracy: 0.7687\n",
      "Epoch 13/100\n",
      "100/100 [==============================] - 0s 3ms/step - loss: 0.4665 - accuracy: 0.7734\n",
      "Epoch 14/100\n",
      "100/100 [==============================] - 0s 3ms/step - loss: 0.4648 - accuracy: 0.7746\n",
      "Epoch 15/100\n",
      "100/100 [==============================] - 0s 3ms/step - loss: 0.4616 - accuracy: 0.7727\n",
      "Epoch 16/100\n",
      "100/100 [==============================] - 0s 3ms/step - loss: 0.4652 - accuracy: 0.7737\n",
      "Epoch 17/100\n",
      "100/100 [==============================] - 0s 3ms/step - loss: 0.4593 - accuracy: 0.7743\n",
      "Epoch 18/100\n",
      "100/100 [==============================] - 0s 3ms/step - loss: 0.4576 - accuracy: 0.7787\n",
      "Epoch 19/100\n",
      "100/100 [==============================] - 0s 3ms/step - loss: 0.4565 - accuracy: 0.7727\n",
      "Epoch 20/100\n",
      "100/100 [==============================] - 0s 3ms/step - loss: 0.4541 - accuracy: 0.7752\n",
      "Epoch 21/100\n",
      "100/100 [==============================] - 0s 3ms/step - loss: 0.4532 - accuracy: 0.7762\n",
      "Epoch 22/100\n",
      "100/100 [==============================] - 0s 3ms/step - loss: 0.4520 - accuracy: 0.7768\n",
      "Epoch 23/100\n",
      "100/100 [==============================] - 0s 3ms/step - loss: 0.4508 - accuracy: 0.7796\n",
      "Epoch 24/100\n",
      "100/100 [==============================] - 0s 3ms/step - loss: 0.4486 - accuracy: 0.7803\n",
      "Epoch 25/100\n",
      "100/100 [==============================] - 0s 3ms/step - loss: 0.4474 - accuracy: 0.7824\n",
      "Epoch 26/100\n",
      "100/100 [==============================] - 0s 3ms/step - loss: 0.4456 - accuracy: 0.7824\n",
      "Epoch 27/100\n",
      "100/100 [==============================] - 0s 3ms/step - loss: 0.4450 - accuracy: 0.7824\n",
      "Epoch 28/100\n",
      "100/100 [==============================] - 0s 3ms/step - loss: 0.4452 - accuracy: 0.7806\n",
      "Epoch 29/100\n",
      "100/100 [==============================] - 0s 3ms/step - loss: 0.4439 - accuracy: 0.7818\n",
      "Epoch 30/100\n",
      "100/100 [==============================] - 0s 3ms/step - loss: 0.4429 - accuracy: 0.7840\n",
      "Epoch 31/100\n",
      "100/100 [==============================] - 0s 3ms/step - loss: 0.4414 - accuracy: 0.7831\n",
      "Epoch 32/100\n",
      "100/100 [==============================] - 0s 3ms/step - loss: 0.4403 - accuracy: 0.7881\n",
      "Epoch 33/100\n",
      "100/100 [==============================] - 0s 3ms/step - loss: 0.4413 - accuracy: 0.7793\n",
      "Epoch 34/100\n",
      "100/100 [==============================] - 0s 3ms/step - loss: 0.4388 - accuracy: 0.7887\n",
      "Epoch 35/100\n",
      "100/100 [==============================] - 0s 3ms/step - loss: 0.4386 - accuracy: 0.7834\n",
      "Epoch 36/100\n",
      "100/100 [==============================] - 0s 3ms/step - loss: 0.4374 - accuracy: 0.7868\n",
      "Epoch 37/100\n",
      "100/100 [==============================] - 0s 3ms/step - loss: 0.4371 - accuracy: 0.7840\n",
      "Epoch 38/100\n",
      "100/100 [==============================] - 0s 3ms/step - loss: 0.4348 - accuracy: 0.7881\n",
      "Epoch 39/100\n",
      "100/100 [==============================] - 0s 3ms/step - loss: 0.4336 - accuracy: 0.7912\n",
      "Epoch 40/100\n",
      "100/100 [==============================] - 0s 3ms/step - loss: 0.4339 - accuracy: 0.7906\n",
      "Epoch 41/100\n",
      "100/100 [==============================] - 0s 3ms/step - loss: 0.4339 - accuracy: 0.7909\n",
      "Epoch 42/100\n",
      "100/100 [==============================] - 0s 3ms/step - loss: 0.4329 - accuracy: 0.7944\n",
      "Epoch 43/100\n",
      "100/100 [==============================] - 0s 3ms/step - loss: 0.4330 - accuracy: 0.7878\n",
      "Epoch 44/100\n",
      "100/100 [==============================] - 0s 3ms/step - loss: 0.4311 - accuracy: 0.7928\n",
      "Epoch 45/100\n",
      "100/100 [==============================] - 0s 3ms/step - loss: 0.4299 - accuracy: 0.7934\n",
      "Epoch 46/100\n",
      "100/100 [==============================] - 0s 3ms/step - loss: 0.4294 - accuracy: 0.7922\n",
      "Epoch 47/100\n",
      "100/100 [==============================] - 0s 3ms/step - loss: 0.4304 - accuracy: 0.7862\n",
      "Epoch 48/100\n",
      "100/100 [==============================] - 0s 3ms/step - loss: 0.4291 - accuracy: 0.7884\n",
      "Epoch 49/100\n",
      "100/100 [==============================] - 0s 3ms/step - loss: 0.4264 - accuracy: 0.7934\n",
      "Epoch 50/100\n",
      "100/100 [==============================] - 0s 3ms/step - loss: 0.4269 - accuracy: 0.7956\n",
      "Epoch 51/100\n",
      "100/100 [==============================] - 0s 3ms/step - loss: 0.4261 - accuracy: 0.7975\n",
      "Epoch 52/100\n",
      "100/100 [==============================] - 0s 3ms/step - loss: 0.4254 - accuracy: 0.7944\n",
      "Epoch 53/100\n",
      "100/100 [==============================] - 0s 3ms/step - loss: 0.4235 - accuracy: 0.7978\n",
      "Epoch 54/100\n",
      "100/100 [==============================] - 0s 3ms/step - loss: 0.4261 - accuracy: 0.7918\n",
      "Epoch 55/100\n",
      "100/100 [==============================] - 0s 3ms/step - loss: 0.4243 - accuracy: 0.7931\n",
      "Epoch 56/100\n",
      "100/100 [==============================] - 0s 3ms/step - loss: 0.4237 - accuracy: 0.7969\n",
      "Epoch 57/100\n",
      "100/100 [==============================] - 0s 3ms/step - loss: 0.4217 - accuracy: 0.7953\n",
      "Epoch 58/100\n",
      "100/100 [==============================] - 0s 3ms/step - loss: 0.4213 - accuracy: 0.8000\n",
      "Epoch 59/100\n",
      "100/100 [==============================] - 0s 3ms/step - loss: 0.4206 - accuracy: 0.7994\n",
      "Epoch 60/100\n",
      "100/100 [==============================] - 0s 3ms/step - loss: 0.4198 - accuracy: 0.7981\n",
      "Epoch 61/100\n",
      "100/100 [==============================] - 0s 3ms/step - loss: 0.4203 - accuracy: 0.7972\n",
      "Epoch 62/100\n",
      "100/100 [==============================] - 0s 3ms/step - loss: 0.4191 - accuracy: 0.7978\n",
      "Epoch 63/100\n",
      "100/100 [==============================] - 0s 3ms/step - loss: 0.4180 - accuracy: 0.8013\n",
      "Epoch 64/100\n",
      "100/100 [==============================] - 0s 3ms/step - loss: 0.4186 - accuracy: 0.7975\n",
      "Epoch 65/100\n",
      "100/100 [==============================] - 0s 3ms/step - loss: 0.4166 - accuracy: 0.8003\n",
      "Epoch 66/100\n",
      "100/100 [==============================] - 0s 3ms/step - loss: 0.4169 - accuracy: 0.8013\n",
      "Epoch 67/100\n",
      "100/100 [==============================] - 0s 3ms/step - loss: 0.4150 - accuracy: 0.7984\n",
      "Epoch 68/100\n",
      "100/100 [==============================] - 0s 3ms/step - loss: 0.4156 - accuracy: 0.8000\n",
      "Epoch 69/100\n",
      "100/100 [==============================] - 0s 3ms/step - loss: 0.4154 - accuracy: 0.7994\n",
      "Epoch 70/100\n",
      "100/100 [==============================] - 0s 3ms/step - loss: 0.4137 - accuracy: 0.8056\n",
      "Epoch 71/100\n",
      "100/100 [==============================] - 0s 3ms/step - loss: 0.4122 - accuracy: 0.8031\n",
      "Epoch 72/100\n",
      "100/100 [==============================] - 0s 3ms/step - loss: 0.4114 - accuracy: 0.8063\n",
      "Epoch 73/100\n",
      "100/100 [==============================] - 0s 3ms/step - loss: 0.4112 - accuracy: 0.8047\n",
      "Epoch 74/100\n",
      "100/100 [==============================] - 0s 3ms/step - loss: 0.4108 - accuracy: 0.8082\n",
      "Epoch 75/100\n",
      "100/100 [==============================] - 0s 3ms/step - loss: 0.4149 - accuracy: 0.7966\n",
      "Epoch 76/100\n",
      "100/100 [==============================] - 0s 3ms/step - loss: 0.4102 - accuracy: 0.8044\n",
      "Epoch 77/100\n",
      "100/100 [==============================] - 0s 3ms/step - loss: 0.4138 - accuracy: 0.8044\n",
      "Epoch 78/100\n",
      "100/100 [==============================] - 0s 3ms/step - loss: 0.4097 - accuracy: 0.8072\n",
      "Epoch 79/100\n",
      "100/100 [==============================] - 0s 3ms/step - loss: 0.4088 - accuracy: 0.8078\n",
      "Epoch 80/100\n",
      "100/100 [==============================] - 0s 3ms/step - loss: 0.4085 - accuracy: 0.8097\n",
      "Epoch 81/100\n",
      "100/100 [==============================] - 0s 3ms/step - loss: 0.4082 - accuracy: 0.8066\n",
      "Epoch 82/100\n",
      "100/100 [==============================] - 0s 3ms/step - loss: 0.4047 - accuracy: 0.8060\n",
      "Epoch 83/100\n",
      "100/100 [==============================] - 0s 3ms/step - loss: 0.4048 - accuracy: 0.8097\n",
      "Epoch 84/100\n",
      "100/100 [==============================] - 0s 3ms/step - loss: 0.4054 - accuracy: 0.8082\n",
      "Epoch 85/100\n",
      "100/100 [==============================] - 0s 3ms/step - loss: 0.4049 - accuracy: 0.8078\n",
      "Epoch 86/100\n",
      "100/100 [==============================] - 0s 3ms/step - loss: 0.4033 - accuracy: 0.8097\n",
      "Epoch 87/100\n",
      "100/100 [==============================] - 0s 3ms/step - loss: 0.4040 - accuracy: 0.8110\n",
      "Epoch 88/100\n",
      "100/100 [==============================] - 0s 3ms/step - loss: 0.4025 - accuracy: 0.8100\n",
      "Epoch 89/100\n",
      "100/100 [==============================] - 0s 3ms/step - loss: 0.4036 - accuracy: 0.8110\n",
      "Epoch 90/100\n",
      "100/100 [==============================] - 0s 3ms/step - loss: 0.4008 - accuracy: 0.8135\n",
      "Epoch 91/100\n",
      "100/100 [==============================] - 0s 3ms/step - loss: 0.4002 - accuracy: 0.8091\n",
      "Epoch 92/100\n",
      "100/100 [==============================] - 0s 3ms/step - loss: 0.4008 - accuracy: 0.8103\n",
      "Epoch 93/100\n",
      "100/100 [==============================] - 0s 3ms/step - loss: 0.4020 - accuracy: 0.8082\n",
      "Epoch 94/100\n",
      "100/100 [==============================] - 0s 3ms/step - loss: 0.4005 - accuracy: 0.8110\n",
      "Epoch 95/100\n",
      "100/100 [==============================] - 0s 3ms/step - loss: 0.3999 - accuracy: 0.8066\n",
      "Epoch 96/100\n",
      "100/100 [==============================] - 0s 3ms/step - loss: 0.3991 - accuracy: 0.8103\n",
      "Epoch 97/100\n",
      "100/100 [==============================] - 0s 3ms/step - loss: 0.3974 - accuracy: 0.8138\n",
      "Epoch 98/100\n",
      "100/100 [==============================] - 0s 3ms/step - loss: 0.3987 - accuracy: 0.8144\n",
      "Epoch 99/100\n",
      "100/100 [==============================] - 0s 3ms/step - loss: 0.3970 - accuracy: 0.8135\n",
      "Epoch 100/100\n",
      "100/100 [==============================] - 0s 3ms/step - loss: 0.3977 - accuracy: 0.8125\n",
      "55/55 [==============================] - 0s 2ms/step - loss: 0.5333 - accuracy: 0.7372\n",
      "[0.5333489179611206, 0.7372013926506042]\n",
      "55/55 [==============================] - 0s 1ms/step\n",
      "Classification Report: \n",
      "               precision    recall  f1-score   support\n",
      "\n",
      "           0       0.89      0.73      0.80      1291\n",
      "           1       0.50      0.75      0.60       467\n",
      "\n",
      "    accuracy                           0.74      1758\n",
      "   macro avg       0.70      0.74      0.70      1758\n",
      "weighted avg       0.79      0.74      0.75      1758\n",
      "\n"
     ]
    }
   ],
   "source": [
    "y_pred3 = ANN(X_train, y_train, X_test, y_test, 'binary_crossentropy',-1)"
   ]
  },
  {
   "cell_type": "code",
   "execution_count": 170,
   "id": "53c17425",
   "metadata": {},
   "outputs": [
    {
     "data": {
      "text/plain": [
       "2"
      ]
     },
     "execution_count": 170,
     "metadata": {},
     "output_type": "execute_result"
    }
   ],
   "source": [
    "#Vote logic\n",
    "\n",
    "vote1 = 0\n",
    "vote2 = 1\n",
    "vote3 = 1\n",
    "\n",
    "vote1+vote2+vote3"
   ]
  },
  {
   "cell_type": "code",
   "execution_count": 172,
   "id": "14ac961a",
   "metadata": {},
   "outputs": [
    {
     "data": {
      "text/plain": [
       "1758"
      ]
     },
     "execution_count": 172,
     "metadata": {},
     "output_type": "execute_result"
    }
   ],
   "source": [
    "len(y_pred1)"
   ]
  },
  {
   "cell_type": "code",
   "execution_count": null,
   "id": "4723b8ec",
   "metadata": {},
   "outputs": [],
   "source": [
    "len(y_pred2)"
   ]
  },
  {
   "cell_type": "code",
   "execution_count": null,
   "id": "ad2b0488",
   "metadata": {},
   "outputs": [],
   "source": [
    "len(y_pred3)"
   ]
  },
  {
   "cell_type": "code",
   "execution_count": 174,
   "id": "6b2868b9",
   "metadata": {},
   "outputs": [],
   "source": [
    "y_pred_final = y_pred1.copy()"
   ]
  },
  {
   "cell_type": "code",
   "execution_count": 175,
   "id": "3eaed307",
   "metadata": {},
   "outputs": [],
   "source": [
    "#Majority vote\n",
    "\n",
    "for i in range(len(y_pred1)):\n",
    "    n_ones = y_pred1[i]+y_pred2[i]+y_pred3[i]\n",
    "    if n_ones >1:\n",
    "        y_pred_final[i] = 1\n",
    "    else:\n",
    "        y_pred_final[i] = 0"
   ]
  },
  {
   "cell_type": "code",
   "execution_count": 176,
   "id": "4f35bb29",
   "metadata": {},
   "outputs": [
    {
     "name": "stdout",
     "output_type": "stream",
     "text": [
      "              precision    recall  f1-score   support\n",
      "\n",
      "           0       0.90      0.74      0.81      1291\n",
      "           1       0.51      0.78      0.62       467\n",
      "\n",
      "    accuracy                           0.75      1758\n",
      "   macro avg       0.71      0.76      0.71      1758\n",
      "weighted avg       0.80      0.75      0.76      1758\n",
      "\n"
     ]
    }
   ],
   "source": [
    "print(classification_report(y_test, y_pred_final))"
   ]
  },
  {
   "cell_type": "code",
   "execution_count": null,
   "id": "20dc3c5f",
   "metadata": {},
   "outputs": [],
   "source": []
  }
 ],
 "metadata": {
  "kernelspec": {
   "display_name": "Python 3 (ipykernel)",
   "language": "python",
   "name": "python3"
  },
  "language_info": {
   "codemirror_mode": {
    "name": "ipython",
    "version": 3
   },
   "file_extension": ".py",
   "mimetype": "text/x-python",
   "name": "python",
   "nbconvert_exporter": "python",
   "pygments_lexer": "ipython3",
   "version": "3.10.4"
  }
 },
 "nbformat": 4,
 "nbformat_minor": 5
}
