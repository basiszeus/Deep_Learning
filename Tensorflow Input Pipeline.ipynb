{
 "cells": [
  {
   "cell_type": "code",
   "execution_count": 1,
   "id": "ccae6725",
   "metadata": {
    "collapsed": true
   },
   "outputs": [
    {
     "name": "stdout",
     "output_type": "stream",
     "text": [
      "WARNING:tensorflow:Please fix your imports. Module tensorflow.python.training.tracking.base has been moved to tensorflow.python.trackable.base. The old module will be deleted in version 2.11.\n",
      "WARNING:tensorflow:Please fix your imports. Module tensorflow.python.training.tracking.resource has been moved to tensorflow.python.trackable.resource. The old module will be deleted in version 2.11.\n",
      "WARNING:tensorflow:Please fix your imports. Module tensorflow.python.training.tracking.graph_view has been moved to tensorflow.python.checkpoint.graph_view. The old module will be deleted in version 2.11.\n",
      "WARNING:tensorflow:Please fix your imports. Module tensorflow.python.training.saving.functional_saver has been moved to tensorflow.python.checkpoint.functional_saver. The old module will be deleted in version 2.11.\n",
      "WARNING:tensorflow:Please fix your imports. Module tensorflow.python.training.saving.checkpoint_options has been moved to tensorflow.python.checkpoint.checkpoint_options. The old module will be deleted in version 2.11.\n"
     ]
    }
   ],
   "source": [
    "import tensorflow as tf"
   ]
  },
  {
   "cell_type": "code",
   "execution_count": 2,
   "id": "b26ac815",
   "metadata": {},
   "outputs": [],
   "source": [
    "ssm_korea_students_grade = [13,17,18,-5,15]"
   ]
  },
  {
   "cell_type": "code",
   "execution_count": 4,
   "id": "45231f67",
   "metadata": {},
   "outputs": [],
   "source": [
    "#Let's build a tf.dataset\n",
    "tf_dataset = tf.data.Dataset.from_tensor_slices(ssm_korea_students_grade)"
   ]
  },
  {
   "cell_type": "code",
   "execution_count": 5,
   "id": "95ad9c27",
   "metadata": {},
   "outputs": [
    {
     "name": "stdout",
     "output_type": "stream",
     "text": [
      "tf.Tensor(13, shape=(), dtype=int32)\n",
      "tf.Tensor(17, shape=(), dtype=int32)\n",
      "tf.Tensor(18, shape=(), dtype=int32)\n",
      "tf.Tensor(-5, shape=(), dtype=int32)\n",
      "tf.Tensor(15, shape=(), dtype=int32)\n"
     ]
    }
   ],
   "source": [
    "#To be able to view it, you need to loop\n",
    "\n",
    "for x in tf_dataset:\n",
    "    print(x)"
   ]
  },
  {
   "cell_type": "code",
   "execution_count": 7,
   "id": "c2f1de39",
   "metadata": {},
   "outputs": [
    {
     "name": "stdout",
     "output_type": "stream",
     "text": [
      "13\n",
      "17\n",
      "18\n",
      "-5\n",
      "15\n"
     ]
    }
   ],
   "source": [
    "#If you only want to view the value \n",
    "\n",
    "for x in tf_dataset.as_numpy_iterator():\n",
    "    print(x)"
   ]
  },
  {
   "cell_type": "markdown",
   "id": "b4d737c4",
   "metadata": {},
   "source": [
    "You can also write for x in tf_dataset:\n",
    "    print(x.numpy())"
   ]
  },
  {
   "cell_type": "code",
   "execution_count": 12,
   "id": "9a9ab239",
   "metadata": {},
   "outputs": [
    {
     "name": "stdout",
     "output_type": "stream",
     "text": [
      "13\n",
      "17\n"
     ]
    }
   ],
   "source": [
    "#If you want to only look at the 2 first elements\n",
    "\n",
    "for x in tf_dataset.take(2):\n",
    "    print(x.numpy())"
   ]
  },
  {
   "cell_type": "code",
   "execution_count": 8,
   "id": "ef1bab80",
   "metadata": {},
   "outputs": [],
   "source": [
    "#Hey! we can't have a negative grade! (è_é) do your work!"
   ]
  },
  {
   "cell_type": "code",
   "execution_count": 13,
   "id": "d7c2745e",
   "metadata": {},
   "outputs": [
    {
     "name": "stdout",
     "output_type": "stream",
     "text": [
      "13\n",
      "17\n",
      "18\n",
      "15\n"
     ]
    }
   ],
   "source": [
    "tf_dataset = tf_dataset.filter(lambda x : x>0)\n",
    "\n",
    "for x in tf_dataset.as_numpy_iterator():\n",
    "    print(x)\n",
    "    \n",
    "#We don't have the negative value anymore"
   ]
  },
  {
   "cell_type": "code",
   "execution_count": 14,
   "id": "977983ba",
   "metadata": {},
   "outputs": [
    {
     "name": "stdout",
     "output_type": "stream",
     "text": [
      "26\n",
      "34\n",
      "36\n",
      "30\n"
     ]
    }
   ],
   "source": [
    "#I don't want the grade on 20 but 40!\n",
    "#So we need to multiply the values x2\n",
    "#You will use map function\n",
    "\n",
    "tf_dataset = tf_dataset.map(lambda x: x*2)\n",
    "\n",
    "for x in tf_dataset.as_numpy_iterator():\n",
    "    print(x)"
   ]
  },
  {
   "cell_type": "code",
   "execution_count": 16,
   "id": "fdc2dea1",
   "metadata": {},
   "outputs": [
    {
     "name": "stdout",
     "output_type": "stream",
     "text": [
      "34\n",
      "26\n",
      "36\n",
      "30\n"
     ]
    }
   ],
   "source": [
    "#I don't want the guy with 26/40 but the first one!\n",
    "#Just shuffle them\n",
    "\n",
    "tf_dataset = tf_dataset.shuffle(4)\n",
    "\n",
    "#Need an argument called a buffer\n",
    "\n",
    "for x in tf_dataset.as_numpy_iterator():\n",
    "    print(x)"
   ]
  },
  {
   "cell_type": "markdown",
   "id": "cf2d1c03",
   "metadata": {},
   "source": [
    "Buffer size of 4 mean that we will pick a random 4 element from you dataset and thing 1 from the 4 then we feed the rest to match 4 elements and restart the process!"
   ]
  },
  {
   "cell_type": "code",
   "execution_count": 19,
   "id": "1c3ae3a8",
   "metadata": {},
   "outputs": [
    {
     "name": "stdout",
     "output_type": "stream",
     "text": [
      "[26 30]\n",
      "[34 36]\n"
     ]
    }
   ],
   "source": [
    "#Batching\n",
    "#We will create 2 batches from our dataset\n",
    "\n",
    "for x in tf_dataset.batch(2):\n",
    "    print(x.numpy())"
   ]
  },
  {
   "cell_type": "markdown",
   "id": "93a242c7",
   "metadata": {},
   "source": [
    "Hey! but we saw in the presentation that we can do all of this in a single line! you lair! (è_é)"
   ]
  },
  {
   "cell_type": "code",
   "execution_count": 21,
   "id": "dd904d4c",
   "metadata": {},
   "outputs": [
    {
     "name": "stdout",
     "output_type": "stream",
     "text": [
      "[36 34]\n",
      "[30 26]\n"
     ]
    }
   ],
   "source": [
    "#We can!\n",
    "\n",
    "tf_dataset = tf_dataset.from_tensor_slices(ssm_korea_students_grade)\n",
    "\n",
    "tf_dataset = tf_dataset.filter(lambda x:x>0).map(lambda y: y*2).shuffle(4).batch(2)\n",
    "\n",
    "for x in tf_dataset.as_numpy_iterator():\n",
    "    print(x)"
   ]
  },
  {
   "cell_type": "markdown",
   "id": "6f981b68",
   "metadata": {},
   "source": []
  }
 ],
 "metadata": {
  "kernelspec": {
   "display_name": "Python 3 (ipykernel)",
   "language": "python",
   "name": "python3"
  },
  "language_info": {
   "codemirror_mode": {
    "name": "ipython",
    "version": 3
   },
   "file_extension": ".py",
   "mimetype": "text/x-python",
   "name": "python",
   "nbconvert_exporter": "python",
   "pygments_lexer": "ipython3",
   "version": "3.10.4"
  }
 },
 "nbformat": 4,
 "nbformat_minor": 5
}
