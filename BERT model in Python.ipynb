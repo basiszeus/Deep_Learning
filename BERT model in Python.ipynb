{
 "cells": [
  {
   "cell_type": "code",
   "execution_count": 1,
   "id": "9c59f6ea",
   "metadata": {
    "scrolled": false
   },
   "outputs": [],
   "source": [
    "import tensorflow_hub as hub"
   ]
  },
  {
   "cell_type": "code",
   "execution_count": 2,
   "id": "6c7dbc5e",
   "metadata": {},
   "outputs": [],
   "source": [
    "import tensorflow_text as text"
   ]
  },
  {
   "cell_type": "code",
   "execution_count": 3,
   "id": "6fc0ac37",
   "metadata": {},
   "outputs": [],
   "source": [
    "#For each model you have an encoder and preprocessing model\n",
    "#We will create a variables and download the models\n",
    "preprocess_url = \"https://tfhub.dev/tensorflow/bert_en_uncased_preprocess/3\" \n",
    "#preprocess will preprocess your text.\n",
    "encoder_url = \"https://tfhub.dev/tensorflow/bert_en_uncased_L-12_H-768_A-12/4\""
   ]
  },
  {
   "cell_type": "code",
   "execution_count": 6,
   "id": "6557a9df",
   "metadata": {},
   "outputs": [],
   "source": [
    "bert_preprocess_model = hub.KerasLayer(preprocess_url)"
   ]
  },
  {
   "cell_type": "code",
   "execution_count": 14,
   "id": "08c68029",
   "metadata": {},
   "outputs": [
    {
     "data": {
      "text/plain": [
       "dict_keys(['input_word_ids', 'input_mask', 'input_type_ids'])"
      ]
     },
     "execution_count": 14,
     "metadata": {},
     "output_type": "execute_result"
    }
   ],
   "source": [
    "#Testing Preprocessing\n",
    "\n",
    "text_test = ['nice movie indeed','nice weather'] \n",
    "text_preprocessed = bert_preprocess_model(text_test)\n",
    "text_preprocessed.keys()"
   ]
  },
  {
   "cell_type": "code",
   "execution_count": 15,
   "id": "02406718",
   "metadata": {},
   "outputs": [
    {
     "data": {
      "text/plain": [
       "<tf.Tensor: shape=(2, 128), dtype=int32, numpy=\n",
       "array([[1, 1, 1, 1, 1, 0, 0, 0, 0, 0, 0, 0, 0, 0, 0, 0, 0, 0, 0, 0, 0, 0,\n",
       "        0, 0, 0, 0, 0, 0, 0, 0, 0, 0, 0, 0, 0, 0, 0, 0, 0, 0, 0, 0, 0, 0,\n",
       "        0, 0, 0, 0, 0, 0, 0, 0, 0, 0, 0, 0, 0, 0, 0, 0, 0, 0, 0, 0, 0, 0,\n",
       "        0, 0, 0, 0, 0, 0, 0, 0, 0, 0, 0, 0, 0, 0, 0, 0, 0, 0, 0, 0, 0, 0,\n",
       "        0, 0, 0, 0, 0, 0, 0, 0, 0, 0, 0, 0, 0, 0, 0, 0, 0, 0, 0, 0, 0, 0,\n",
       "        0, 0, 0, 0, 0, 0, 0, 0, 0, 0, 0, 0, 0, 0, 0, 0, 0, 0],\n",
       "       [1, 1, 1, 1, 0, 0, 0, 0, 0, 0, 0, 0, 0, 0, 0, 0, 0, 0, 0, 0, 0, 0,\n",
       "        0, 0, 0, 0, 0, 0, 0, 0, 0, 0, 0, 0, 0, 0, 0, 0, 0, 0, 0, 0, 0, 0,\n",
       "        0, 0, 0, 0, 0, 0, 0, 0, 0, 0, 0, 0, 0, 0, 0, 0, 0, 0, 0, 0, 0, 0,\n",
       "        0, 0, 0, 0, 0, 0, 0, 0, 0, 0, 0, 0, 0, 0, 0, 0, 0, 0, 0, 0, 0, 0,\n",
       "        0, 0, 0, 0, 0, 0, 0, 0, 0, 0, 0, 0, 0, 0, 0, 0, 0, 0, 0, 0, 0, 0,\n",
       "        0, 0, 0, 0, 0, 0, 0, 0, 0, 0, 0, 0, 0, 0, 0, 0, 0, 0]])>"
      ]
     },
     "execution_count": 15,
     "metadata": {},
     "output_type": "execute_result"
    }
   ],
   "source": [
    "#Let's look at the object produced\n",
    "#Input_mask\n",
    "text_preprocessed['input_mask']"
   ]
  },
  {
   "cell_type": "code",
   "execution_count": 17,
   "id": "c8b863a2",
   "metadata": {
    "scrolled": true
   },
   "outputs": [
    {
     "data": {
      "text/plain": [
       "<tf.Tensor: shape=(2, 128), dtype=int32, numpy=\n",
       "array([[ 101, 3835, 3185, 5262,  102,    0,    0,    0,    0,    0,    0,\n",
       "           0,    0,    0,    0,    0,    0,    0,    0,    0,    0,    0,\n",
       "           0,    0,    0,    0,    0,    0,    0,    0,    0,    0,    0,\n",
       "           0,    0,    0,    0,    0,    0,    0,    0,    0,    0,    0,\n",
       "           0,    0,    0,    0,    0,    0,    0,    0,    0,    0,    0,\n",
       "           0,    0,    0,    0,    0,    0,    0,    0,    0,    0,    0,\n",
       "           0,    0,    0,    0,    0,    0,    0,    0,    0,    0,    0,\n",
       "           0,    0,    0,    0,    0,    0,    0,    0,    0,    0,    0,\n",
       "           0,    0,    0,    0,    0,    0,    0,    0,    0,    0,    0,\n",
       "           0,    0,    0,    0,    0,    0,    0,    0,    0,    0,    0,\n",
       "           0,    0,    0,    0,    0,    0,    0,    0,    0,    0,    0,\n",
       "           0,    0,    0,    0,    0,    0,    0],\n",
       "       [ 101, 3835, 4633,  102,    0,    0,    0,    0,    0,    0,    0,\n",
       "           0,    0,    0,    0,    0,    0,    0,    0,    0,    0,    0,\n",
       "           0,    0,    0,    0,    0,    0,    0,    0,    0,    0,    0,\n",
       "           0,    0,    0,    0,    0,    0,    0,    0,    0,    0,    0,\n",
       "           0,    0,    0,    0,    0,    0,    0,    0,    0,    0,    0,\n",
       "           0,    0,    0,    0,    0,    0,    0,    0,    0,    0,    0,\n",
       "           0,    0,    0,    0,    0,    0,    0,    0,    0,    0,    0,\n",
       "           0,    0,    0,    0,    0,    0,    0,    0,    0,    0,    0,\n",
       "           0,    0,    0,    0,    0,    0,    0,    0,    0,    0,    0,\n",
       "           0,    0,    0,    0,    0,    0,    0,    0,    0,    0,    0,\n",
       "           0,    0,    0,    0,    0,    0,    0,    0,    0,    0,    0,\n",
       "           0,    0,    0,    0,    0,    0,    0]])>"
      ]
     },
     "execution_count": 17,
     "metadata": {},
     "output_type": "execute_result"
    }
   ],
   "source": [
    "#Input_word_ids\n",
    "text_preprocessed['input_word_ids']"
   ]
  },
  {
   "cell_type": "code",
   "execution_count": 19,
   "id": "c4f7e442",
   "metadata": {},
   "outputs": [
    {
     "data": {
      "text/plain": [
       "dict_keys(['pooled_output', 'encoder_outputs', 'sequence_output', 'default'])"
      ]
     },
     "execution_count": 19,
     "metadata": {},
     "output_type": "execute_result"
    }
   ],
   "source": [
    "bert_model = hub.KerasLayer(encoder_url)\n",
    "#we can supply our preprocessed text\n",
    "bert_results = bert_model(text_preprocessed)\n",
    "bert_results.keys()"
   ]
  },
  {
   "cell_type": "code",
   "execution_count": 20,
   "id": "1092a5f0",
   "metadata": {},
   "outputs": [
    {
     "data": {
      "text/plain": [
       "<tf.Tensor: shape=(2, 768), dtype=float32, numpy=\n",
       "array([[-0.79177445, -0.21411942,  0.49769488, ...,  0.24465126,\n",
       "        -0.47334498,  0.8175873 ],\n",
       "       [-0.80182916, -0.20201989,  0.22948878, ...,  0.05426367,\n",
       "        -0.552543  ,  0.848088  ]], dtype=float32)>"
      ]
     },
     "execution_count": 20,
     "metadata": {},
     "output_type": "execute_result"
    }
   ],
   "source": [
    "bert_results['pooled_output']"
   ]
  },
  {
   "cell_type": "code",
   "execution_count": 25,
   "id": "261ebb01",
   "metadata": {
    "scrolled": true
   },
   "outputs": [
    {
     "data": {
      "text/plain": [
       "<tf.Tensor: shape=(2, 128, 768), dtype=float32, numpy=\n",
       "array([[[ 0.07292067,  0.08567819,  0.14476839, ..., -0.09677105,\n",
       "          0.08722159,  0.07711076],\n",
       "        [ 0.17839423, -0.19006088,  0.5034951 , ..., -0.05869836,\n",
       "          0.32717168, -0.15578607],\n",
       "        [ 0.18701434, -0.43388814, -0.48875174, ..., -0.15502723,\n",
       "          0.00145242, -0.24470958],\n",
       "        ...,\n",
       "        [ 0.12083033,  0.12884216,  0.4645349 , ...,  0.07375568,\n",
       "          0.17441967,  0.16522148],\n",
       "        [ 0.07967912, -0.01190673,  0.50225425, ...,  0.13777754,\n",
       "          0.21002257,  0.00624568],\n",
       "        [-0.07212678, -0.28303456,  0.5903342 , ...,  0.4755191 ,\n",
       "          0.16668472, -0.08920309]],\n",
       "\n",
       "       [[-0.09913606,  0.01595346, -0.04634067, ..., -0.16810721,\n",
       "         -0.0738923 ,  0.05758078],\n",
       "        [ 0.15735416, -0.5526499 ,  0.5439889 , ..., -0.26460272,\n",
       "         -0.16227034,  0.104964  ],\n",
       "        [-0.63261294, -0.5519903 , -0.38234076, ...,  0.285734  ,\n",
       "         -0.11504608, -0.5958983 ],\n",
       "        ...,\n",
       "        [ 0.17415842, -0.09720878,  0.09895976, ..., -0.0375573 ,\n",
       "         -0.01826426,  0.1566921 ],\n",
       "        [-0.5250884 , -0.7919024 ,  0.01519417, ...,  0.25820488,\n",
       "         -0.20793673, -0.26029053],\n",
       "        [ 0.13073798, -0.14167854,  0.14501667, ..., -0.01861633,\n",
       "         -0.01190236,  0.06458878]]], dtype=float32)>"
      ]
     },
     "execution_count": 25,
     "metadata": {},
     "output_type": "execute_result"
    }
   ],
   "source": [
    "bert_results['sequence_output']\n",
    "#For each of the word we will have 768 vector \n",
    "#2 is for 2 sentences \n",
    "#128 max length with BERT, 0 is for padding"
   ]
  },
  {
   "cell_type": "code",
   "execution_count": 27,
   "id": "4c16697f",
   "metadata": {},
   "outputs": [
    {
     "data": {
      "text/plain": [
       "12"
      ]
     },
     "execution_count": 27,
     "metadata": {},
     "output_type": "execute_result"
    }
   ],
   "source": [
    "len(bert_results['encoder_outputs'])"
   ]
  },
  {
   "attachments": {
    "1111.png": {
     "image/png": "[encoded data removed]"
    }
   },
   "cell_type": "markdown",
   "id": "529cfd95",
   "metadata": {},
   "source": [
    "![1111.png](attachment:1111.png)"
   ]
  },
  {
   "cell_type": "code",
   "execution_count": 28,
   "id": "902ed1e7",
   "metadata": {},
   "outputs": [
    {
     "data": {
      "text/plain": [
       "<tf.Tensor: shape=(2, 128, 768), dtype=float32, numpy=\n",
       "array([[[ 0.12901412,  0.00644755, -0.03614965, ...,  0.04999633,\n",
       "          0.06149195, -0.02657555],\n",
       "        [ 1.1753379 ,  1.2140787 ,  1.1569977 , ...,  0.11634361,\n",
       "         -0.35855392, -0.40490174],\n",
       "        [ 0.03859011,  0.53869987, -0.21089745, ...,  0.21858183,\n",
       "          0.72601724, -1.1158607 ],\n",
       "        ...,\n",
       "        [-0.07587045, -0.2542191 ,  0.7075512 , ...,  0.50542   ,\n",
       "         -0.18878683,  0.15028355],\n",
       "        [-0.160666  , -0.28089684,  0.57597065, ...,  0.52758557,\n",
       "         -0.1114136 ,  0.02887519],\n",
       "        [-0.04428155, -0.20279573,  0.59093577, ...,  0.8133834 ,\n",
       "         -0.390758  , -0.02601733]],\n",
       "\n",
       "       [[ 0.17233288,  0.07162805, -0.02259207, ..., -0.01281068,\n",
       "          0.03778928, -0.022087  ],\n",
       "        [ 1.1120234 ,  1.1168654 ,  1.3797739 , ...,  0.3846931 ,\n",
       "         -0.6988051 , -0.5431837 ],\n",
       "        [ 0.32921016,  0.34521556, -0.5101262 , ...,  0.29178104,\n",
       "         -0.33822832, -0.09487833],\n",
       "        ...,\n",
       "        [-0.05328538, -0.07061577,  0.8768302 , ...,  0.4266656 ,\n",
       "         -0.6507947 ,  0.0504358 ],\n",
       "        [-0.17331684, -0.10446821,  0.717097  , ...,  0.47622037,\n",
       "         -0.5262675 , -0.0382354 ],\n",
       "        [ 0.00690394,  0.00619071,  0.76648766, ...,  0.8132982 ,\n",
       "         -0.90524113, -0.10785875]]], dtype=float32)>"
      ]
     },
     "execution_count": 28,
     "metadata": {},
     "output_type": "execute_result"
    }
   ],
   "source": [
    "#Exploring the layer\n",
    "# 2 sentences , 128 (max), 768 size embedding vector\n",
    "bert_results['encoder_outputs'][0]"
   ]
  },
  {
   "cell_type": "code",
   "execution_count": 29,
   "id": "7c357854",
   "metadata": {},
   "outputs": [
    {
     "data": {
      "text/plain": [
       "<tf.Tensor: shape=(2, 128, 768), dtype=float32, numpy=\n",
       "array([[[ 0.07292067,  0.08567819,  0.14476839, ..., -0.09677105,\n",
       "          0.08722159,  0.07711076],\n",
       "        [ 0.17839423, -0.19006088,  0.5034951 , ..., -0.05869836,\n",
       "          0.32717168, -0.15578607],\n",
       "        [ 0.18701434, -0.43388814, -0.48875174, ..., -0.15502723,\n",
       "          0.00145242, -0.24470958],\n",
       "        ...,\n",
       "        [ 0.12083033,  0.12884216,  0.4645349 , ...,  0.07375568,\n",
       "          0.17441967,  0.16522148],\n",
       "        [ 0.07967912, -0.01190673,  0.50225425, ...,  0.13777754,\n",
       "          0.21002257,  0.00624568],\n",
       "        [-0.07212678, -0.28303456,  0.5903342 , ...,  0.4755191 ,\n",
       "          0.16668472, -0.08920309]],\n",
       "\n",
       "       [[-0.09913606,  0.01595346, -0.04634067, ..., -0.16810721,\n",
       "         -0.0738923 ,  0.05758078],\n",
       "        [ 0.15735416, -0.5526499 ,  0.5439889 , ..., -0.26460272,\n",
       "         -0.16227034,  0.104964  ],\n",
       "        [-0.63261294, -0.5519903 , -0.38234076, ...,  0.285734  ,\n",
       "         -0.11504608, -0.5958983 ],\n",
       "        ...,\n",
       "        [ 0.17415842, -0.09720878,  0.09895976, ..., -0.0375573 ,\n",
       "         -0.01826426,  0.1566921 ],\n",
       "        [-0.5250884 , -0.7919024 ,  0.01519417, ...,  0.25820488,\n",
       "         -0.20793673, -0.26029053],\n",
       "        [ 0.13073798, -0.14167854,  0.14501667, ..., -0.01861633,\n",
       "         -0.01190236,  0.06458878]]], dtype=float32)>"
      ]
     },
     "execution_count": 29,
     "metadata": {},
     "output_type": "execute_result"
    }
   ],
   "source": [
    "#The last vector is the sequential vector\n",
    "bert_results['encoder_outputs'][-1]"
   ]
  },
  {
   "cell_type": "code",
   "execution_count": 30,
   "id": "0da1fcb5",
   "metadata": {},
   "outputs": [
    {
     "data": {
      "text/plain": [
       "<tf.Tensor: shape=(2, 128, 768), dtype=bool, numpy=\n",
       "array([[[ True,  True,  True, ...,  True,  True,  True],\n",
       "        [ True,  True,  True, ...,  True,  True,  True],\n",
       "        [ True,  True,  True, ...,  True,  True,  True],\n",
       "        ...,\n",
       "        [ True,  True,  True, ...,  True,  True,  True],\n",
       "        [ True,  True,  True, ...,  True,  True,  True],\n",
       "        [ True,  True,  True, ...,  True,  True,  True]],\n",
       "\n",
       "       [[ True,  True,  True, ...,  True,  True,  True],\n",
       "        [ True,  True,  True, ...,  True,  True,  True],\n",
       "        [ True,  True,  True, ...,  True,  True,  True],\n",
       "        ...,\n",
       "        [ True,  True,  True, ...,  True,  True,  True],\n",
       "        [ True,  True,  True, ...,  True,  True,  True],\n",
       "        [ True,  True,  True, ...,  True,  True,  True]]])>"
      ]
     },
     "execution_count": 30,
     "metadata": {},
     "output_type": "execute_result"
    }
   ],
   "source": [
    "bert_results['encoder_outputs'][-1] == bert_results['sequence_output']"
   ]
  }
 ],
 "metadata": {
  "kernelspec": {
   "display_name": "Python 3 (ipykernel)",
   "language": "python",
   "name": "python3"
  },
  "language_info": {
   "codemirror_mode": {
    "name": "ipython",
    "version": 3
   },
   "file_extension": ".py",
   "mimetype": "text/x-python",
   "name": "python",
   "nbconvert_exporter": "python",
   "pygments_lexer": "ipython3",
   "version": "3.7.13"
  }
 },
 "nbformat": 4,
 "nbformat_minor": 5
}
