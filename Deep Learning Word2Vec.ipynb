{
 "cells": [
  {
   "cell_type": "code",
   "execution_count": 1,
   "id": "f15fca5d",
   "metadata": {
    "collapsed": true
   },
   "outputs": [
    {
     "name": "stdout",
     "output_type": "stream",
     "text": [
      "Collecting gensim\n",
      "  Downloading gensim-4.2.0-cp310-cp310-win_amd64.whl (23.9 MB)\n",
      "Collecting Cython==0.29.28\n",
      "  Using cached Cython-0.29.28-py2.py3-none-any.whl (983 kB)\n",
      "Requirement already satisfied: numpy>=1.17.0 in c:\\users\\julia\\anaconda3\\envs\\dl\\lib\\site-packages (from gensim) (1.22.4)\n",
      "Requirement already satisfied: scipy>=0.18.1 in c:\\users\\julia\\anaconda3\\envs\\dl\\lib\\site-packages (from gensim) (1.8.1)\n",
      "Collecting smart-open>=1.8.1\n",
      "  Downloading smart_open-6.0.0-py3-none-any.whl (58 kB)\n",
      "Installing collected packages: smart-open, Cython, gensim\n",
      "  Attempting uninstall: Cython\n",
      "    Found existing installation: Cython 0.29.30\n",
      "    Uninstalling Cython-0.29.30:\n",
      "      Successfully uninstalled Cython-0.29.30\n",
      "Successfully installed Cython-0.29.28 gensim-4.2.0 smart-open-6.0.0\n",
      "Note: you may need to restart the kernel to use updated packages.\n"
     ]
    },
    {
     "name": "stderr",
     "output_type": "stream",
     "text": [
      "WARNING: You are using pip version 22.1.2; however, version 22.2.1 is available.\n",
      "You should consider upgrading via the 'C:\\Users\\JULIA\\anaconda3\\envs\\dl\\python.exe -m pip install --upgrade pip' command.\n"
     ]
    }
   ],
   "source": [
    "pip install gensim"
   ]
  },
  {
   "cell_type": "code",
   "execution_count": 2,
   "id": "54868417",
   "metadata": {
    "collapsed": true
   },
   "outputs": [
    {
     "name": "stdout",
     "output_type": "stream",
     "text": [
      "Collecting python-Levenshtein\n",
      "  Downloading python-Levenshtein-0.12.2.tar.gz (50 kB)\n",
      "Requirement already satisfied: setuptools in c:\\users\\julia\\anaconda3\\envs\\dl\\lib\\site-packages (from python-Levenshtein) (61.2.0)\n",
      "Building wheels for collected packages: python-Levenshtein\n",
      "  Building wheel for python-Levenshtein (setup.py): started\n",
      "  Building wheel for python-Levenshtein (setup.py): finished with status 'done'\n",
      "  Created wheel for python-Levenshtein: filename=python_Levenshtein-0.12.2-cp310-cp310-win_amd64.whl size=81164 sha256=26d0417be772932ebef870c9740afaab3e8f8bed24a5d7703fb951d69cd3dd0f\n",
      "  Stored in directory: c:\\users\\julia\\appdata\\local\\pip\\cache\\wheels\\7b\\c3\\05\\60b4747cf52e0f6b6ee52022088a4de07d755016493e86373d\n",
      "Successfully built python-Levenshtein\n",
      "Installing collected packages: python-Levenshtein\n",
      "Successfully installed python-Levenshtein-0.12.2\n",
      "Note: you may need to restart the kernel to use updated packages.\n"
     ]
    },
    {
     "name": "stderr",
     "output_type": "stream",
     "text": [
      "WARNING: You are using pip version 22.1.2; however, version 22.2.1 is available.\n",
      "You should consider upgrading via the 'C:\\Users\\JULIA\\anaconda3\\envs\\dl\\python.exe -m pip install --upgrade pip' command.\n"
     ]
    }
   ],
   "source": [
    "pip install python-Levenshtein"
   ]
  },
  {
   "cell_type": "code",
   "execution_count": 2,
   "id": "3b705461",
   "metadata": {},
   "outputs": [],
   "source": [
    "import gensim\n",
    "import pandas as pd"
   ]
  },
  {
   "cell_type": "markdown",
   "id": "1f969a46",
   "metadata": {},
   "source": [
    "Download the Dataset (43MB)\n",
    "\n",
    "http://snap.stanford.edu/data/amazon/productGraph/categoryFiles/reviews_Cell_Phones_and_Accessories_5.json.gz\n",
    "\n",
    "You need to Unzip it"
   ]
  },
  {
   "cell_type": "code",
   "execution_count": 4,
   "id": "b9233567",
   "metadata": {},
   "outputs": [],
   "source": [
    "df = pd.read_json(\"Cell_Phones_and_Accessories_5.json\", lines=True)\n",
    "\n",
    "#Lines = True, each line is equal to 1 json Object"
   ]
  },
  {
   "cell_type": "code",
   "execution_count": 7,
   "id": "e9244056",
   "metadata": {},
   "outputs": [
    {
     "data": {
      "text/html": [
       "<div>\n",
       "<style scoped>\n",
       "    .dataframe tbody tr th:only-of-type {\n",
       "        vertical-align: middle;\n",
       "    }\n",
       "\n",
       "    .dataframe tbody tr th {\n",
       "        vertical-align: top;\n",
       "    }\n",
       "\n",
       "    .dataframe thead th {\n",
       "        text-align: right;\n",
       "    }\n",
       "</style>\n",
       "<table border=\"1\" class=\"dataframe\">\n",
       "  <thead>\n",
       "    <tr style=\"text-align: right;\">\n",
       "      <th></th>\n",
       "      <th>reviewerID</th>\n",
       "      <th>asin</th>\n",
       "      <th>reviewerName</th>\n",
       "      <th>helpful</th>\n",
       "      <th>reviewText</th>\n",
       "      <th>overall</th>\n",
       "      <th>summary</th>\n",
       "      <th>unixReviewTime</th>\n",
       "      <th>reviewTime</th>\n",
       "    </tr>\n",
       "  </thead>\n",
       "  <tbody>\n",
       "    <tr>\n",
       "      <th>0</th>\n",
       "      <td>A30TL5EWN6DFXT</td>\n",
       "      <td>120401325X</td>\n",
       "      <td>christina</td>\n",
       "      <td>[0, 0]</td>\n",
       "      <td>They look good and stick good! I just don't li...</td>\n",
       "      <td>4</td>\n",
       "      <td>Looks Good</td>\n",
       "      <td>1400630400</td>\n",
       "      <td>05 21, 2014</td>\n",
       "    </tr>\n",
       "    <tr>\n",
       "      <th>1</th>\n",
       "      <td>ASY55RVNIL0UD</td>\n",
       "      <td>120401325X</td>\n",
       "      <td>emily l.</td>\n",
       "      <td>[0, 0]</td>\n",
       "      <td>These stickers work like the review says they ...</td>\n",
       "      <td>5</td>\n",
       "      <td>Really great product.</td>\n",
       "      <td>1389657600</td>\n",
       "      <td>01 14, 2014</td>\n",
       "    </tr>\n",
       "    <tr>\n",
       "      <th>2</th>\n",
       "      <td>A2TMXE2AFO7ONB</td>\n",
       "      <td>120401325X</td>\n",
       "      <td>Erica</td>\n",
       "      <td>[0, 0]</td>\n",
       "      <td>These are awesome and make my phone look so st...</td>\n",
       "      <td>5</td>\n",
       "      <td>LOVE LOVE LOVE</td>\n",
       "      <td>1403740800</td>\n",
       "      <td>06 26, 2014</td>\n",
       "    </tr>\n",
       "    <tr>\n",
       "      <th>3</th>\n",
       "      <td>AWJ0WZQYMYFQ4</td>\n",
       "      <td>120401325X</td>\n",
       "      <td>JM</td>\n",
       "      <td>[4, 4]</td>\n",
       "      <td>Item arrived in great time and was in perfect ...</td>\n",
       "      <td>4</td>\n",
       "      <td>Cute!</td>\n",
       "      <td>1382313600</td>\n",
       "      <td>10 21, 2013</td>\n",
       "    </tr>\n",
       "    <tr>\n",
       "      <th>4</th>\n",
       "      <td>ATX7CZYFXI1KW</td>\n",
       "      <td>120401325X</td>\n",
       "      <td>patrice m rogoza</td>\n",
       "      <td>[2, 3]</td>\n",
       "      <td>awesome! stays on, and looks great. can be use...</td>\n",
       "      <td>5</td>\n",
       "      <td>leopard home button sticker for iphone 4s</td>\n",
       "      <td>1359849600</td>\n",
       "      <td>02 3, 2013</td>\n",
       "    </tr>\n",
       "    <tr>\n",
       "      <th>...</th>\n",
       "      <td>...</td>\n",
       "      <td>...</td>\n",
       "      <td>...</td>\n",
       "      <td>...</td>\n",
       "      <td>...</td>\n",
       "      <td>...</td>\n",
       "      <td>...</td>\n",
       "      <td>...</td>\n",
       "      <td>...</td>\n",
       "    </tr>\n",
       "    <tr>\n",
       "      <th>194434</th>\n",
       "      <td>A1YMNTFLNDYQ1F</td>\n",
       "      <td>B00LORXVUE</td>\n",
       "      <td>eyeused2loveher</td>\n",
       "      <td>[0, 0]</td>\n",
       "      <td>Works great just like my original one. I reall...</td>\n",
       "      <td>5</td>\n",
       "      <td>This works just perfect!</td>\n",
       "      <td>1405900800</td>\n",
       "      <td>07 21, 2014</td>\n",
       "    </tr>\n",
       "    <tr>\n",
       "      <th>194435</th>\n",
       "      <td>A15TX8B2L8B20S</td>\n",
       "      <td>B00LORXVUE</td>\n",
       "      <td>Jon Davidson</td>\n",
       "      <td>[0, 0]</td>\n",
       "      <td>Great product. Great packaging. High quality a...</td>\n",
       "      <td>5</td>\n",
       "      <td>Great replacement cable. Apple certified</td>\n",
       "      <td>1405900800</td>\n",
       "      <td>07 21, 2014</td>\n",
       "    </tr>\n",
       "    <tr>\n",
       "      <th>194436</th>\n",
       "      <td>A3JI7QRZO1QG8X</td>\n",
       "      <td>B00LORXVUE</td>\n",
       "      <td>Joyce M. Davidson</td>\n",
       "      <td>[0, 0]</td>\n",
       "      <td>This is a great cable, just as good as the mor...</td>\n",
       "      <td>5</td>\n",
       "      <td>Real quality</td>\n",
       "      <td>1405900800</td>\n",
       "      <td>07 21, 2014</td>\n",
       "    </tr>\n",
       "    <tr>\n",
       "      <th>194437</th>\n",
       "      <td>A1NHB2VC68YQNM</td>\n",
       "      <td>B00LORXVUE</td>\n",
       "      <td>Nurse Farrugia</td>\n",
       "      <td>[0, 0]</td>\n",
       "      <td>I really like it becasue it works well with my...</td>\n",
       "      <td>5</td>\n",
       "      <td>I really like it becasue it works well with my...</td>\n",
       "      <td>1405814400</td>\n",
       "      <td>07 20, 2014</td>\n",
       "    </tr>\n",
       "    <tr>\n",
       "      <th>194438</th>\n",
       "      <td>A1AG6U022WHXBF</td>\n",
       "      <td>B00LORXVUE</td>\n",
       "      <td>Trisha Crocker</td>\n",
       "      <td>[0, 0]</td>\n",
       "      <td>product as described, I have wasted a lot of m...</td>\n",
       "      <td>5</td>\n",
       "      <td>I have wasted a lot of money on cords</td>\n",
       "      <td>1405900800</td>\n",
       "      <td>07 21, 2014</td>\n",
       "    </tr>\n",
       "  </tbody>\n",
       "</table>\n",
       "<p>194439 rows × 9 columns</p>\n",
       "</div>"
      ],
      "text/plain": [
       "            reviewerID        asin       reviewerName helpful  \\\n",
       "0       A30TL5EWN6DFXT  120401325X          christina  [0, 0]   \n",
       "1        ASY55RVNIL0UD  120401325X           emily l.  [0, 0]   \n",
       "2       A2TMXE2AFO7ONB  120401325X              Erica  [0, 0]   \n",
       "3        AWJ0WZQYMYFQ4  120401325X                 JM  [4, 4]   \n",
       "4        ATX7CZYFXI1KW  120401325X   patrice m rogoza  [2, 3]   \n",
       "...                ...         ...                ...     ...   \n",
       "194434  A1YMNTFLNDYQ1F  B00LORXVUE    eyeused2loveher  [0, 0]   \n",
       "194435  A15TX8B2L8B20S  B00LORXVUE       Jon Davidson  [0, 0]   \n",
       "194436  A3JI7QRZO1QG8X  B00LORXVUE  Joyce M. Davidson  [0, 0]   \n",
       "194437  A1NHB2VC68YQNM  B00LORXVUE     Nurse Farrugia  [0, 0]   \n",
       "194438  A1AG6U022WHXBF  B00LORXVUE     Trisha Crocker  [0, 0]   \n",
       "\n",
       "                                               reviewText  overall  \\\n",
       "0       They look good and stick good! I just don't li...        4   \n",
       "1       These stickers work like the review says they ...        5   \n",
       "2       These are awesome and make my phone look so st...        5   \n",
       "3       Item arrived in great time and was in perfect ...        4   \n",
       "4       awesome! stays on, and looks great. can be use...        5   \n",
       "...                                                   ...      ...   \n",
       "194434  Works great just like my original one. I reall...        5   \n",
       "194435  Great product. Great packaging. High quality a...        5   \n",
       "194436  This is a great cable, just as good as the mor...        5   \n",
       "194437  I really like it becasue it works well with my...        5   \n",
       "194438  product as described, I have wasted a lot of m...        5   \n",
       "\n",
       "                                                  summary  unixReviewTime  \\\n",
       "0                                              Looks Good      1400630400   \n",
       "1                                   Really great product.      1389657600   \n",
       "2                                          LOVE LOVE LOVE      1403740800   \n",
       "3                                                   Cute!      1382313600   \n",
       "4               leopard home button sticker for iphone 4s      1359849600   \n",
       "...                                                   ...             ...   \n",
       "194434                           This works just perfect!      1405900800   \n",
       "194435           Great replacement cable. Apple certified      1405900800   \n",
       "194436                                       Real quality      1405900800   \n",
       "194437  I really like it becasue it works well with my...      1405814400   \n",
       "194438              I have wasted a lot of money on cords      1405900800   \n",
       "\n",
       "         reviewTime  \n",
       "0       05 21, 2014  \n",
       "1       01 14, 2014  \n",
       "2       06 26, 2014  \n",
       "3       10 21, 2013  \n",
       "4        02 3, 2013  \n",
       "...             ...  \n",
       "194434  07 21, 2014  \n",
       "194435  07 21, 2014  \n",
       "194436  07 21, 2014  \n",
       "194437  07 20, 2014  \n",
       "194438  07 21, 2014  \n",
       "\n",
       "[194439 rows x 9 columns]"
      ]
     },
     "execution_count": 7,
     "metadata": {},
     "output_type": "execute_result"
    }
   ],
   "source": [
    "#The reviews\n",
    "df"
   ]
  },
  {
   "cell_type": "code",
   "execution_count": 10,
   "id": "e67cdaa8",
   "metadata": {},
   "outputs": [
    {
     "data": {
      "text/plain": [
       "(194439, 9)"
      ]
     },
     "execution_count": 10,
     "metadata": {},
     "output_type": "execute_result"
    }
   ],
   "source": [
    "df.shape\n",
    "#194439 reviews ! "
   ]
  },
  {
   "cell_type": "code",
   "execution_count": 8,
   "id": "235c69a4",
   "metadata": {},
   "outputs": [],
   "source": [
    "#We will train Word2Vec using only the review Text column"
   ]
  },
  {
   "cell_type": "code",
   "execution_count": 11,
   "id": "092ae2d5",
   "metadata": {},
   "outputs": [
    {
     "data": {
      "text/plain": [
       "\"I purchased this product to send over to my wife who is on a trip, and complained about typing on a Blackberry. I thought I better install it before sending it after her, so I could guide her along. No PC where she is, so I tried to download as advertised. Result: Page Not Found.Company advised that since this is a discontinued item (?) they took down the support pages.This would not be an issue normally - you can install the driver from a PC.It is the principle that a company can maintain a manufacturer's description while not the web page to support the claim...You know a manufacturer is a scumbag when their feedback/survey link gives you an error message back...If any doubts read the blackberry link from the bottom of the review page, or click on the one star reviews. A shame\""
      ]
     },
     "execution_count": 11,
     "metadata": {},
     "output_type": "execute_result"
    }
   ],
   "source": [
    "df.reviewText[666]"
   ]
  },
  {
   "cell_type": "code",
   "execution_count": 14,
   "id": "eb846d69",
   "metadata": {},
   "outputs": [],
   "source": [
    "#The first step to do is preprocessing\n",
    "#We need to delete some words like \"it, to...\", Also convert all the words into a lowercase"
   ]
  },
  {
   "cell_type": "code",
   "execution_count": 16,
   "id": "e6f5511f",
   "metadata": {},
   "outputs": [
    {
     "data": {
      "text/plain": [
       "['purchased',\n",
       " 'this',\n",
       " 'product',\n",
       " 'to',\n",
       " 'send',\n",
       " 'over',\n",
       " 'to',\n",
       " 'my',\n",
       " 'wife',\n",
       " 'who',\n",
       " 'is',\n",
       " 'on',\n",
       " 'trip',\n",
       " 'and',\n",
       " 'complained',\n",
       " 'about',\n",
       " 'typing',\n",
       " 'on',\n",
       " 'blackberry',\n",
       " 'thought',\n",
       " 'better',\n",
       " 'install',\n",
       " 'it',\n",
       " 'before',\n",
       " 'sending',\n",
       " 'it',\n",
       " 'after',\n",
       " 'her',\n",
       " 'so',\n",
       " 'could',\n",
       " 'guide',\n",
       " 'her',\n",
       " 'along',\n",
       " 'no',\n",
       " 'pc',\n",
       " 'where',\n",
       " 'she',\n",
       " 'is',\n",
       " 'so',\n",
       " 'tried',\n",
       " 'to',\n",
       " 'download',\n",
       " 'as',\n",
       " 'advertised',\n",
       " 'result',\n",
       " 'page',\n",
       " 'not',\n",
       " 'found',\n",
       " 'company',\n",
       " 'advised',\n",
       " 'that',\n",
       " 'since',\n",
       " 'this',\n",
       " 'is',\n",
       " 'discontinued',\n",
       " 'item',\n",
       " 'they',\n",
       " 'took',\n",
       " 'down',\n",
       " 'the',\n",
       " 'support',\n",
       " 'pages',\n",
       " 'this',\n",
       " 'would',\n",
       " 'not',\n",
       " 'be',\n",
       " 'an',\n",
       " 'issue',\n",
       " 'normally',\n",
       " 'you',\n",
       " 'can',\n",
       " 'install',\n",
       " 'the',\n",
       " 'driver',\n",
       " 'from',\n",
       " 'pc',\n",
       " 'it',\n",
       " 'is',\n",
       " 'the',\n",
       " 'principle',\n",
       " 'that',\n",
       " 'company',\n",
       " 'can',\n",
       " 'maintain',\n",
       " 'manufacturer',\n",
       " 'description',\n",
       " 'while',\n",
       " 'not',\n",
       " 'the',\n",
       " 'web',\n",
       " 'page',\n",
       " 'to',\n",
       " 'support',\n",
       " 'the',\n",
       " 'claim',\n",
       " 'you',\n",
       " 'know',\n",
       " 'manufacturer',\n",
       " 'is',\n",
       " 'scumbag',\n",
       " 'when',\n",
       " 'their',\n",
       " 'feedback',\n",
       " 'survey',\n",
       " 'link',\n",
       " 'gives',\n",
       " 'you',\n",
       " 'an',\n",
       " 'error',\n",
       " 'message',\n",
       " 'back',\n",
       " 'if',\n",
       " 'any',\n",
       " 'doubts',\n",
       " 'read',\n",
       " 'the',\n",
       " 'blackberry',\n",
       " 'link',\n",
       " 'from',\n",
       " 'the',\n",
       " 'bottom',\n",
       " 'of',\n",
       " 'the',\n",
       " 'review',\n",
       " 'page',\n",
       " 'or',\n",
       " 'click',\n",
       " 'on',\n",
       " 'the',\n",
       " 'one',\n",
       " 'star',\n",
       " 'reviews',\n",
       " 'shame']"
      ]
     },
     "execution_count": 16,
     "metadata": {},
     "output_type": "execute_result"
    }
   ],
   "source": [
    "gensim.utils.simple_preprocess(\"I purchased this product to send over to my wife who is on a trip, and complained about typing on a Blackberry. I thought I better install it before sending it after her, so I could guide her along. No PC where she is, so I tried to download as advertised. Result: Page Not Found.Company advised that since this is a discontinued item (?) they took down the support pages.This would not be an issue normally - you can install the driver from a PC.It is the principle that a company can maintain a manufacturer's description while not the web page to support the claim...You know a manufacturer is a scumbag when their feedback/survey link gives you an error message back...If any doubts read the blackberry link from the bottom of the review page, or click on the one star reviews. A shame\")\n",
    "#Preprocessing in 1 line !"
   ]
  },
  {
   "cell_type": "code",
   "execution_count": 17,
   "id": "5a8937b6",
   "metadata": {},
   "outputs": [],
   "source": [
    "#Let's use it for the entire column"
   ]
  },
  {
   "cell_type": "code",
   "execution_count": 18,
   "id": "fa04033f",
   "metadata": {},
   "outputs": [
    {
     "data": {
      "text/plain": [
       "0         [they, look, good, and, stick, good, just, don...\n",
       "1         [these, stickers, work, like, the, review, say...\n",
       "2         [these, are, awesome, and, make, my, phone, lo...\n",
       "3         [item, arrived, in, great, time, and, was, in,...\n",
       "4         [awesome, stays, on, and, looks, great, can, b...\n",
       "                                ...                        \n",
       "194434    [works, great, just, like, my, original, one, ...\n",
       "194435    [great, product, great, packaging, high, quali...\n",
       "194436    [this, is, great, cable, just, as, good, as, t...\n",
       "194437    [really, like, it, becasue, it, works, well, w...\n",
       "194438    [product, as, described, have, wasted, lot, of...\n",
       "Name: reviewText, Length: 194439, dtype: object"
      ]
     },
     "execution_count": 18,
     "metadata": {},
     "output_type": "execute_result"
    }
   ],
   "source": [
    "review_text = df.reviewText.apply(gensim.utils.simple_preprocess)\n",
    "review_text"
   ]
  },
  {
   "cell_type": "code",
   "execution_count": 20,
   "id": "39c165b5",
   "metadata": {},
   "outputs": [],
   "source": [
    "#Creating a model\n",
    "model = gensim.models.Word2Vec(\n",
    "    window=10,\n",
    "    min_count=2,\n",
    "    workers=4,\n",
    ")"
   ]
  },
  {
   "cell_type": "code",
   "execution_count": 21,
   "id": "286803f8",
   "metadata": {},
   "outputs": [],
   "source": [
    "#We need the vocabulary\n",
    "\n",
    "model.build_vocab(review_text,progress_per=1000)\n",
    "#progress_per, each 1000 words we will look at the progress bar"
   ]
  },
  {
   "cell_type": "code",
   "execution_count": 23,
   "id": "c35bf461",
   "metadata": {},
   "outputs": [
    {
     "data": {
      "text/plain": [
       "5"
      ]
     },
     "execution_count": 23,
     "metadata": {},
     "output_type": "execute_result"
    }
   ],
   "source": [
    "#By default the epochs are set to 5\n",
    "model.epochs"
   ]
  },
  {
   "cell_type": "code",
   "execution_count": 25,
   "id": "eb2f01a7",
   "metadata": {},
   "outputs": [
    {
     "data": {
      "text/plain": [
       "(61508845, 83868975)"
      ]
     },
     "execution_count": 25,
     "metadata": {},
     "output_type": "execute_result"
    }
   ],
   "source": [
    "model.train(review_text, total_examples=model.corpus_count, epochs=model.epochs)\n",
    "#model.corpus.count is the number of review\n",
    "#It's will explore all the 194439 sentences and build the word2vec"
   ]
  },
  {
   "cell_type": "code",
   "execution_count": 26,
   "id": "7813070d",
   "metadata": {},
   "outputs": [],
   "source": [
    "#save the model\n",
    "model.save(\"ssm_word2vec\")\n",
    "#We can use it for our NLP needs later!"
   ]
  },
  {
   "cell_type": "code",
   "execution_count": 28,
   "id": "050f1992",
   "metadata": {},
   "outputs": [
    {
     "data": {
      "text/plain": [
       "[('shabby', 0.6759400367736816),\n",
       " ('terrible', 0.6517844796180725),\n",
       " ('good', 0.5975961089134216),\n",
       " ('horrible', 0.5860827565193176),\n",
       " ('okay', 0.5510695576667786),\n",
       " ('crappy', 0.5277971625328064),\n",
       " ('disappointing', 0.5113025307655334),\n",
       " ('poor', 0.5075380206108093),\n",
       " ('ok', 0.5029312968254089),\n",
       " ('legit', 0.49727314710617065)]"
      ]
     },
     "execution_count": 28,
     "metadata": {},
     "output_type": "execute_result"
    }
   ],
   "source": [
    "#Evaluating the model , word similar to bad\n",
    "model.wv.most_similar(\"bad\")\n",
    "#bad and good are similar where it is the opposite of bad"
   ]
  },
  {
   "cell_type": "code",
   "execution_count": 29,
   "id": "415ae151",
   "metadata": {},
   "outputs": [
    {
     "data": {
      "text/plain": [
       "0.5975961"
      ]
     },
     "execution_count": 29,
     "metadata": {},
     "output_type": "execute_result"
    }
   ],
   "source": [
    "#Similarity of 2 words\n",
    "model.wv.similarity(w1=\"good\", w2=\"bad\")"
   ]
  },
  {
   "cell_type": "code",
   "execution_count": null,
   "id": "91022b70",
   "metadata": {},
   "outputs": [],
   "source": []
  }
 ],
 "metadata": {
  "kernelspec": {
   "display_name": "Python 3 (ipykernel)",
   "language": "python",
   "name": "python3"
  },
  "language_info": {
   "codemirror_mode": {
    "name": "ipython",
    "version": 3
   },
   "file_extension": ".py",
   "mimetype": "text/x-python",
   "name": "python",
   "nbconvert_exporter": "python",
   "pygments_lexer": "ipython3",
   "version": "3.10.4"
  }
 },
 "nbformat": 4,
 "nbformat_minor": 5
}
