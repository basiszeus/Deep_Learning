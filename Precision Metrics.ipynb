{
 "cells": [
  {
   "cell_type": "markdown",
   "id": "7c2fd373",
   "metadata": {},
   "source": [
    "<center><h1 style=\"background-color: #C6F3CD; border-radius: 10px; color: #FFFFFF; padding: 5px;\">\n",
    "Precision Metrics\n",
    "</h1><center/>"
   ]
  },
  {
   "cell_type": "markdown",
   "id": "bdfa8b4c",
   "metadata": {},
   "source": [
    "**Link to the article** : https://medium.com/@soulawalid/precision-metrics-for-classification-models-751f450317df?sk=39d1ffd604aebbd3145a7d32fe395d76"
   ]
  },
  {
   "cell_type": "code",
   "execution_count": 1,
   "id": "74e975ca",
   "metadata": {},
   "outputs": [],
   "source": [
    "from sklearn.metrics import precision_score\n",
    "from sklearn.metrics import recall_score\n",
    "from sklearn.metrics import f1_score\n",
    "from sklearn.metrics import accuracy_score\n",
    "from sklearn.metrics import classification_report"
   ]
  },
  {
   "cell_type": "code",
   "execution_count": 2,
   "id": "c55f2238",
   "metadata": {},
   "outputs": [
    {
     "name": "stdout",
     "output_type": "stream",
     "text": [
      "Precision: 0.80\n"
     ]
    }
   ],
   "source": [
    "# True labels\n",
    "y_true = [0, 1, 1, 1, 0, 1, 0, 1, 1, 0]\n",
    "# Predicted labels\n",
    "y_pred = [0, 1, 0, 1, 0, 1, 1, 1, 0, 0]\n",
    "\n",
    "# Calculate Precision\n",
    "precision = precision_score(y_true, y_pred)\n",
    "print(f\"Precision: {precision:.2f}\")"
   ]
  },
  {
   "cell_type": "code",
   "execution_count": 3,
   "id": "2d0dc9c5",
   "metadata": {},
   "outputs": [
    {
     "name": "stdout",
     "output_type": "stream",
     "text": [
      "Recall: 0.83\n"
     ]
    }
   ],
   "source": [
    "# => True labels (non-target fish: 0, target fish: 1)\n",
    "y_true = [0, 1, 1, 1, 0, 1, 0, 1, 1, 0]\n",
    "# => Predicted labels (fisherman's catch)\n",
    "y_pred = [0, 1, 0, 1, 0, 1, 0, 1, 1, 0]\n",
    "\n",
    "# =>Calculate Recall\n",
    "recall = recall_score(y_true, y_pred)\n",
    "print(f\"Recall: {recall:.2f}\")"
   ]
  },
  {
   "cell_type": "code",
   "execution_count": 4,
   "id": "02754178",
   "metadata": {},
   "outputs": [
    {
     "name": "stdout",
     "output_type": "stream",
     "text": [
      "F1-Score: 0.91\n"
     ]
    }
   ],
   "source": [
    "# => True labels (healthy: 0, sick: 1)\n",
    "y_true = [0, 1, 1, 1, 0, 1, 0, 1, 1, 0]\n",
    "# =>  Predicted labels (doctor's diagnosis)\n",
    "y_pred = [0, 1, 0, 1, 0, 1, 0, 1, 1, 0]\n",
    "\n",
    "# => Calculate F1-Score\n",
    "f1 = f1_score(y_true, y_pred)\n",
    "print(f\"F1-Score: {f1:.2f}\")"
   ]
  },
  {
   "cell_type": "code",
   "execution_count": 5,
   "id": "b652b442",
   "metadata": {},
   "outputs": [
    {
     "name": "stdout",
     "output_type": "stream",
     "text": [
      "              precision    recall  f1-score   support\n",
      "\n",
      "           0       0.80      1.00      0.89         4\n",
      "           1       1.00      0.83      0.91         6\n",
      "\n",
      "    accuracy                           0.90        10\n",
      "   macro avg       0.90      0.92      0.90        10\n",
      "weighted avg       0.92      0.90      0.90        10\n",
      "\n"
     ]
    }
   ],
   "source": [
    "# => True labels\n",
    "y_true = [0, 1, 1, 1, 0, 1, 0, 1, 1, 0]\n",
    "# => Predicted labels\n",
    "y_pred = [0, 1, 0, 1, 0, 1, 0, 1, 1, 0]\n",
    "\n",
    "# =>  Generate classification report\n",
    "report = classification_report(y_true, y_pred)\n",
    "print(report)"
   ]
  },
  {
   "cell_type": "code",
   "execution_count": 6,
   "id": "3322c84b",
   "metadata": {},
   "outputs": [
    {
     "name": "stdout",
     "output_type": "stream",
     "text": [
      "Accuracy: 0.90\n"
     ]
    }
   ],
   "source": [
    "# => True labels (correct calls: 1, incorrect calls: 0)\n",
    "y_true = [0, 1, 1, 1, 0, 1, 0, 1, 1, 0]\n",
    "# => Predicted labels (referee's calls)\n",
    "y_pred = [0, 1, 0, 1, 0, 1, 0, 1, 1, 0]\n",
    "\n",
    "# => Calculate Accuracy\n",
    "accuracy = accuracy_score(y_true, y_pred)\n",
    "print(f\"Accuracy: {accuracy:.2f}\")"
   ]
  }
 ],
 "metadata": {
  "kernelspec": {
   "display_name": "Python 3 (ipykernel)",
   "language": "python",
   "name": "python3"
  },
  "language_info": {
   "codemirror_mode": {
    "name": "ipython",
    "version": 3
   },
   "file_extension": ".py",
   "mimetype": "text/x-python",
   "name": "python",
   "nbconvert_exporter": "python",
   "pygments_lexer": "ipython3",
   "version": "3.11.5"
  }
 },
 "nbformat": 4,
 "nbformat_minor": 5
}
