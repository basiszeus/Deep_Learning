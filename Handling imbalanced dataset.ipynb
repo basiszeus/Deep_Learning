{
 "cells": [
  {
   "cell_type": "markdown",
   "id": "f5cafae5",
   "metadata": {},
   "source": [
    "<center><h1 style=\"background-color: #C6F3CD; border-radius: 10px; color: #FFFFFF; padding: 5px;\">\n",
    "Handling imbalanced dataset\n",
    "</h1><center/>\n"
   ]
  },
  {
   "cell_type": "markdown",
   "id": "763e6c25",
   "metadata": {},
   "source": [
    "**Link to the article** : https://medium.com/@soulawalid/how-to-handling-imbalanced-dataset-8bfe0b37db90"
   ]
  },
  {
   "cell_type": "markdown",
   "id": "44edbe29",
   "metadata": {},
   "source": [
    "<h2 style=\"background-color: #C6F3CD; border-radius: 10px; color: #FFFFFF; padding: 5px;\">\n",
    "Load the data\n",
    "</h2>"
   ]
  },
  {
   "cell_type": "code",
   "execution_count": null,
   "id": "dbb70fba",
   "metadata": {},
   "outputs": [],
   "source": [
    "import pandas as pd\n",
    "from sklearn.utils import resample"
   ]
  },
  {
   "cell_type": "code",
   "execution_count": null,
   "id": "8c8d7db9",
   "metadata": {},
   "outputs": [],
   "source": [
    "df = pd.read_csv('Datasets/customer_churn.csv')\n",
    "df.head()"
   ]
  },
  {
   "cell_type": "markdown",
   "id": "7cd43930",
   "metadata": {},
   "source": [
    "<h2 style=\"background-color: #C6F3CD; border-radius: 10px; color: #FFFFFF; padding: 5px;\">\n",
    "Under sampling majority class\n",
    "</h2>"
   ]
  },
  {
   "cell_type": "code",
   "execution_count": null,
   "id": "4aed544e",
   "metadata": {},
   "outputs": [],
   "source": [
    "df_yes = df[df['Churn'] == 'Yes']\n",
    "df_no = df[df['Churn'] == 'No']"
   ]
  },
  {
   "cell_type": "code",
   "execution_count": null,
   "id": "ac52af92",
   "metadata": {},
   "outputs": [],
   "source": [
    "No = df[df['Churn'] == 'No'].shape[0]\n",
    "Yes = df[df['Churn'] == 'Yes'].shape[0]\n",
    "\n",
    "No, Yes"
   ]
  },
  {
   "cell_type": "code",
   "execution_count": null,
   "id": "90400cc1",
   "metadata": {},
   "outputs": [],
   "source": [
    "# Number of samples in the minority class (Yes = 1869)\n",
    "n_samples = Yes\n",
    "n_samples"
   ]
  },
  {
   "cell_type": "code",
   "execution_count": null,
   "id": "9c7eb320",
   "metadata": {},
   "outputs": [],
   "source": [
    "# Randomly sample the majority class (No = 5174) to match the minority class\n",
    "\n",
    "df_no_undersampled = df_no.sample(n=n_samples, random_state=42)\n",
    "df_no_undersampled.shape[0]"
   ]
  },
  {
   "cell_type": "code",
   "execution_count": null,
   "id": "7ba14ba9",
   "metadata": {},
   "outputs": [],
   "source": [
    "# Combine the undersampled majority class with the minority class\n",
    "df_balanced = pd.concat([df_no_undersampled, df_yes])\n",
    "df_balanced.shape[0]"
   ]
  },
  {
   "cell_type": "code",
   "execution_count": null,
   "id": "76773bfa",
   "metadata": {},
   "outputs": [],
   "source": [
    "df_balanced"
   ]
  },
  {
   "cell_type": "code",
   "execution_count": null,
   "id": "6951d2e0",
   "metadata": {},
   "outputs": [],
   "source": [
    "# Shuffle the resulting DataFrame to mix the classes\n",
    "df_balanced = df_balanced.sample(frac=1, random_state=42).reset_index(drop=True)"
   ]
  },
  {
   "cell_type": "code",
   "execution_count": null,
   "id": "4d810013",
   "metadata": {},
   "outputs": [],
   "source": [
    "# Check the class distribution in the balanced dataset\n",
    "print(df_balanced['Churn'].value_counts())"
   ]
  },
  {
   "cell_type": "markdown",
   "id": "27358b20",
   "metadata": {},
   "source": [
    "<h2 style=\"background-color: #C6F3CD; border-radius: 10px; color: #FFFFFF; padding: 5px;\">\n",
    "OverSampling\n",
    "</h2>"
   ]
  },
  {
   "cell_type": "code",
   "execution_count": null,
   "id": "da9d9e16",
   "metadata": {},
   "outputs": [],
   "source": [
    "df2 = pd.read_csv('Datasets/customer_churn.csv')\n",
    "df2.head()"
   ]
  },
  {
   "cell_type": "code",
   "execution_count": null,
   "id": "37902550",
   "metadata": {},
   "outputs": [],
   "source": [
    "df_yes = df2[df2['Churn'] == 'Yes']\n",
    "df_no = df2[df2['Churn'] == 'No']"
   ]
  },
  {
   "cell_type": "code",
   "execution_count": null,
   "id": "31760e30",
   "metadata": {},
   "outputs": [],
   "source": [
    "# Number of samples in the majority class (5174)\n",
    "n_samples = df_no.shape[0]\n",
    "n_samples"
   ]
  },
  {
   "cell_type": "code",
   "execution_count": null,
   "id": "92d9658f",
   "metadata": {},
   "outputs": [],
   "source": [
    "# Oversample the minority class to match the majority class\n",
    "df_yes_oversampled = resample(df_yes, replace=True, n_samples=n_samples, random_state=42)\n",
    "df_yes_oversampled"
   ]
  },
  {
   "cell_type": "code",
   "execution_count": null,
   "id": "a71884ca",
   "metadata": {},
   "outputs": [],
   "source": [
    "# Combine the oversampled minority class with the majority class\n",
    "df_balanced = pd.concat([df_no, df_yes_oversampled])"
   ]
  },
  {
   "cell_type": "code",
   "execution_count": null,
   "id": "f7f6bf6e",
   "metadata": {},
   "outputs": [],
   "source": [
    "# Shuffle the resulting DataFrame to mix the classes\n",
    "df_balanced = df_balanced.sample(frac=1, random_state=42).reset_index(drop=True)\n",
    "\n",
    "# Check the class distribution in the balanced dataset\n",
    "print(df_balanced['Churn'].value_counts())"
   ]
  },
  {
   "cell_type": "markdown",
   "id": "bd23d7d7",
   "metadata": {},
   "source": [
    "<h2 style=\"background-color: #C6F3CD; border-radius: 10px; color: #FFFFFF; padding: 5px;\">\n",
    "SMOT\n",
    "</h2>"
   ]
  },
  {
   "cell_type": "code",
   "execution_count": null,
   "id": "90773069",
   "metadata": {},
   "outputs": [],
   "source": [
    "import pandas as pd\n",
    "from imblearn.over_sampling import SMOTE"
   ]
  },
  {
   "cell_type": "code",
   "execution_count": null,
   "id": "c5b29e6e",
   "metadata": {},
   "outputs": [],
   "source": [
    "# Separate the features and the target variable\n",
    "X = df[['tenure']]\n",
    "y = df['Churn']"
   ]
  },
  {
   "cell_type": "code",
   "execution_count": null,
   "id": "9644c829",
   "metadata": {},
   "outputs": [],
   "source": [
    "# Apply SMOTE to generate synthetic samples for the minority class\n",
    "smote = SMOTE(random_state=42)\n",
    "X_resampled, y_resampled = smote.fit_resample(X, y)"
   ]
  },
  {
   "cell_type": "code",
   "execution_count": null,
   "id": "05438a7b",
   "metadata": {},
   "outputs": [],
   "source": [
    "# Combine the resampled features and target into a new DataFrame\n",
    "df_balanced = pd.DataFrame(X_resampled, columns=X.columns)\n",
    "df_balanced['Churn'] = y_resampled\n",
    "\n",
    "# Check the class distribution in the balanced dataset\n",
    "print(df_balanced['Churn'].value_counts())\n",
    "\n",
    "# No     5174\n",
    "# Yes    5174\n",
    "# Name: count, dtype: int64"
   ]
  },
  {
   "cell_type": "code",
   "execution_count": null,
   "id": "fac9cd2a",
   "metadata": {},
   "outputs": [],
   "source": []
  }
 ],
 "metadata": {
  "kernelspec": {
   "display_name": "Python 3 (ipykernel)",
   "language": "python",
   "name": "python3"
  },
  "language_info": {
   "codemirror_mode": {
    "name": "ipython",
    "version": 3
   },
   "file_extension": ".py",
   "mimetype": "text/x-python",
   "name": "python",
   "nbconvert_exporter": "python",
   "pygments_lexer": "ipython3",
   "version": "3.11.5"
  }
 },
 "nbformat": 4,
 "nbformat_minor": 5
}
